{
 "cells": [
  {
   "cell_type": "markdown",
   "id": "8344b1cf",
   "metadata": {
    "papermill": {
     "duration": 0.012171,
     "end_time": "2023-12-17T06:48:58.915826",
     "exception": false,
     "start_time": "2023-12-17T06:48:58.903655",
     "status": "completed"
    },
    "tags": []
   },
   "source": [
    "Scenario\n",
    "\n",
    "You are a junior data analyst working on the marketing analyst team at Bellabeat, a high-tech manufacturer of health-focused\n",
    "products for women. Bellabeat is a successful small company, but they have the potential to become a larger player in the\n",
    "global smart device market. Urška Sršen, cofounder and Chief Creative Officer of Bellabeat, believes that analyzing smart\n",
    "device fitness data could help unlock new growth opportunities for the company. You have been asked to focus on one of\n",
    "Bellabeat’s products and analyze smart device data to gain insight into how consumers are using their smart devices. The\n",
    "insights you discover will then help guide marketing strategy for the company."
   ]
  },
  {
   "cell_type": "markdown",
   "id": "0618d589",
   "metadata": {
    "papermill": {
     "duration": 0.011503,
     "end_time": "2023-12-17T06:48:58.939351",
     "exception": false,
     "start_time": "2023-12-17T06:48:58.927848",
     "status": "completed"
    },
    "tags": []
   },
   "source": [
    "Step 1: Ask\n",
    "\n",
    "Analyze smart device usage data in order to gain insight into how consumers use non-Bellabeat smart\n",
    "devices. "
   ]
  },
  {
   "cell_type": "markdown",
   "id": "220b9b73",
   "metadata": {
    "papermill": {
     "duration": 0.010897,
     "end_time": "2023-12-17T06:48:58.961284",
     "exception": false,
     "start_time": "2023-12-17T06:48:58.950387",
     "status": "completed"
    },
    "tags": []
   },
   "source": [
    "Step 2: Prepare by loading the libraries"
   ]
  },
  {
   "cell_type": "code",
   "execution_count": 1,
   "id": "59f13732",
   "metadata": {
    "_execution_state": "idle",
    "_uuid": "051d70d956493feee0c6d64651c6a088724dca2a",
    "execution": {
     "iopub.execute_input": "2023-12-17T06:48:58.988901Z",
     "iopub.status.busy": "2023-12-17T06:48:58.985697Z",
     "iopub.status.idle": "2023-12-17T06:49:00.360933Z",
     "shell.execute_reply": "2023-12-17T06:49:00.358890Z"
    },
    "papermill": {
     "duration": 1.391598,
     "end_time": "2023-12-17T06:49:00.363783",
     "exception": false,
     "start_time": "2023-12-17T06:48:58.972185",
     "status": "completed"
    },
    "tags": []
   },
   "outputs": [
    {
     "name": "stderr",
     "output_type": "stream",
     "text": [
      "── \u001b[1mAttaching core tidyverse packages\u001b[22m ──────────────────────── tidyverse 2.0.0 ──\n",
      "\u001b[32m✔\u001b[39m \u001b[34mdplyr    \u001b[39m 1.1.4     \u001b[32m✔\u001b[39m \u001b[34mreadr    \u001b[39m 2.1.4\n",
      "\u001b[32m✔\u001b[39m \u001b[34mforcats  \u001b[39m 1.0.0     \u001b[32m✔\u001b[39m \u001b[34mstringr  \u001b[39m 1.5.1\n",
      "\u001b[32m✔\u001b[39m \u001b[34mggplot2  \u001b[39m 3.4.4     \u001b[32m✔\u001b[39m \u001b[34mtibble   \u001b[39m 3.2.1\n",
      "\u001b[32m✔\u001b[39m \u001b[34mlubridate\u001b[39m 1.9.3     \u001b[32m✔\u001b[39m \u001b[34mtidyr    \u001b[39m 1.3.0\n",
      "\u001b[32m✔\u001b[39m \u001b[34mpurrr    \u001b[39m 1.0.2     \n",
      "── \u001b[1mConflicts\u001b[22m ────────────────────────────────────────── tidyverse_conflicts() ──\n",
      "\u001b[31m✖\u001b[39m \u001b[34mdplyr\u001b[39m::\u001b[32mfilter()\u001b[39m masks \u001b[34mstats\u001b[39m::filter()\n",
      "\u001b[31m✖\u001b[39m \u001b[34mdplyr\u001b[39m::\u001b[32mlag()\u001b[39m    masks \u001b[34mstats\u001b[39m::lag()\n",
      "\u001b[36mℹ\u001b[39m Use the conflicted package (\u001b[3m\u001b[34m<http://conflicted.r-lib.org/>\u001b[39m\u001b[23m) to force all conflicts to become errors\n",
      "\n",
      "Attaching package: ‘magrittr’\n",
      "\n",
      "\n",
      "The following object is masked from ‘package:purrr’:\n",
      "\n",
      "    set_names\n",
      "\n",
      "\n",
      "The following object is masked from ‘package:tidyr’:\n",
      "\n",
      "    extract\n",
      "\n",
      "\n",
      "\n",
      "Attaching package: ‘janitor’\n",
      "\n",
      "\n",
      "The following objects are masked from ‘package:stats’:\n",
      "\n",
      "    chisq.test, fisher.test\n",
      "\n",
      "\n"
     ]
    }
   ],
   "source": [
    "#loading all the library packages \n",
    "library(tidyverse)\n",
    "library(magrittr) # needs to be run every time you start R and want to use %>%\n",
    "library(dplyr)\n",
    "library(skimr)\n",
    "library(janitor)\n",
    "library(lubridate)"
   ]
  },
  {
   "cell_type": "markdown",
   "id": "dc6cd6e4",
   "metadata": {
    "papermill": {
     "duration": 0.01168,
     "end_time": "2023-12-17T06:49:00.387374",
     "exception": false,
     "start_time": "2023-12-17T06:49:00.375694",
     "status": "completed"
    },
    "tags": []
   },
   "source": [
    "Importing the dataset"
   ]
  },
  {
   "cell_type": "code",
   "execution_count": 2,
   "id": "9bbaa24a",
   "metadata": {
    "execution": {
     "iopub.execute_input": "2023-12-17T06:49:00.459425Z",
     "iopub.status.busy": "2023-12-17T06:49:00.413756Z",
     "iopub.status.idle": "2023-12-17T06:49:00.671269Z",
     "shell.execute_reply": "2023-12-17T06:49:00.669272Z"
    },
    "papermill": {
     "duration": 0.274592,
     "end_time": "2023-12-17T06:49:00.674087",
     "exception": false,
     "start_time": "2023-12-17T06:49:00.399495",
     "status": "completed"
    },
    "tags": []
   },
   "outputs": [],
   "source": [
    "daily_activity <- read.csv(\"/kaggle/input/fitbit/Fitabase Data 4.12.16-5.12.16/dailyActivity_merged.csv\", header = TRUE)\n",
    "daily_steps <- read.csv(\"/kaggle/input/fitbit/Fitabase Data 4.12.16-5.12.16/dailySteps_merged.csv\", header = TRUE)\n",
    "daily_sleep <- read.csv(\"/kaggle/input/fitbit/Fitabase Data 4.12.16-5.12.16/sleepDay_merged.csv\", header = TRUE)\n",
    "hourly_steps <- read.csv(\"/kaggle/input/fitbit/Fitabase Data 4.12.16-5.12.16/hourlySteps_merged.csv\", header = TRUE)\n",
    "hourly_calories <- read.csv(\"/kaggle/input/fitbit/Fitabase Data 4.12.16-5.12.16/hourlyCalories_merged.csv\", header = TRUE)\n",
    "hourly_intensities <- read.csv(\"/kaggle/input/fitbit/Fitabase Data 4.12.16-5.12.16/hourlyIntensities_merged.csv\", header = TRUE)\n",
    "weight <- read.csv(\"/kaggle/input/fitbit/Fitabase Data 4.12.16-5.12.16/weightLogInfo_merged.csv\", header = TRUE)"
   ]
  },
  {
   "cell_type": "code",
   "execution_count": 3,
   "id": "90ab457f",
   "metadata": {
    "execution": {
     "iopub.execute_input": "2023-12-17T06:49:00.701893Z",
     "iopub.status.busy": "2023-12-17T06:49:00.700183Z",
     "iopub.status.idle": "2023-12-17T06:49:00.833150Z",
     "shell.execute_reply": "2023-12-17T06:49:00.831248Z"
    },
    "papermill": {
     "duration": 0.149481,
     "end_time": "2023-12-17T06:49:00.835801",
     "exception": false,
     "start_time": "2023-12-17T06:49:00.686320",
     "status": "completed"
    },
    "tags": []
   },
   "outputs": [
    {
     "data": {
      "text/html": [
       "<table class=\"dataframe\">\n",
       "<caption>A data.frame: 6 × 15</caption>\n",
       "<thead>\n",
       "\t<tr><th></th><th scope=col>Id</th><th scope=col>ActivityDate</th><th scope=col>TotalSteps</th><th scope=col>TotalDistance</th><th scope=col>TrackerDistance</th><th scope=col>LoggedActivitiesDistance</th><th scope=col>VeryActiveDistance</th><th scope=col>ModeratelyActiveDistance</th><th scope=col>LightActiveDistance</th><th scope=col>SedentaryActiveDistance</th><th scope=col>VeryActiveMinutes</th><th scope=col>FairlyActiveMinutes</th><th scope=col>LightlyActiveMinutes</th><th scope=col>SedentaryMinutes</th><th scope=col>Calories</th></tr>\n",
       "\t<tr><th></th><th scope=col>&lt;dbl&gt;</th><th scope=col>&lt;chr&gt;</th><th scope=col>&lt;int&gt;</th><th scope=col>&lt;dbl&gt;</th><th scope=col>&lt;dbl&gt;</th><th scope=col>&lt;dbl&gt;</th><th scope=col>&lt;dbl&gt;</th><th scope=col>&lt;dbl&gt;</th><th scope=col>&lt;dbl&gt;</th><th scope=col>&lt;dbl&gt;</th><th scope=col>&lt;int&gt;</th><th scope=col>&lt;int&gt;</th><th scope=col>&lt;int&gt;</th><th scope=col>&lt;int&gt;</th><th scope=col>&lt;int&gt;</th></tr>\n",
       "</thead>\n",
       "<tbody>\n",
       "\t<tr><th scope=row>1</th><td>1503960366</td><td>4/12/2016</td><td>13162</td><td>8.50</td><td>8.50</td><td>0</td><td>1.88</td><td>0.55</td><td>6.06</td><td>0</td><td>25</td><td>13</td><td>328</td><td> 728</td><td>1985</td></tr>\n",
       "\t<tr><th scope=row>2</th><td>1503960366</td><td>4/13/2016</td><td>10735</td><td>6.97</td><td>6.97</td><td>0</td><td>1.57</td><td>0.69</td><td>4.71</td><td>0</td><td>21</td><td>19</td><td>217</td><td> 776</td><td>1797</td></tr>\n",
       "\t<tr><th scope=row>3</th><td>1503960366</td><td>4/14/2016</td><td>10460</td><td>6.74</td><td>6.74</td><td>0</td><td>2.44</td><td>0.40</td><td>3.91</td><td>0</td><td>30</td><td>11</td><td>181</td><td>1218</td><td>1776</td></tr>\n",
       "\t<tr><th scope=row>4</th><td>1503960366</td><td>4/15/2016</td><td> 9762</td><td>6.28</td><td>6.28</td><td>0</td><td>2.14</td><td>1.26</td><td>2.83</td><td>0</td><td>29</td><td>34</td><td>209</td><td> 726</td><td>1745</td></tr>\n",
       "\t<tr><th scope=row>5</th><td>1503960366</td><td>4/16/2016</td><td>12669</td><td>8.16</td><td>8.16</td><td>0</td><td>2.71</td><td>0.41</td><td>5.04</td><td>0</td><td>36</td><td>10</td><td>221</td><td> 773</td><td>1863</td></tr>\n",
       "\t<tr><th scope=row>6</th><td>1503960366</td><td>4/17/2016</td><td> 9705</td><td>6.48</td><td>6.48</td><td>0</td><td>3.19</td><td>0.78</td><td>2.51</td><td>0</td><td>38</td><td>20</td><td>164</td><td> 539</td><td>1728</td></tr>\n",
       "</tbody>\n",
       "</table>\n"
      ],
      "text/latex": [
       "A data.frame: 6 × 15\n",
       "\\begin{tabular}{r|lllllllllllllll}\n",
       "  & Id & ActivityDate & TotalSteps & TotalDistance & TrackerDistance & LoggedActivitiesDistance & VeryActiveDistance & ModeratelyActiveDistance & LightActiveDistance & SedentaryActiveDistance & VeryActiveMinutes & FairlyActiveMinutes & LightlyActiveMinutes & SedentaryMinutes & Calories\\\\\n",
       "  & <dbl> & <chr> & <int> & <dbl> & <dbl> & <dbl> & <dbl> & <dbl> & <dbl> & <dbl> & <int> & <int> & <int> & <int> & <int>\\\\\n",
       "\\hline\n",
       "\t1 & 1503960366 & 4/12/2016 & 13162 & 8.50 & 8.50 & 0 & 1.88 & 0.55 & 6.06 & 0 & 25 & 13 & 328 &  728 & 1985\\\\\n",
       "\t2 & 1503960366 & 4/13/2016 & 10735 & 6.97 & 6.97 & 0 & 1.57 & 0.69 & 4.71 & 0 & 21 & 19 & 217 &  776 & 1797\\\\\n",
       "\t3 & 1503960366 & 4/14/2016 & 10460 & 6.74 & 6.74 & 0 & 2.44 & 0.40 & 3.91 & 0 & 30 & 11 & 181 & 1218 & 1776\\\\\n",
       "\t4 & 1503960366 & 4/15/2016 &  9762 & 6.28 & 6.28 & 0 & 2.14 & 1.26 & 2.83 & 0 & 29 & 34 & 209 &  726 & 1745\\\\\n",
       "\t5 & 1503960366 & 4/16/2016 & 12669 & 8.16 & 8.16 & 0 & 2.71 & 0.41 & 5.04 & 0 & 36 & 10 & 221 &  773 & 1863\\\\\n",
       "\t6 & 1503960366 & 4/17/2016 &  9705 & 6.48 & 6.48 & 0 & 3.19 & 0.78 & 2.51 & 0 & 38 & 20 & 164 &  539 & 1728\\\\\n",
       "\\end{tabular}\n"
      ],
      "text/markdown": [
       "\n",
       "A data.frame: 6 × 15\n",
       "\n",
       "| <!--/--> | Id &lt;dbl&gt; | ActivityDate &lt;chr&gt; | TotalSteps &lt;int&gt; | TotalDistance &lt;dbl&gt; | TrackerDistance &lt;dbl&gt; | LoggedActivitiesDistance &lt;dbl&gt; | VeryActiveDistance &lt;dbl&gt; | ModeratelyActiveDistance &lt;dbl&gt; | LightActiveDistance &lt;dbl&gt; | SedentaryActiveDistance &lt;dbl&gt; | VeryActiveMinutes &lt;int&gt; | FairlyActiveMinutes &lt;int&gt; | LightlyActiveMinutes &lt;int&gt; | SedentaryMinutes &lt;int&gt; | Calories &lt;int&gt; |\n",
       "|---|---|---|---|---|---|---|---|---|---|---|---|---|---|---|---|\n",
       "| 1 | 1503960366 | 4/12/2016 | 13162 | 8.50 | 8.50 | 0 | 1.88 | 0.55 | 6.06 | 0 | 25 | 13 | 328 |  728 | 1985 |\n",
       "| 2 | 1503960366 | 4/13/2016 | 10735 | 6.97 | 6.97 | 0 | 1.57 | 0.69 | 4.71 | 0 | 21 | 19 | 217 |  776 | 1797 |\n",
       "| 3 | 1503960366 | 4/14/2016 | 10460 | 6.74 | 6.74 | 0 | 2.44 | 0.40 | 3.91 | 0 | 30 | 11 | 181 | 1218 | 1776 |\n",
       "| 4 | 1503960366 | 4/15/2016 |  9762 | 6.28 | 6.28 | 0 | 2.14 | 1.26 | 2.83 | 0 | 29 | 34 | 209 |  726 | 1745 |\n",
       "| 5 | 1503960366 | 4/16/2016 | 12669 | 8.16 | 8.16 | 0 | 2.71 | 0.41 | 5.04 | 0 | 36 | 10 | 221 |  773 | 1863 |\n",
       "| 6 | 1503960366 | 4/17/2016 |  9705 | 6.48 | 6.48 | 0 | 3.19 | 0.78 | 2.51 | 0 | 38 | 20 | 164 |  539 | 1728 |\n",
       "\n"
      ],
      "text/plain": [
       "  Id         ActivityDate TotalSteps TotalDistance TrackerDistance\n",
       "1 1503960366 4/12/2016    13162      8.50          8.50           \n",
       "2 1503960366 4/13/2016    10735      6.97          6.97           \n",
       "3 1503960366 4/14/2016    10460      6.74          6.74           \n",
       "4 1503960366 4/15/2016     9762      6.28          6.28           \n",
       "5 1503960366 4/16/2016    12669      8.16          8.16           \n",
       "6 1503960366 4/17/2016     9705      6.48          6.48           \n",
       "  LoggedActivitiesDistance VeryActiveDistance ModeratelyActiveDistance\n",
       "1 0                        1.88               0.55                    \n",
       "2 0                        1.57               0.69                    \n",
       "3 0                        2.44               0.40                    \n",
       "4 0                        2.14               1.26                    \n",
       "5 0                        2.71               0.41                    \n",
       "6 0                        3.19               0.78                    \n",
       "  LightActiveDistance SedentaryActiveDistance VeryActiveMinutes\n",
       "1 6.06                0                       25               \n",
       "2 4.71                0                       21               \n",
       "3 3.91                0                       30               \n",
       "4 2.83                0                       29               \n",
       "5 5.04                0                       36               \n",
       "6 2.51                0                       38               \n",
       "  FairlyActiveMinutes LightlyActiveMinutes SedentaryMinutes Calories\n",
       "1 13                  328                   728             1985    \n",
       "2 19                  217                   776             1797    \n",
       "3 11                  181                  1218             1776    \n",
       "4 34                  209                   726             1745    \n",
       "5 10                  221                   773             1863    \n",
       "6 20                  164                   539             1728    "
      ]
     },
     "metadata": {},
     "output_type": "display_data"
    },
    {
     "data": {
      "text/html": [
       "<table class=\"dataframe\">\n",
       "<caption>A data.frame: 6 × 5</caption>\n",
       "<thead>\n",
       "\t<tr><th></th><th scope=col>Id</th><th scope=col>SleepDay</th><th scope=col>TotalSleepRecords</th><th scope=col>TotalMinutesAsleep</th><th scope=col>TotalTimeInBed</th></tr>\n",
       "\t<tr><th></th><th scope=col>&lt;dbl&gt;</th><th scope=col>&lt;chr&gt;</th><th scope=col>&lt;int&gt;</th><th scope=col>&lt;int&gt;</th><th scope=col>&lt;int&gt;</th></tr>\n",
       "</thead>\n",
       "<tbody>\n",
       "\t<tr><th scope=row>1</th><td>1503960366</td><td>4/12/2016 12:00:00 AM</td><td>1</td><td>327</td><td>346</td></tr>\n",
       "\t<tr><th scope=row>2</th><td>1503960366</td><td>4/13/2016 12:00:00 AM</td><td>2</td><td>384</td><td>407</td></tr>\n",
       "\t<tr><th scope=row>3</th><td>1503960366</td><td>4/15/2016 12:00:00 AM</td><td>1</td><td>412</td><td>442</td></tr>\n",
       "\t<tr><th scope=row>4</th><td>1503960366</td><td>4/16/2016 12:00:00 AM</td><td>2</td><td>340</td><td>367</td></tr>\n",
       "\t<tr><th scope=row>5</th><td>1503960366</td><td>4/17/2016 12:00:00 AM</td><td>1</td><td>700</td><td>712</td></tr>\n",
       "\t<tr><th scope=row>6</th><td>1503960366</td><td>4/19/2016 12:00:00 AM</td><td>1</td><td>304</td><td>320</td></tr>\n",
       "</tbody>\n",
       "</table>\n"
      ],
      "text/latex": [
       "A data.frame: 6 × 5\n",
       "\\begin{tabular}{r|lllll}\n",
       "  & Id & SleepDay & TotalSleepRecords & TotalMinutesAsleep & TotalTimeInBed\\\\\n",
       "  & <dbl> & <chr> & <int> & <int> & <int>\\\\\n",
       "\\hline\n",
       "\t1 & 1503960366 & 4/12/2016 12:00:00 AM & 1 & 327 & 346\\\\\n",
       "\t2 & 1503960366 & 4/13/2016 12:00:00 AM & 2 & 384 & 407\\\\\n",
       "\t3 & 1503960366 & 4/15/2016 12:00:00 AM & 1 & 412 & 442\\\\\n",
       "\t4 & 1503960366 & 4/16/2016 12:00:00 AM & 2 & 340 & 367\\\\\n",
       "\t5 & 1503960366 & 4/17/2016 12:00:00 AM & 1 & 700 & 712\\\\\n",
       "\t6 & 1503960366 & 4/19/2016 12:00:00 AM & 1 & 304 & 320\\\\\n",
       "\\end{tabular}\n"
      ],
      "text/markdown": [
       "\n",
       "A data.frame: 6 × 5\n",
       "\n",
       "| <!--/--> | Id &lt;dbl&gt; | SleepDay &lt;chr&gt; | TotalSleepRecords &lt;int&gt; | TotalMinutesAsleep &lt;int&gt; | TotalTimeInBed &lt;int&gt; |\n",
       "|---|---|---|---|---|---|\n",
       "| 1 | 1503960366 | 4/12/2016 12:00:00 AM | 1 | 327 | 346 |\n",
       "| 2 | 1503960366 | 4/13/2016 12:00:00 AM | 2 | 384 | 407 |\n",
       "| 3 | 1503960366 | 4/15/2016 12:00:00 AM | 1 | 412 | 442 |\n",
       "| 4 | 1503960366 | 4/16/2016 12:00:00 AM | 2 | 340 | 367 |\n",
       "| 5 | 1503960366 | 4/17/2016 12:00:00 AM | 1 | 700 | 712 |\n",
       "| 6 | 1503960366 | 4/19/2016 12:00:00 AM | 1 | 304 | 320 |\n",
       "\n"
      ],
      "text/plain": [
       "  Id         SleepDay              TotalSleepRecords TotalMinutesAsleep\n",
       "1 1503960366 4/12/2016 12:00:00 AM 1                 327               \n",
       "2 1503960366 4/13/2016 12:00:00 AM 2                 384               \n",
       "3 1503960366 4/15/2016 12:00:00 AM 1                 412               \n",
       "4 1503960366 4/16/2016 12:00:00 AM 2                 340               \n",
       "5 1503960366 4/17/2016 12:00:00 AM 1                 700               \n",
       "6 1503960366 4/19/2016 12:00:00 AM 1                 304               \n",
       "  TotalTimeInBed\n",
       "1 346           \n",
       "2 407           \n",
       "3 442           \n",
       "4 367           \n",
       "5 712           \n",
       "6 320           "
      ]
     },
     "metadata": {},
     "output_type": "display_data"
    },
    {
     "data": {
      "text/html": [
       "<table class=\"dataframe\">\n",
       "<caption>A data.frame: 6 × 3</caption>\n",
       "<thead>\n",
       "\t<tr><th></th><th scope=col>Id</th><th scope=col>ActivityDay</th><th scope=col>StepTotal</th></tr>\n",
       "\t<tr><th></th><th scope=col>&lt;dbl&gt;</th><th scope=col>&lt;chr&gt;</th><th scope=col>&lt;int&gt;</th></tr>\n",
       "</thead>\n",
       "<tbody>\n",
       "\t<tr><th scope=row>1</th><td>1503960366</td><td>4/12/2016</td><td>13162</td></tr>\n",
       "\t<tr><th scope=row>2</th><td>1503960366</td><td>4/13/2016</td><td>10735</td></tr>\n",
       "\t<tr><th scope=row>3</th><td>1503960366</td><td>4/14/2016</td><td>10460</td></tr>\n",
       "\t<tr><th scope=row>4</th><td>1503960366</td><td>4/15/2016</td><td> 9762</td></tr>\n",
       "\t<tr><th scope=row>5</th><td>1503960366</td><td>4/16/2016</td><td>12669</td></tr>\n",
       "\t<tr><th scope=row>6</th><td>1503960366</td><td>4/17/2016</td><td> 9705</td></tr>\n",
       "</tbody>\n",
       "</table>\n"
      ],
      "text/latex": [
       "A data.frame: 6 × 3\n",
       "\\begin{tabular}{r|lll}\n",
       "  & Id & ActivityDay & StepTotal\\\\\n",
       "  & <dbl> & <chr> & <int>\\\\\n",
       "\\hline\n",
       "\t1 & 1503960366 & 4/12/2016 & 13162\\\\\n",
       "\t2 & 1503960366 & 4/13/2016 & 10735\\\\\n",
       "\t3 & 1503960366 & 4/14/2016 & 10460\\\\\n",
       "\t4 & 1503960366 & 4/15/2016 &  9762\\\\\n",
       "\t5 & 1503960366 & 4/16/2016 & 12669\\\\\n",
       "\t6 & 1503960366 & 4/17/2016 &  9705\\\\\n",
       "\\end{tabular}\n"
      ],
      "text/markdown": [
       "\n",
       "A data.frame: 6 × 3\n",
       "\n",
       "| <!--/--> | Id &lt;dbl&gt; | ActivityDay &lt;chr&gt; | StepTotal &lt;int&gt; |\n",
       "|---|---|---|---|\n",
       "| 1 | 1503960366 | 4/12/2016 | 13162 |\n",
       "| 2 | 1503960366 | 4/13/2016 | 10735 |\n",
       "| 3 | 1503960366 | 4/14/2016 | 10460 |\n",
       "| 4 | 1503960366 | 4/15/2016 |  9762 |\n",
       "| 5 | 1503960366 | 4/16/2016 | 12669 |\n",
       "| 6 | 1503960366 | 4/17/2016 |  9705 |\n",
       "\n"
      ],
      "text/plain": [
       "  Id         ActivityDay StepTotal\n",
       "1 1503960366 4/12/2016   13162    \n",
       "2 1503960366 4/13/2016   10735    \n",
       "3 1503960366 4/14/2016   10460    \n",
       "4 1503960366 4/15/2016    9762    \n",
       "5 1503960366 4/16/2016   12669    \n",
       "6 1503960366 4/17/2016    9705    "
      ]
     },
     "metadata": {},
     "output_type": "display_data"
    },
    {
     "data": {
      "text/html": [
       "<table class=\"dataframe\">\n",
       "<caption>A data.frame: 6 × 3</caption>\n",
       "<thead>\n",
       "\t<tr><th></th><th scope=col>Id</th><th scope=col>ActivityHour</th><th scope=col>Calories</th></tr>\n",
       "\t<tr><th></th><th scope=col>&lt;dbl&gt;</th><th scope=col>&lt;chr&gt;</th><th scope=col>&lt;int&gt;</th></tr>\n",
       "</thead>\n",
       "<tbody>\n",
       "\t<tr><th scope=row>1</th><td>1503960366</td><td>4/12/2016 12:00:00 AM</td><td>81</td></tr>\n",
       "\t<tr><th scope=row>2</th><td>1503960366</td><td>4/12/2016 1:00:00 AM </td><td>61</td></tr>\n",
       "\t<tr><th scope=row>3</th><td>1503960366</td><td>4/12/2016 2:00:00 AM </td><td>59</td></tr>\n",
       "\t<tr><th scope=row>4</th><td>1503960366</td><td>4/12/2016 3:00:00 AM </td><td>47</td></tr>\n",
       "\t<tr><th scope=row>5</th><td>1503960366</td><td>4/12/2016 4:00:00 AM </td><td>48</td></tr>\n",
       "\t<tr><th scope=row>6</th><td>1503960366</td><td>4/12/2016 5:00:00 AM </td><td>48</td></tr>\n",
       "</tbody>\n",
       "</table>\n"
      ],
      "text/latex": [
       "A data.frame: 6 × 3\n",
       "\\begin{tabular}{r|lll}\n",
       "  & Id & ActivityHour & Calories\\\\\n",
       "  & <dbl> & <chr> & <int>\\\\\n",
       "\\hline\n",
       "\t1 & 1503960366 & 4/12/2016 12:00:00 AM & 81\\\\\n",
       "\t2 & 1503960366 & 4/12/2016 1:00:00 AM  & 61\\\\\n",
       "\t3 & 1503960366 & 4/12/2016 2:00:00 AM  & 59\\\\\n",
       "\t4 & 1503960366 & 4/12/2016 3:00:00 AM  & 47\\\\\n",
       "\t5 & 1503960366 & 4/12/2016 4:00:00 AM  & 48\\\\\n",
       "\t6 & 1503960366 & 4/12/2016 5:00:00 AM  & 48\\\\\n",
       "\\end{tabular}\n"
      ],
      "text/markdown": [
       "\n",
       "A data.frame: 6 × 3\n",
       "\n",
       "| <!--/--> | Id &lt;dbl&gt; | ActivityHour &lt;chr&gt; | Calories &lt;int&gt; |\n",
       "|---|---|---|---|\n",
       "| 1 | 1503960366 | 4/12/2016 12:00:00 AM | 81 |\n",
       "| 2 | 1503960366 | 4/12/2016 1:00:00 AM  | 61 |\n",
       "| 3 | 1503960366 | 4/12/2016 2:00:00 AM  | 59 |\n",
       "| 4 | 1503960366 | 4/12/2016 3:00:00 AM  | 47 |\n",
       "| 5 | 1503960366 | 4/12/2016 4:00:00 AM  | 48 |\n",
       "| 6 | 1503960366 | 4/12/2016 5:00:00 AM  | 48 |\n",
       "\n"
      ],
      "text/plain": [
       "  Id         ActivityHour          Calories\n",
       "1 1503960366 4/12/2016 12:00:00 AM 81      \n",
       "2 1503960366 4/12/2016 1:00:00 AM  61      \n",
       "3 1503960366 4/12/2016 2:00:00 AM  59      \n",
       "4 1503960366 4/12/2016 3:00:00 AM  47      \n",
       "5 1503960366 4/12/2016 4:00:00 AM  48      \n",
       "6 1503960366 4/12/2016 5:00:00 AM  48      "
      ]
     },
     "metadata": {},
     "output_type": "display_data"
    },
    {
     "data": {
      "text/html": [
       "<table class=\"dataframe\">\n",
       "<caption>A data.frame: 6 × 4</caption>\n",
       "<thead>\n",
       "\t<tr><th></th><th scope=col>Id</th><th scope=col>ActivityHour</th><th scope=col>TotalIntensity</th><th scope=col>AverageIntensity</th></tr>\n",
       "\t<tr><th></th><th scope=col>&lt;dbl&gt;</th><th scope=col>&lt;chr&gt;</th><th scope=col>&lt;int&gt;</th><th scope=col>&lt;dbl&gt;</th></tr>\n",
       "</thead>\n",
       "<tbody>\n",
       "\t<tr><th scope=row>1</th><td>1503960366</td><td>4/12/2016 12:00:00 AM</td><td>20</td><td>0.333333</td></tr>\n",
       "\t<tr><th scope=row>2</th><td>1503960366</td><td>4/12/2016 1:00:00 AM </td><td> 8</td><td>0.133333</td></tr>\n",
       "\t<tr><th scope=row>3</th><td>1503960366</td><td>4/12/2016 2:00:00 AM </td><td> 7</td><td>0.116667</td></tr>\n",
       "\t<tr><th scope=row>4</th><td>1503960366</td><td>4/12/2016 3:00:00 AM </td><td> 0</td><td>0.000000</td></tr>\n",
       "\t<tr><th scope=row>5</th><td>1503960366</td><td>4/12/2016 4:00:00 AM </td><td> 0</td><td>0.000000</td></tr>\n",
       "\t<tr><th scope=row>6</th><td>1503960366</td><td>4/12/2016 5:00:00 AM </td><td> 0</td><td>0.000000</td></tr>\n",
       "</tbody>\n",
       "</table>\n"
      ],
      "text/latex": [
       "A data.frame: 6 × 4\n",
       "\\begin{tabular}{r|llll}\n",
       "  & Id & ActivityHour & TotalIntensity & AverageIntensity\\\\\n",
       "  & <dbl> & <chr> & <int> & <dbl>\\\\\n",
       "\\hline\n",
       "\t1 & 1503960366 & 4/12/2016 12:00:00 AM & 20 & 0.333333\\\\\n",
       "\t2 & 1503960366 & 4/12/2016 1:00:00 AM  &  8 & 0.133333\\\\\n",
       "\t3 & 1503960366 & 4/12/2016 2:00:00 AM  &  7 & 0.116667\\\\\n",
       "\t4 & 1503960366 & 4/12/2016 3:00:00 AM  &  0 & 0.000000\\\\\n",
       "\t5 & 1503960366 & 4/12/2016 4:00:00 AM  &  0 & 0.000000\\\\\n",
       "\t6 & 1503960366 & 4/12/2016 5:00:00 AM  &  0 & 0.000000\\\\\n",
       "\\end{tabular}\n"
      ],
      "text/markdown": [
       "\n",
       "A data.frame: 6 × 4\n",
       "\n",
       "| <!--/--> | Id &lt;dbl&gt; | ActivityHour &lt;chr&gt; | TotalIntensity &lt;int&gt; | AverageIntensity &lt;dbl&gt; |\n",
       "|---|---|---|---|---|\n",
       "| 1 | 1503960366 | 4/12/2016 12:00:00 AM | 20 | 0.333333 |\n",
       "| 2 | 1503960366 | 4/12/2016 1:00:00 AM  |  8 | 0.133333 |\n",
       "| 3 | 1503960366 | 4/12/2016 2:00:00 AM  |  7 | 0.116667 |\n",
       "| 4 | 1503960366 | 4/12/2016 3:00:00 AM  |  0 | 0.000000 |\n",
       "| 5 | 1503960366 | 4/12/2016 4:00:00 AM  |  0 | 0.000000 |\n",
       "| 6 | 1503960366 | 4/12/2016 5:00:00 AM  |  0 | 0.000000 |\n",
       "\n"
      ],
      "text/plain": [
       "  Id         ActivityHour          TotalIntensity AverageIntensity\n",
       "1 1503960366 4/12/2016 12:00:00 AM 20             0.333333        \n",
       "2 1503960366 4/12/2016 1:00:00 AM   8             0.133333        \n",
       "3 1503960366 4/12/2016 2:00:00 AM   7             0.116667        \n",
       "4 1503960366 4/12/2016 3:00:00 AM   0             0.000000        \n",
       "5 1503960366 4/12/2016 4:00:00 AM   0             0.000000        \n",
       "6 1503960366 4/12/2016 5:00:00 AM   0             0.000000        "
      ]
     },
     "metadata": {},
     "output_type": "display_data"
    },
    {
     "data": {
      "text/html": [
       "<table class=\"dataframe\">\n",
       "<caption>A data.frame: 6 × 3</caption>\n",
       "<thead>\n",
       "\t<tr><th></th><th scope=col>Id</th><th scope=col>ActivityHour</th><th scope=col>StepTotal</th></tr>\n",
       "\t<tr><th></th><th scope=col>&lt;dbl&gt;</th><th scope=col>&lt;chr&gt;</th><th scope=col>&lt;int&gt;</th></tr>\n",
       "</thead>\n",
       "<tbody>\n",
       "\t<tr><th scope=row>1</th><td>1503960366</td><td>4/12/2016 12:00:00 AM</td><td>373</td></tr>\n",
       "\t<tr><th scope=row>2</th><td>1503960366</td><td>4/12/2016 1:00:00 AM </td><td>160</td></tr>\n",
       "\t<tr><th scope=row>3</th><td>1503960366</td><td>4/12/2016 2:00:00 AM </td><td>151</td></tr>\n",
       "\t<tr><th scope=row>4</th><td>1503960366</td><td>4/12/2016 3:00:00 AM </td><td>  0</td></tr>\n",
       "\t<tr><th scope=row>5</th><td>1503960366</td><td>4/12/2016 4:00:00 AM </td><td>  0</td></tr>\n",
       "\t<tr><th scope=row>6</th><td>1503960366</td><td>4/12/2016 5:00:00 AM </td><td>  0</td></tr>\n",
       "</tbody>\n",
       "</table>\n"
      ],
      "text/latex": [
       "A data.frame: 6 × 3\n",
       "\\begin{tabular}{r|lll}\n",
       "  & Id & ActivityHour & StepTotal\\\\\n",
       "  & <dbl> & <chr> & <int>\\\\\n",
       "\\hline\n",
       "\t1 & 1503960366 & 4/12/2016 12:00:00 AM & 373\\\\\n",
       "\t2 & 1503960366 & 4/12/2016 1:00:00 AM  & 160\\\\\n",
       "\t3 & 1503960366 & 4/12/2016 2:00:00 AM  & 151\\\\\n",
       "\t4 & 1503960366 & 4/12/2016 3:00:00 AM  &   0\\\\\n",
       "\t5 & 1503960366 & 4/12/2016 4:00:00 AM  &   0\\\\\n",
       "\t6 & 1503960366 & 4/12/2016 5:00:00 AM  &   0\\\\\n",
       "\\end{tabular}\n"
      ],
      "text/markdown": [
       "\n",
       "A data.frame: 6 × 3\n",
       "\n",
       "| <!--/--> | Id &lt;dbl&gt; | ActivityHour &lt;chr&gt; | StepTotal &lt;int&gt; |\n",
       "|---|---|---|---|\n",
       "| 1 | 1503960366 | 4/12/2016 12:00:00 AM | 373 |\n",
       "| 2 | 1503960366 | 4/12/2016 1:00:00 AM  | 160 |\n",
       "| 3 | 1503960366 | 4/12/2016 2:00:00 AM  | 151 |\n",
       "| 4 | 1503960366 | 4/12/2016 3:00:00 AM  |   0 |\n",
       "| 5 | 1503960366 | 4/12/2016 4:00:00 AM  |   0 |\n",
       "| 6 | 1503960366 | 4/12/2016 5:00:00 AM  |   0 |\n",
       "\n"
      ],
      "text/plain": [
       "  Id         ActivityHour          StepTotal\n",
       "1 1503960366 4/12/2016 12:00:00 AM 373      \n",
       "2 1503960366 4/12/2016 1:00:00 AM  160      \n",
       "3 1503960366 4/12/2016 2:00:00 AM  151      \n",
       "4 1503960366 4/12/2016 3:00:00 AM    0      \n",
       "5 1503960366 4/12/2016 4:00:00 AM    0      \n",
       "6 1503960366 4/12/2016 5:00:00 AM    0      "
      ]
     },
     "metadata": {},
     "output_type": "display_data"
    },
    {
     "data": {
      "text/html": [
       "<table class=\"dataframe\">\n",
       "<caption>A data.frame: 6 × 8</caption>\n",
       "<thead>\n",
       "\t<tr><th></th><th scope=col>Id</th><th scope=col>Date</th><th scope=col>WeightKg</th><th scope=col>WeightPounds</th><th scope=col>Fat</th><th scope=col>BMI</th><th scope=col>IsManualReport</th><th scope=col>LogId</th></tr>\n",
       "\t<tr><th></th><th scope=col>&lt;dbl&gt;</th><th scope=col>&lt;chr&gt;</th><th scope=col>&lt;dbl&gt;</th><th scope=col>&lt;dbl&gt;</th><th scope=col>&lt;int&gt;</th><th scope=col>&lt;dbl&gt;</th><th scope=col>&lt;chr&gt;</th><th scope=col>&lt;dbl&gt;</th></tr>\n",
       "</thead>\n",
       "<tbody>\n",
       "\t<tr><th scope=row>1</th><td>1503960366</td><td>5/2/2016 11:59:59 PM </td><td> 52.6</td><td>115.9631</td><td>22</td><td>22.65</td><td>True </td><td>1.462234e+12</td></tr>\n",
       "\t<tr><th scope=row>2</th><td>1503960366</td><td>5/3/2016 11:59:59 PM </td><td> 52.6</td><td>115.9631</td><td>NA</td><td>22.65</td><td>True </td><td>1.462320e+12</td></tr>\n",
       "\t<tr><th scope=row>3</th><td>1927972279</td><td>4/13/2016 1:08:52 AM </td><td>133.5</td><td>294.3171</td><td>NA</td><td>47.54</td><td>False</td><td>1.460510e+12</td></tr>\n",
       "\t<tr><th scope=row>4</th><td>2873212765</td><td>4/21/2016 11:59:59 PM</td><td> 56.7</td><td>125.0021</td><td>NA</td><td>21.45</td><td>True </td><td>1.461283e+12</td></tr>\n",
       "\t<tr><th scope=row>5</th><td>2873212765</td><td>5/12/2016 11:59:59 PM</td><td> 57.3</td><td>126.3249</td><td>NA</td><td>21.69</td><td>True </td><td>1.463098e+12</td></tr>\n",
       "\t<tr><th scope=row>6</th><td>4319703577</td><td>4/17/2016 11:59:59 PM</td><td> 72.4</td><td>159.6147</td><td>25</td><td>27.45</td><td>True </td><td>1.460938e+12</td></tr>\n",
       "</tbody>\n",
       "</table>\n"
      ],
      "text/latex": [
       "A data.frame: 6 × 8\n",
       "\\begin{tabular}{r|llllllll}\n",
       "  & Id & Date & WeightKg & WeightPounds & Fat & BMI & IsManualReport & LogId\\\\\n",
       "  & <dbl> & <chr> & <dbl> & <dbl> & <int> & <dbl> & <chr> & <dbl>\\\\\n",
       "\\hline\n",
       "\t1 & 1503960366 & 5/2/2016 11:59:59 PM  &  52.6 & 115.9631 & 22 & 22.65 & True  & 1.462234e+12\\\\\n",
       "\t2 & 1503960366 & 5/3/2016 11:59:59 PM  &  52.6 & 115.9631 & NA & 22.65 & True  & 1.462320e+12\\\\\n",
       "\t3 & 1927972279 & 4/13/2016 1:08:52 AM  & 133.5 & 294.3171 & NA & 47.54 & False & 1.460510e+12\\\\\n",
       "\t4 & 2873212765 & 4/21/2016 11:59:59 PM &  56.7 & 125.0021 & NA & 21.45 & True  & 1.461283e+12\\\\\n",
       "\t5 & 2873212765 & 5/12/2016 11:59:59 PM &  57.3 & 126.3249 & NA & 21.69 & True  & 1.463098e+12\\\\\n",
       "\t6 & 4319703577 & 4/17/2016 11:59:59 PM &  72.4 & 159.6147 & 25 & 27.45 & True  & 1.460938e+12\\\\\n",
       "\\end{tabular}\n"
      ],
      "text/markdown": [
       "\n",
       "A data.frame: 6 × 8\n",
       "\n",
       "| <!--/--> | Id &lt;dbl&gt; | Date &lt;chr&gt; | WeightKg &lt;dbl&gt; | WeightPounds &lt;dbl&gt; | Fat &lt;int&gt; | BMI &lt;dbl&gt; | IsManualReport &lt;chr&gt; | LogId &lt;dbl&gt; |\n",
       "|---|---|---|---|---|---|---|---|---|\n",
       "| 1 | 1503960366 | 5/2/2016 11:59:59 PM  |  52.6 | 115.9631 | 22 | 22.65 | True  | 1.462234e+12 |\n",
       "| 2 | 1503960366 | 5/3/2016 11:59:59 PM  |  52.6 | 115.9631 | NA | 22.65 | True  | 1.462320e+12 |\n",
       "| 3 | 1927972279 | 4/13/2016 1:08:52 AM  | 133.5 | 294.3171 | NA | 47.54 | False | 1.460510e+12 |\n",
       "| 4 | 2873212765 | 4/21/2016 11:59:59 PM |  56.7 | 125.0021 | NA | 21.45 | True  | 1.461283e+12 |\n",
       "| 5 | 2873212765 | 5/12/2016 11:59:59 PM |  57.3 | 126.3249 | NA | 21.69 | True  | 1.463098e+12 |\n",
       "| 6 | 4319703577 | 4/17/2016 11:59:59 PM |  72.4 | 159.6147 | 25 | 27.45 | True  | 1.460938e+12 |\n",
       "\n"
      ],
      "text/plain": [
       "  Id         Date                  WeightKg WeightPounds Fat BMI  \n",
       "1 1503960366 5/2/2016 11:59:59 PM   52.6    115.9631     22  22.65\n",
       "2 1503960366 5/3/2016 11:59:59 PM   52.6    115.9631     NA  22.65\n",
       "3 1927972279 4/13/2016 1:08:52 AM  133.5    294.3171     NA  47.54\n",
       "4 2873212765 4/21/2016 11:59:59 PM  56.7    125.0021     NA  21.45\n",
       "5 2873212765 5/12/2016 11:59:59 PM  57.3    126.3249     NA  21.69\n",
       "6 4319703577 4/17/2016 11:59:59 PM  72.4    159.6147     25  27.45\n",
       "  IsManualReport LogId       \n",
       "1 True           1.462234e+12\n",
       "2 True           1.462320e+12\n",
       "3 False          1.460510e+12\n",
       "4 True           1.461283e+12\n",
       "5 True           1.463098e+12\n",
       "6 True           1.460938e+12"
      ]
     },
     "metadata": {},
     "output_type": "display_data"
    }
   ],
   "source": [
    "head(daily_activity)\n",
    "head(daily_sleep)\n",
    "head(daily_steps)\n",
    "head(hourly_calories)\n",
    "head(hourly_intensities)\n",
    "head(hourly_steps)\n",
    "head(weight)"
   ]
  },
  {
   "cell_type": "code",
   "execution_count": 4,
   "id": "a0cd966e",
   "metadata": {
    "execution": {
     "iopub.execute_input": "2023-12-17T06:49:00.867272Z",
     "iopub.status.busy": "2023-12-17T06:49:00.865603Z",
     "iopub.status.idle": "2023-12-17T06:49:00.977973Z",
     "shell.execute_reply": "2023-12-17T06:49:00.975664Z"
    },
    "papermill": {
     "duration": 0.130739,
     "end_time": "2023-12-17T06:49:00.980418",
     "exception": false,
     "start_time": "2023-12-17T06:49:00.849679",
     "status": "completed"
    },
    "tags": []
   },
   "outputs": [
    {
     "name": "stdout",
     "output_type": "stream",
     "text": [
      "'data.frame':\t940 obs. of  15 variables:\n",
      " $ Id                      : num  1.5e+09 1.5e+09 1.5e+09 1.5e+09 1.5e+09 ...\n",
      " $ ActivityDate            : chr  \"4/12/2016\" \"4/13/2016\" \"4/14/2016\" \"4/15/2016\" ...\n",
      " $ TotalSteps              : int  13162 10735 10460 9762 12669 9705 13019 15506 10544 9819 ...\n",
      " $ TotalDistance           : num  8.5 6.97 6.74 6.28 8.16 ...\n",
      " $ TrackerDistance         : num  8.5 6.97 6.74 6.28 8.16 ...\n",
      " $ LoggedActivitiesDistance: num  0 0 0 0 0 0 0 0 0 0 ...\n",
      " $ VeryActiveDistance      : num  1.88 1.57 2.44 2.14 2.71 ...\n",
      " $ ModeratelyActiveDistance: num  0.55 0.69 0.4 1.26 0.41 ...\n",
      " $ LightActiveDistance     : num  6.06 4.71 3.91 2.83 5.04 ...\n",
      " $ SedentaryActiveDistance : num  0 0 0 0 0 0 0 0 0 0 ...\n",
      " $ VeryActiveMinutes       : int  25 21 30 29 36 38 42 50 28 19 ...\n",
      " $ FairlyActiveMinutes     : int  13 19 11 34 10 20 16 31 12 8 ...\n",
      " $ LightlyActiveMinutes    : int  328 217 181 209 221 164 233 264 205 211 ...\n",
      " $ SedentaryMinutes        : int  728 776 1218 726 773 539 1149 775 818 838 ...\n",
      " $ Calories                : int  1985 1797 1776 1745 1863 1728 1921 2035 1786 1775 ...\n",
      "'data.frame':\t413 obs. of  5 variables:\n",
      " $ Id                : num  1.5e+09 1.5e+09 1.5e+09 1.5e+09 1.5e+09 ...\n",
      " $ SleepDay          : chr  \"4/12/2016 12:00:00 AM\" \"4/13/2016 12:00:00 AM\" \"4/15/2016 12:00:00 AM\" \"4/16/2016 12:00:00 AM\" ...\n",
      " $ TotalSleepRecords : int  1 2 1 2 1 1 1 1 1 1 ...\n",
      " $ TotalMinutesAsleep: int  327 384 412 340 700 304 360 325 361 430 ...\n",
      " $ TotalTimeInBed    : int  346 407 442 367 712 320 377 364 384 449 ...\n",
      "'data.frame':\t940 obs. of  3 variables:\n",
      " $ Id         : num  1.5e+09 1.5e+09 1.5e+09 1.5e+09 1.5e+09 ...\n",
      " $ ActivityDay: chr  \"4/12/2016\" \"4/13/2016\" \"4/14/2016\" \"4/15/2016\" ...\n",
      " $ StepTotal  : int  13162 10735 10460 9762 12669 9705 13019 15506 10544 9819 ...\n",
      "'data.frame':\t22099 obs. of  3 variables:\n",
      " $ Id          : num  1.5e+09 1.5e+09 1.5e+09 1.5e+09 1.5e+09 ...\n",
      " $ ActivityHour: chr  \"4/12/2016 12:00:00 AM\" \"4/12/2016 1:00:00 AM\" \"4/12/2016 2:00:00 AM\" \"4/12/2016 3:00:00 AM\" ...\n",
      " $ Calories    : int  81 61 59 47 48 48 48 47 68 141 ...\n",
      "'data.frame':\t22099 obs. of  4 variables:\n",
      " $ Id              : num  1.5e+09 1.5e+09 1.5e+09 1.5e+09 1.5e+09 ...\n",
      " $ ActivityHour    : chr  \"4/12/2016 12:00:00 AM\" \"4/12/2016 1:00:00 AM\" \"4/12/2016 2:00:00 AM\" \"4/12/2016 3:00:00 AM\" ...\n",
      " $ TotalIntensity  : int  20 8 7 0 0 0 0 0 13 30 ...\n",
      " $ AverageIntensity: num  0.333 0.133 0.117 0 0 ...\n",
      "'data.frame':\t22099 obs. of  3 variables:\n",
      " $ Id          : num  1.5e+09 1.5e+09 1.5e+09 1.5e+09 1.5e+09 ...\n",
      " $ ActivityHour: chr  \"4/12/2016 12:00:00 AM\" \"4/12/2016 1:00:00 AM\" \"4/12/2016 2:00:00 AM\" \"4/12/2016 3:00:00 AM\" ...\n",
      " $ StepTotal   : int  373 160 151 0 0 0 0 0 250 1864 ...\n",
      "'data.frame':\t67 obs. of  8 variables:\n",
      " $ Id            : num  1.50e+09 1.50e+09 1.93e+09 2.87e+09 2.87e+09 ...\n",
      " $ Date          : chr  \"5/2/2016 11:59:59 PM\" \"5/3/2016 11:59:59 PM\" \"4/13/2016 1:08:52 AM\" \"4/21/2016 11:59:59 PM\" ...\n",
      " $ WeightKg      : num  52.6 52.6 133.5 56.7 57.3 ...\n",
      " $ WeightPounds  : num  116 116 294 125 126 ...\n",
      " $ Fat           : int  22 NA NA NA NA 25 NA NA NA NA ...\n",
      " $ BMI           : num  22.6 22.6 47.5 21.5 21.7 ...\n",
      " $ IsManualReport: chr  \"True\" \"True\" \"False\" \"True\" ...\n",
      " $ LogId         : num  1.46e+12 1.46e+12 1.46e+12 1.46e+12 1.46e+12 ...\n"
     ]
    }
   ],
   "source": [
    "#preview the structure\n",
    "str(daily_activity)\n",
    "str(daily_sleep)\n",
    "str(daily_steps)\n",
    "str(hourly_calories)\n",
    "str(hourly_intensities)\n",
    "str(hourly_steps)\n",
    "str(weight)"
   ]
  },
  {
   "cell_type": "markdown",
   "id": "65a6602f",
   "metadata": {
    "papermill": {
     "duration": 0.014525,
     "end_time": "2023-12-17T06:49:01.009399",
     "exception": false,
     "start_time": "2023-12-17T06:49:00.994874",
     "status": "completed"
    },
    "tags": []
   },
   "source": [
    "Step 3: Process"
   ]
  },
  {
   "cell_type": "code",
   "execution_count": 5,
   "id": "29f09599",
   "metadata": {
    "execution": {
     "iopub.execute_input": "2023-12-17T06:49:01.042613Z",
     "iopub.status.busy": "2023-12-17T06:49:01.040839Z",
     "iopub.status.idle": "2023-12-17T06:49:01.098027Z",
     "shell.execute_reply": "2023-12-17T06:49:01.095639Z"
    },
    "papermill": {
     "duration": 0.077241,
     "end_time": "2023-12-17T06:49:01.101250",
     "exception": false,
     "start_time": "2023-12-17T06:49:01.024009",
     "status": "completed"
    },
    "tags": []
   },
   "outputs": [
    {
     "data": {
      "text/html": [
       "33"
      ],
      "text/latex": [
       "33"
      ],
      "text/markdown": [
       "33"
      ],
      "text/plain": [
       "[1] 33"
      ]
     },
     "metadata": {},
     "output_type": "display_data"
    },
    {
     "data": {
      "text/html": [
       "24"
      ],
      "text/latex": [
       "24"
      ],
      "text/markdown": [
       "24"
      ],
      "text/plain": [
       "[1] 24"
      ]
     },
     "metadata": {},
     "output_type": "display_data"
    },
    {
     "data": {
      "text/html": [
       "33"
      ],
      "text/latex": [
       "33"
      ],
      "text/markdown": [
       "33"
      ],
      "text/plain": [
       "[1] 33"
      ]
     },
     "metadata": {},
     "output_type": "display_data"
    },
    {
     "data": {
      "text/html": [
       "33"
      ],
      "text/latex": [
       "33"
      ],
      "text/markdown": [
       "33"
      ],
      "text/plain": [
       "[1] 33"
      ]
     },
     "metadata": {},
     "output_type": "display_data"
    },
    {
     "data": {
      "text/html": [
       "33"
      ],
      "text/latex": [
       "33"
      ],
      "text/markdown": [
       "33"
      ],
      "text/plain": [
       "[1] 33"
      ]
     },
     "metadata": {},
     "output_type": "display_data"
    },
    {
     "data": {
      "text/html": [
       "33"
      ],
      "text/latex": [
       "33"
      ],
      "text/markdown": [
       "33"
      ],
      "text/plain": [
       "[1] 33"
      ]
     },
     "metadata": {},
     "output_type": "display_data"
    },
    {
     "data": {
      "text/html": [
       "8"
      ],
      "text/latex": [
       "8"
      ],
      "text/markdown": [
       "8"
      ],
      "text/plain": [
       "[1] 8"
      ]
     },
     "metadata": {},
     "output_type": "display_data"
    }
   ],
   "source": [
    "#cleaning\n",
    "n_distinct(daily_activity$Id)\n",
    "n_distinct(daily_sleep$Id)\n",
    "n_distinct(daily_steps$Id)\n",
    "n_distinct(hourly_calories$Id)\n",
    "n_distinct(hourly_intensities$Id)\n",
    "n_distinct(hourly_steps$Id)\n",
    "n_distinct(weight$Id)\n"
   ]
  },
  {
   "cell_type": "markdown",
   "id": "7230c65e",
   "metadata": {
    "papermill": {
     "duration": 0.016353,
     "end_time": "2023-12-17T06:49:01.133468",
     "exception": false,
     "start_time": "2023-12-17T06:49:01.117115",
     "status": "completed"
    },
    "tags": []
   },
   "source": [
    "All have 33 Id's except few of them "
   ]
  },
  {
   "cell_type": "code",
   "execution_count": 6,
   "id": "5a568a29",
   "metadata": {
    "execution": {
     "iopub.execute_input": "2023-12-17T06:49:01.170299Z",
     "iopub.status.busy": "2023-12-17T06:49:01.168542Z",
     "iopub.status.idle": "2023-12-17T06:49:01.382031Z",
     "shell.execute_reply": "2023-12-17T06:49:01.379556Z"
    },
    "papermill": {
     "duration": 0.235319,
     "end_time": "2023-12-17T06:49:01.385402",
     "exception": false,
     "start_time": "2023-12-17T06:49:01.150083",
     "status": "completed"
    },
    "tags": []
   },
   "outputs": [
    {
     "data": {
      "text/html": [
       "0"
      ],
      "text/latex": [
       "0"
      ],
      "text/markdown": [
       "0"
      ],
      "text/plain": [
       "[1] 0"
      ]
     },
     "metadata": {},
     "output_type": "display_data"
    },
    {
     "data": {
      "text/html": [
       "3"
      ],
      "text/latex": [
       "3"
      ],
      "text/markdown": [
       "3"
      ],
      "text/plain": [
       "[1] 3"
      ]
     },
     "metadata": {},
     "output_type": "display_data"
    },
    {
     "data": {
      "text/html": [
       "0"
      ],
      "text/latex": [
       "0"
      ],
      "text/markdown": [
       "0"
      ],
      "text/plain": [
       "[1] 0"
      ]
     },
     "metadata": {},
     "output_type": "display_data"
    },
    {
     "data": {
      "text/html": [
       "0"
      ],
      "text/latex": [
       "0"
      ],
      "text/markdown": [
       "0"
      ],
      "text/plain": [
       "[1] 0"
      ]
     },
     "metadata": {},
     "output_type": "display_data"
    },
    {
     "data": {
      "text/html": [
       "0"
      ],
      "text/latex": [
       "0"
      ],
      "text/markdown": [
       "0"
      ],
      "text/plain": [
       "[1] 0"
      ]
     },
     "metadata": {},
     "output_type": "display_data"
    },
    {
     "data": {
      "text/html": [
       "0"
      ],
      "text/latex": [
       "0"
      ],
      "text/markdown": [
       "0"
      ],
      "text/plain": [
       "[1] 0"
      ]
     },
     "metadata": {},
     "output_type": "display_data"
    }
   ],
   "source": [
    "sum(duplicated(daily_activity))\n",
    "sum(duplicated(daily_sleep))\n",
    "sum(duplicated(daily_steps))\n",
    "sum(duplicated(hourly_calories))\n",
    "sum(duplicated(hourly_intensities))\n",
    "sum(duplicated(hourly_steps))"
   ]
  },
  {
   "cell_type": "code",
   "execution_count": 7,
   "id": "ed6cf579",
   "metadata": {
    "execution": {
     "iopub.execute_input": "2023-12-17T06:49:01.423315Z",
     "iopub.status.busy": "2023-12-17T06:49:01.421579Z",
     "iopub.status.idle": "2023-12-17T06:49:01.463465Z",
     "shell.execute_reply": "2023-12-17T06:49:01.461530Z"
    },
    "papermill": {
     "duration": 0.064707,
     "end_time": "2023-12-17T06:49:01.467059",
     "exception": false,
     "start_time": "2023-12-17T06:49:01.402352",
     "status": "completed"
    },
    "tags": []
   },
   "outputs": [],
   "source": [
    "#dropping the duplicates\n",
    "daily_activity <- daily_activity %>%\n",
    "  distinct() %>%\n",
    "  drop_na()\n",
    "daily_sleep <- daily_sleep %>%\n",
    "  distinct() %>%\n",
    "  drop_na()\n",
    "daily_steps <- daily_steps %>%\n",
    "  distinct() %>%\n",
    "  drop_na()\n",
    "hourly_calories <- hourly_calories %>%\n",
    "  distinct() %>%\n",
    "  drop_na()\n",
    "hourly_intensities<-hourly_intensities %>% distinct() %>% drop_na()\n",
    "hourly_steps<-hourly_steps %>% distinct() %>% drop_na()"
   ]
  },
  {
   "cell_type": "code",
   "execution_count": 8,
   "id": "59f11a0f",
   "metadata": {
    "execution": {
     "iopub.execute_input": "2023-12-17T06:49:01.504841Z",
     "iopub.status.busy": "2023-12-17T06:49:01.503141Z",
     "iopub.status.idle": "2023-12-17T06:49:02.150842Z",
     "shell.execute_reply": "2023-12-17T06:49:02.148847Z"
    },
    "papermill": {
     "duration": 0.669819,
     "end_time": "2023-12-17T06:49:02.153728",
     "exception": false,
     "start_time": "2023-12-17T06:49:01.483909",
     "status": "completed"
    },
    "tags": []
   },
   "outputs": [
    {
     "data": {
      "text/html": [
       "<table class=\"dataframe\">\n",
       "<caption>A data.frame: 940 × 15</caption>\n",
       "<thead>\n",
       "\t<tr><th scope=col>id</th><th scope=col>activity_date</th><th scope=col>total_steps</th><th scope=col>total_distance</th><th scope=col>tracker_distance</th><th scope=col>logged_activities_distance</th><th scope=col>very_active_distance</th><th scope=col>moderately_active_distance</th><th scope=col>light_active_distance</th><th scope=col>sedentary_active_distance</th><th scope=col>very_active_minutes</th><th scope=col>fairly_active_minutes</th><th scope=col>lightly_active_minutes</th><th scope=col>sedentary_minutes</th><th scope=col>calories</th></tr>\n",
       "\t<tr><th scope=col>&lt;dbl&gt;</th><th scope=col>&lt;chr&gt;</th><th scope=col>&lt;int&gt;</th><th scope=col>&lt;dbl&gt;</th><th scope=col>&lt;dbl&gt;</th><th scope=col>&lt;dbl&gt;</th><th scope=col>&lt;dbl&gt;</th><th scope=col>&lt;dbl&gt;</th><th scope=col>&lt;dbl&gt;</th><th scope=col>&lt;dbl&gt;</th><th scope=col>&lt;int&gt;</th><th scope=col>&lt;int&gt;</th><th scope=col>&lt;int&gt;</th><th scope=col>&lt;int&gt;</th><th scope=col>&lt;int&gt;</th></tr>\n",
       "</thead>\n",
       "<tbody>\n",
       "\t<tr><td>1503960366</td><td>4/12/2016</td><td>13162</td><td> 8.50</td><td> 8.50</td><td>0</td><td>1.88</td><td>0.55</td><td>6.06</td><td>0</td><td>25</td><td>13</td><td>328</td><td> 728</td><td>1985</td></tr>\n",
       "\t<tr><td>1503960366</td><td>4/13/2016</td><td>10735</td><td> 6.97</td><td> 6.97</td><td>0</td><td>1.57</td><td>0.69</td><td>4.71</td><td>0</td><td>21</td><td>19</td><td>217</td><td> 776</td><td>1797</td></tr>\n",
       "\t<tr><td>1503960366</td><td>4/14/2016</td><td>10460</td><td> 6.74</td><td> 6.74</td><td>0</td><td>2.44</td><td>0.40</td><td>3.91</td><td>0</td><td>30</td><td>11</td><td>181</td><td>1218</td><td>1776</td></tr>\n",
       "\t<tr><td>1503960366</td><td>4/15/2016</td><td> 9762</td><td> 6.28</td><td> 6.28</td><td>0</td><td>2.14</td><td>1.26</td><td>2.83</td><td>0</td><td>29</td><td>34</td><td>209</td><td> 726</td><td>1745</td></tr>\n",
       "\t<tr><td>1503960366</td><td>4/16/2016</td><td>12669</td><td> 8.16</td><td> 8.16</td><td>0</td><td>2.71</td><td>0.41</td><td>5.04</td><td>0</td><td>36</td><td>10</td><td>221</td><td> 773</td><td>1863</td></tr>\n",
       "\t<tr><td>1503960366</td><td>4/17/2016</td><td> 9705</td><td> 6.48</td><td> 6.48</td><td>0</td><td>3.19</td><td>0.78</td><td>2.51</td><td>0</td><td>38</td><td>20</td><td>164</td><td> 539</td><td>1728</td></tr>\n",
       "\t<tr><td>1503960366</td><td>4/18/2016</td><td>13019</td><td> 8.59</td><td> 8.59</td><td>0</td><td>3.25</td><td>0.64</td><td>4.71</td><td>0</td><td>42</td><td>16</td><td>233</td><td>1149</td><td>1921</td></tr>\n",
       "\t<tr><td>1503960366</td><td>4/19/2016</td><td>15506</td><td> 9.88</td><td> 9.88</td><td>0</td><td>3.53</td><td>1.32</td><td>5.03</td><td>0</td><td>50</td><td>31</td><td>264</td><td> 775</td><td>2035</td></tr>\n",
       "\t<tr><td>1503960366</td><td>4/20/2016</td><td>10544</td><td> 6.68</td><td> 6.68</td><td>0</td><td>1.96</td><td>0.48</td><td>4.24</td><td>0</td><td>28</td><td>12</td><td>205</td><td> 818</td><td>1786</td></tr>\n",
       "\t<tr><td>1503960366</td><td>4/21/2016</td><td> 9819</td><td> 6.34</td><td> 6.34</td><td>0</td><td>1.34</td><td>0.35</td><td>4.65</td><td>0</td><td>19</td><td> 8</td><td>211</td><td> 838</td><td>1775</td></tr>\n",
       "\t<tr><td>1503960366</td><td>4/22/2016</td><td>12764</td><td> 8.13</td><td> 8.13</td><td>0</td><td>4.76</td><td>1.12</td><td>2.24</td><td>0</td><td>66</td><td>27</td><td>130</td><td>1217</td><td>1827</td></tr>\n",
       "\t<tr><td>1503960366</td><td>4/23/2016</td><td>14371</td><td> 9.04</td><td> 9.04</td><td>0</td><td>2.81</td><td>0.87</td><td>5.36</td><td>0</td><td>41</td><td>21</td><td>262</td><td> 732</td><td>1949</td></tr>\n",
       "\t<tr><td>1503960366</td><td>4/24/2016</td><td>10039</td><td> 6.41</td><td> 6.41</td><td>0</td><td>2.92</td><td>0.21</td><td>3.28</td><td>0</td><td>39</td><td> 5</td><td>238</td><td> 709</td><td>1788</td></tr>\n",
       "\t<tr><td>1503960366</td><td>4/25/2016</td><td>15355</td><td> 9.80</td><td> 9.80</td><td>0</td><td>5.29</td><td>0.57</td><td>3.94</td><td>0</td><td>73</td><td>14</td><td>216</td><td> 814</td><td>2013</td></tr>\n",
       "\t<tr><td>1503960366</td><td>4/26/2016</td><td>13755</td><td> 8.79</td><td> 8.79</td><td>0</td><td>2.33</td><td>0.92</td><td>5.54</td><td>0</td><td>31</td><td>23</td><td>279</td><td> 833</td><td>1970</td></tr>\n",
       "\t<tr><td>1503960366</td><td>4/27/2016</td><td>18134</td><td>12.21</td><td>12.21</td><td>0</td><td>6.40</td><td>0.41</td><td>5.41</td><td>0</td><td>78</td><td>11</td><td>243</td><td>1108</td><td>2159</td></tr>\n",
       "\t<tr><td>1503960366</td><td>4/28/2016</td><td>13154</td><td> 8.53</td><td> 8.53</td><td>0</td><td>3.54</td><td>1.16</td><td>3.79</td><td>0</td><td>48</td><td>28</td><td>189</td><td> 782</td><td>1898</td></tr>\n",
       "\t<tr><td>1503960366</td><td>4/29/2016</td><td>11181</td><td> 7.15</td><td> 7.15</td><td>0</td><td>1.06</td><td>0.50</td><td>5.58</td><td>0</td><td>16</td><td>12</td><td>243</td><td> 815</td><td>1837</td></tr>\n",
       "\t<tr><td>1503960366</td><td>4/30/2016</td><td>14673</td><td> 9.25</td><td> 9.25</td><td>0</td><td>3.56</td><td>1.42</td><td>4.27</td><td>0</td><td>52</td><td>34</td><td>217</td><td> 712</td><td>1947</td></tr>\n",
       "\t<tr><td>1503960366</td><td>5/1/2016 </td><td>10602</td><td> 6.81</td><td> 6.81</td><td>0</td><td>2.29</td><td>1.60</td><td>2.92</td><td>0</td><td>33</td><td>35</td><td>246</td><td> 730</td><td>1820</td></tr>\n",
       "\t<tr><td>1503960366</td><td>5/2/2016 </td><td>14727</td><td> 9.71</td><td> 9.71</td><td>0</td><td>3.21</td><td>0.57</td><td>5.92</td><td>0</td><td>41</td><td>15</td><td>277</td><td> 798</td><td>2004</td></tr>\n",
       "\t<tr><td>1503960366</td><td>5/3/2016 </td><td>15103</td><td> 9.66</td><td> 9.66</td><td>0</td><td>3.73</td><td>1.05</td><td>4.88</td><td>0</td><td>50</td><td>24</td><td>254</td><td> 816</td><td>1990</td></tr>\n",
       "\t<tr><td>1503960366</td><td>5/4/2016 </td><td>11100</td><td> 7.15</td><td> 7.15</td><td>0</td><td>2.46</td><td>0.87</td><td>3.82</td><td>0</td><td>36</td><td>22</td><td>203</td><td>1179</td><td>1819</td></tr>\n",
       "\t<tr><td>1503960366</td><td>5/5/2016 </td><td>14070</td><td> 8.90</td><td> 8.90</td><td>0</td><td>2.92</td><td>1.08</td><td>4.88</td><td>0</td><td>45</td><td>24</td><td>250</td><td> 857</td><td>1959</td></tr>\n",
       "\t<tr><td>1503960366</td><td>5/6/2016 </td><td>12159</td><td> 8.03</td><td> 8.03</td><td>0</td><td>1.97</td><td>0.25</td><td>5.81</td><td>0</td><td>24</td><td> 6</td><td>289</td><td> 754</td><td>1896</td></tr>\n",
       "\t<tr><td>1503960366</td><td>5/7/2016 </td><td>11992</td><td> 7.71</td><td> 7.71</td><td>0</td><td>2.46</td><td>2.12</td><td>3.13</td><td>0</td><td>37</td><td>46</td><td>175</td><td> 833</td><td>1821</td></tr>\n",
       "\t<tr><td>1503960366</td><td>5/8/2016 </td><td>10060</td><td> 6.58</td><td> 6.58</td><td>0</td><td>3.53</td><td>0.32</td><td>2.73</td><td>0</td><td>44</td><td> 8</td><td>203</td><td> 574</td><td>1740</td></tr>\n",
       "\t<tr><td>1503960366</td><td>5/9/2016 </td><td>12022</td><td> 7.72</td><td> 7.72</td><td>0</td><td>3.45</td><td>0.53</td><td>3.74</td><td>0</td><td>46</td><td>11</td><td>206</td><td> 835</td><td>1819</td></tr>\n",
       "\t<tr><td>1503960366</td><td>5/10/2016</td><td>12207</td><td> 7.77</td><td> 7.77</td><td>0</td><td>3.35</td><td>1.16</td><td>3.26</td><td>0</td><td>46</td><td>31</td><td>214</td><td> 746</td><td>1859</td></tr>\n",
       "\t<tr><td>1503960366</td><td>5/11/2016</td><td>12770</td><td> 8.13</td><td> 8.13</td><td>0</td><td>2.56</td><td>1.01</td><td>4.55</td><td>0</td><td>36</td><td>23</td><td>251</td><td> 669</td><td>1783</td></tr>\n",
       "\t<tr><td>⋮</td><td>⋮</td><td>⋮</td><td>⋮</td><td>⋮</td><td>⋮</td><td>⋮</td><td>⋮</td><td>⋮</td><td>⋮</td><td>⋮</td><td>⋮</td><td>⋮</td><td>⋮</td><td>⋮</td></tr>\n",
       "\t<tr><td>8877689391</td><td>4/13/2016</td><td>15337</td><td> 9.58</td><td> 9.58</td><td>0</td><td> 3.55</td><td>0.38</td><td> 5.64</td><td>0.00</td><td>108</td><td>18</td><td>216</td><td>1098</td><td>3566</td></tr>\n",
       "\t<tr><td>8877689391</td><td>4/14/2016</td><td>21129</td><td>18.98</td><td>18.98</td><td>0</td><td>10.55</td><td>0.59</td><td> 7.75</td><td>0.02</td><td> 68</td><td>13</td><td>298</td><td>1061</td><td>3793</td></tr>\n",
       "\t<tr><td>8877689391</td><td>4/15/2016</td><td>13422</td><td> 7.17</td><td> 7.17</td><td>0</td><td> 0.05</td><td>0.05</td><td> 7.01</td><td>0.01</td><td>106</td><td> 1</td><td>281</td><td>1052</td><td>3934</td></tr>\n",
       "\t<tr><td>8877689391</td><td>4/16/2016</td><td>29326</td><td>25.29</td><td>25.29</td><td>0</td><td>13.24</td><td>1.21</td><td>10.71</td><td>0.00</td><td> 94</td><td>29</td><td>429</td><td> 888</td><td>4547</td></tr>\n",
       "\t<tr><td>8877689391</td><td>4/17/2016</td><td>15118</td><td> 8.87</td><td> 8.87</td><td>0</td><td> 0.00</td><td>0.07</td><td> 8.79</td><td>0.00</td><td> 58</td><td>15</td><td>307</td><td>1060</td><td>3545</td></tr>\n",
       "\t<tr><td>8877689391</td><td>4/18/2016</td><td>11423</td><td> 8.67</td><td> 8.67</td><td>0</td><td> 2.44</td><td>0.27</td><td> 5.94</td><td>0.00</td><td> 29</td><td> 5</td><td>191</td><td>1215</td><td>2761</td></tr>\n",
       "\t<tr><td>8877689391</td><td>4/19/2016</td><td>18785</td><td>17.40</td><td>17.40</td><td>0</td><td>12.15</td><td>0.18</td><td> 5.03</td><td>0.00</td><td> 82</td><td>13</td><td>214</td><td>1131</td><td>3676</td></tr>\n",
       "\t<tr><td>8877689391</td><td>4/20/2016</td><td>19948</td><td>18.11</td><td>18.11</td><td>0</td><td>11.02</td><td>0.69</td><td> 6.34</td><td>0.00</td><td> 73</td><td>19</td><td>225</td><td>1123</td><td>3679</td></tr>\n",
       "\t<tr><td>8877689391</td><td>4/21/2016</td><td>19377</td><td>17.62</td><td>17.62</td><td>0</td><td>12.29</td><td>0.42</td><td> 4.89</td><td>0.00</td><td> 82</td><td>13</td><td>226</td><td>1119</td><td>3659</td></tr>\n",
       "\t<tr><td>8877689391</td><td>4/22/2016</td><td>18258</td><td>16.31</td><td>16.31</td><td>0</td><td>10.23</td><td>0.03</td><td> 5.97</td><td>0.05</td><td> 61</td><td> 2</td><td>236</td><td>1141</td><td>3427</td></tr>\n",
       "\t<tr><td>8877689391</td><td>4/23/2016</td><td>11200</td><td> 7.43</td><td> 7.43</td><td>0</td><td> 0.00</td><td>0.00</td><td> 7.40</td><td>0.01</td><td>102</td><td> 6</td><td>300</td><td>1032</td><td>3891</td></tr>\n",
       "\t<tr><td>8877689391</td><td>4/24/2016</td><td>16674</td><td>15.74</td><td>15.74</td><td>0</td><td>11.01</td><td>0.01</td><td> 4.69</td><td>0.00</td><td> 64</td><td> 1</td><td>227</td><td>1148</td><td>3455</td></tr>\n",
       "\t<tr><td>8877689391</td><td>4/25/2016</td><td>12986</td><td> 8.74</td><td> 8.74</td><td>0</td><td> 2.37</td><td>0.07</td><td> 6.27</td><td>0.01</td><td>113</td><td> 8</td><td>218</td><td>1101</td><td>3802</td></tr>\n",
       "\t<tr><td>8877689391</td><td>4/26/2016</td><td>11101</td><td> 8.43</td><td> 8.43</td><td>0</td><td> 1.76</td><td>0.13</td><td> 6.50</td><td>0.00</td><td> 22</td><td> 3</td><td>258</td><td>1157</td><td>2860</td></tr>\n",
       "\t<tr><td>8877689391</td><td>4/27/2016</td><td>23629</td><td>20.65</td><td>20.65</td><td>0</td><td>13.07</td><td>0.44</td><td> 7.10</td><td>0.00</td><td> 93</td><td> 8</td><td>235</td><td>1104</td><td>3808</td></tr>\n",
       "\t<tr><td>8877689391</td><td>4/28/2016</td><td>14890</td><td>11.30</td><td>11.30</td><td>0</td><td> 4.93</td><td>0.38</td><td> 5.97</td><td>0.00</td><td> 58</td><td> 8</td><td>231</td><td>1143</td><td>3060</td></tr>\n",
       "\t<tr><td>8877689391</td><td>4/29/2016</td><td> 9733</td><td> 7.39</td><td> 7.39</td><td>0</td><td> 1.38</td><td>0.17</td><td> 5.79</td><td>0.00</td><td> 18</td><td> 5</td><td>210</td><td>1207</td><td>2698</td></tr>\n",
       "\t<tr><td>8877689391</td><td>4/30/2016</td><td>27745</td><td>26.72</td><td>26.72</td><td>0</td><td>21.66</td><td>0.08</td><td> 4.93</td><td>0.00</td><td>124</td><td> 4</td><td>223</td><td>1089</td><td>4398</td></tr>\n",
       "\t<tr><td>8877689391</td><td>5/1/2016 </td><td>10930</td><td> 8.32</td><td> 8.32</td><td>0</td><td> 3.13</td><td>0.57</td><td> 4.57</td><td>0.00</td><td> 36</td><td>12</td><td>166</td><td>1226</td><td>2786</td></tr>\n",
       "\t<tr><td>8877689391</td><td>5/2/2016 </td><td> 4790</td><td> 3.64</td><td> 3.64</td><td>0</td><td> 0.00</td><td>0.00</td><td> 3.56</td><td>0.00</td><td>  0</td><td> 0</td><td>105</td><td>1335</td><td>2189</td></tr>\n",
       "\t<tr><td>8877689391</td><td>5/3/2016 </td><td>10818</td><td> 8.21</td><td> 8.21</td><td>0</td><td> 1.39</td><td>0.10</td><td> 6.67</td><td>0.01</td><td> 19</td><td> 3</td><td>229</td><td>1189</td><td>2817</td></tr>\n",
       "\t<tr><td>8877689391</td><td>5/4/2016 </td><td>18193</td><td>16.30</td><td>16.30</td><td>0</td><td>10.42</td><td>0.31</td><td> 5.53</td><td>0.00</td><td> 66</td><td> 8</td><td>212</td><td>1154</td><td>3477</td></tr>\n",
       "\t<tr><td>8877689391</td><td>5/5/2016 </td><td>14055</td><td>10.67</td><td>10.67</td><td>0</td><td> 5.46</td><td>0.82</td><td> 4.37</td><td>0.00</td><td> 67</td><td>15</td><td>188</td><td>1170</td><td>3052</td></tr>\n",
       "\t<tr><td>8877689391</td><td>5/6/2016 </td><td>21727</td><td>19.34</td><td>19.34</td><td>0</td><td>12.79</td><td>0.29</td><td> 6.16</td><td>0.00</td><td> 96</td><td>17</td><td>232</td><td>1095</td><td>4015</td></tr>\n",
       "\t<tr><td>8877689391</td><td>5/7/2016 </td><td>12332</td><td> 8.13</td><td> 8.13</td><td>0</td><td> 0.08</td><td>0.96</td><td> 6.99</td><td>0.00</td><td>105</td><td>28</td><td>271</td><td>1036</td><td>4142</td></tr>\n",
       "\t<tr><td>8877689391</td><td>5/8/2016 </td><td>10686</td><td> 8.11</td><td> 8.11</td><td>0</td><td> 1.08</td><td>0.20</td><td> 6.80</td><td>0.00</td><td> 17</td><td> 4</td><td>245</td><td>1174</td><td>2847</td></tr>\n",
       "\t<tr><td>8877689391</td><td>5/9/2016 </td><td>20226</td><td>18.25</td><td>18.25</td><td>0</td><td>11.10</td><td>0.80</td><td> 6.24</td><td>0.05</td><td> 73</td><td>19</td><td>217</td><td>1131</td><td>3710</td></tr>\n",
       "\t<tr><td>8877689391</td><td>5/10/2016</td><td>10733</td><td> 8.15</td><td> 8.15</td><td>0</td><td> 1.35</td><td>0.46</td><td> 6.28</td><td>0.00</td><td> 18</td><td>11</td><td>224</td><td>1187</td><td>2832</td></tr>\n",
       "\t<tr><td>8877689391</td><td>5/11/2016</td><td>21420</td><td>19.56</td><td>19.56</td><td>0</td><td>13.22</td><td>0.41</td><td> 5.89</td><td>0.00</td><td> 88</td><td>12</td><td>213</td><td>1127</td><td>3832</td></tr>\n",
       "\t<tr><td>8877689391</td><td>5/12/2016</td><td> 8064</td><td> 6.12</td><td> 6.12</td><td>0</td><td> 1.82</td><td>0.04</td><td> 4.25</td><td>0.00</td><td> 23</td><td> 1</td><td>137</td><td> 770</td><td>1849</td></tr>\n",
       "</tbody>\n",
       "</table>\n"
      ],
      "text/latex": [
       "A data.frame: 940 × 15\n",
       "\\begin{tabular}{lllllllllllllll}\n",
       " id & activity\\_date & total\\_steps & total\\_distance & tracker\\_distance & logged\\_activities\\_distance & very\\_active\\_distance & moderately\\_active\\_distance & light\\_active\\_distance & sedentary\\_active\\_distance & very\\_active\\_minutes & fairly\\_active\\_minutes & lightly\\_active\\_minutes & sedentary\\_minutes & calories\\\\\n",
       " <dbl> & <chr> & <int> & <dbl> & <dbl> & <dbl> & <dbl> & <dbl> & <dbl> & <dbl> & <int> & <int> & <int> & <int> & <int>\\\\\n",
       "\\hline\n",
       "\t 1503960366 & 4/12/2016 & 13162 &  8.50 &  8.50 & 0 & 1.88 & 0.55 & 6.06 & 0 & 25 & 13 & 328 &  728 & 1985\\\\\n",
       "\t 1503960366 & 4/13/2016 & 10735 &  6.97 &  6.97 & 0 & 1.57 & 0.69 & 4.71 & 0 & 21 & 19 & 217 &  776 & 1797\\\\\n",
       "\t 1503960366 & 4/14/2016 & 10460 &  6.74 &  6.74 & 0 & 2.44 & 0.40 & 3.91 & 0 & 30 & 11 & 181 & 1218 & 1776\\\\\n",
       "\t 1503960366 & 4/15/2016 &  9762 &  6.28 &  6.28 & 0 & 2.14 & 1.26 & 2.83 & 0 & 29 & 34 & 209 &  726 & 1745\\\\\n",
       "\t 1503960366 & 4/16/2016 & 12669 &  8.16 &  8.16 & 0 & 2.71 & 0.41 & 5.04 & 0 & 36 & 10 & 221 &  773 & 1863\\\\\n",
       "\t 1503960366 & 4/17/2016 &  9705 &  6.48 &  6.48 & 0 & 3.19 & 0.78 & 2.51 & 0 & 38 & 20 & 164 &  539 & 1728\\\\\n",
       "\t 1503960366 & 4/18/2016 & 13019 &  8.59 &  8.59 & 0 & 3.25 & 0.64 & 4.71 & 0 & 42 & 16 & 233 & 1149 & 1921\\\\\n",
       "\t 1503960366 & 4/19/2016 & 15506 &  9.88 &  9.88 & 0 & 3.53 & 1.32 & 5.03 & 0 & 50 & 31 & 264 &  775 & 2035\\\\\n",
       "\t 1503960366 & 4/20/2016 & 10544 &  6.68 &  6.68 & 0 & 1.96 & 0.48 & 4.24 & 0 & 28 & 12 & 205 &  818 & 1786\\\\\n",
       "\t 1503960366 & 4/21/2016 &  9819 &  6.34 &  6.34 & 0 & 1.34 & 0.35 & 4.65 & 0 & 19 &  8 & 211 &  838 & 1775\\\\\n",
       "\t 1503960366 & 4/22/2016 & 12764 &  8.13 &  8.13 & 0 & 4.76 & 1.12 & 2.24 & 0 & 66 & 27 & 130 & 1217 & 1827\\\\\n",
       "\t 1503960366 & 4/23/2016 & 14371 &  9.04 &  9.04 & 0 & 2.81 & 0.87 & 5.36 & 0 & 41 & 21 & 262 &  732 & 1949\\\\\n",
       "\t 1503960366 & 4/24/2016 & 10039 &  6.41 &  6.41 & 0 & 2.92 & 0.21 & 3.28 & 0 & 39 &  5 & 238 &  709 & 1788\\\\\n",
       "\t 1503960366 & 4/25/2016 & 15355 &  9.80 &  9.80 & 0 & 5.29 & 0.57 & 3.94 & 0 & 73 & 14 & 216 &  814 & 2013\\\\\n",
       "\t 1503960366 & 4/26/2016 & 13755 &  8.79 &  8.79 & 0 & 2.33 & 0.92 & 5.54 & 0 & 31 & 23 & 279 &  833 & 1970\\\\\n",
       "\t 1503960366 & 4/27/2016 & 18134 & 12.21 & 12.21 & 0 & 6.40 & 0.41 & 5.41 & 0 & 78 & 11 & 243 & 1108 & 2159\\\\\n",
       "\t 1503960366 & 4/28/2016 & 13154 &  8.53 &  8.53 & 0 & 3.54 & 1.16 & 3.79 & 0 & 48 & 28 & 189 &  782 & 1898\\\\\n",
       "\t 1503960366 & 4/29/2016 & 11181 &  7.15 &  7.15 & 0 & 1.06 & 0.50 & 5.58 & 0 & 16 & 12 & 243 &  815 & 1837\\\\\n",
       "\t 1503960366 & 4/30/2016 & 14673 &  9.25 &  9.25 & 0 & 3.56 & 1.42 & 4.27 & 0 & 52 & 34 & 217 &  712 & 1947\\\\\n",
       "\t 1503960366 & 5/1/2016  & 10602 &  6.81 &  6.81 & 0 & 2.29 & 1.60 & 2.92 & 0 & 33 & 35 & 246 &  730 & 1820\\\\\n",
       "\t 1503960366 & 5/2/2016  & 14727 &  9.71 &  9.71 & 0 & 3.21 & 0.57 & 5.92 & 0 & 41 & 15 & 277 &  798 & 2004\\\\\n",
       "\t 1503960366 & 5/3/2016  & 15103 &  9.66 &  9.66 & 0 & 3.73 & 1.05 & 4.88 & 0 & 50 & 24 & 254 &  816 & 1990\\\\\n",
       "\t 1503960366 & 5/4/2016  & 11100 &  7.15 &  7.15 & 0 & 2.46 & 0.87 & 3.82 & 0 & 36 & 22 & 203 & 1179 & 1819\\\\\n",
       "\t 1503960366 & 5/5/2016  & 14070 &  8.90 &  8.90 & 0 & 2.92 & 1.08 & 4.88 & 0 & 45 & 24 & 250 &  857 & 1959\\\\\n",
       "\t 1503960366 & 5/6/2016  & 12159 &  8.03 &  8.03 & 0 & 1.97 & 0.25 & 5.81 & 0 & 24 &  6 & 289 &  754 & 1896\\\\\n",
       "\t 1503960366 & 5/7/2016  & 11992 &  7.71 &  7.71 & 0 & 2.46 & 2.12 & 3.13 & 0 & 37 & 46 & 175 &  833 & 1821\\\\\n",
       "\t 1503960366 & 5/8/2016  & 10060 &  6.58 &  6.58 & 0 & 3.53 & 0.32 & 2.73 & 0 & 44 &  8 & 203 &  574 & 1740\\\\\n",
       "\t 1503960366 & 5/9/2016  & 12022 &  7.72 &  7.72 & 0 & 3.45 & 0.53 & 3.74 & 0 & 46 & 11 & 206 &  835 & 1819\\\\\n",
       "\t 1503960366 & 5/10/2016 & 12207 &  7.77 &  7.77 & 0 & 3.35 & 1.16 & 3.26 & 0 & 46 & 31 & 214 &  746 & 1859\\\\\n",
       "\t 1503960366 & 5/11/2016 & 12770 &  8.13 &  8.13 & 0 & 2.56 & 1.01 & 4.55 & 0 & 36 & 23 & 251 &  669 & 1783\\\\\n",
       "\t ⋮ & ⋮ & ⋮ & ⋮ & ⋮ & ⋮ & ⋮ & ⋮ & ⋮ & ⋮ & ⋮ & ⋮ & ⋮ & ⋮ & ⋮\\\\\n",
       "\t 8877689391 & 4/13/2016 & 15337 &  9.58 &  9.58 & 0 &  3.55 & 0.38 &  5.64 & 0.00 & 108 & 18 & 216 & 1098 & 3566\\\\\n",
       "\t 8877689391 & 4/14/2016 & 21129 & 18.98 & 18.98 & 0 & 10.55 & 0.59 &  7.75 & 0.02 &  68 & 13 & 298 & 1061 & 3793\\\\\n",
       "\t 8877689391 & 4/15/2016 & 13422 &  7.17 &  7.17 & 0 &  0.05 & 0.05 &  7.01 & 0.01 & 106 &  1 & 281 & 1052 & 3934\\\\\n",
       "\t 8877689391 & 4/16/2016 & 29326 & 25.29 & 25.29 & 0 & 13.24 & 1.21 & 10.71 & 0.00 &  94 & 29 & 429 &  888 & 4547\\\\\n",
       "\t 8877689391 & 4/17/2016 & 15118 &  8.87 &  8.87 & 0 &  0.00 & 0.07 &  8.79 & 0.00 &  58 & 15 & 307 & 1060 & 3545\\\\\n",
       "\t 8877689391 & 4/18/2016 & 11423 &  8.67 &  8.67 & 0 &  2.44 & 0.27 &  5.94 & 0.00 &  29 &  5 & 191 & 1215 & 2761\\\\\n",
       "\t 8877689391 & 4/19/2016 & 18785 & 17.40 & 17.40 & 0 & 12.15 & 0.18 &  5.03 & 0.00 &  82 & 13 & 214 & 1131 & 3676\\\\\n",
       "\t 8877689391 & 4/20/2016 & 19948 & 18.11 & 18.11 & 0 & 11.02 & 0.69 &  6.34 & 0.00 &  73 & 19 & 225 & 1123 & 3679\\\\\n",
       "\t 8877689391 & 4/21/2016 & 19377 & 17.62 & 17.62 & 0 & 12.29 & 0.42 &  4.89 & 0.00 &  82 & 13 & 226 & 1119 & 3659\\\\\n",
       "\t 8877689391 & 4/22/2016 & 18258 & 16.31 & 16.31 & 0 & 10.23 & 0.03 &  5.97 & 0.05 &  61 &  2 & 236 & 1141 & 3427\\\\\n",
       "\t 8877689391 & 4/23/2016 & 11200 &  7.43 &  7.43 & 0 &  0.00 & 0.00 &  7.40 & 0.01 & 102 &  6 & 300 & 1032 & 3891\\\\\n",
       "\t 8877689391 & 4/24/2016 & 16674 & 15.74 & 15.74 & 0 & 11.01 & 0.01 &  4.69 & 0.00 &  64 &  1 & 227 & 1148 & 3455\\\\\n",
       "\t 8877689391 & 4/25/2016 & 12986 &  8.74 &  8.74 & 0 &  2.37 & 0.07 &  6.27 & 0.01 & 113 &  8 & 218 & 1101 & 3802\\\\\n",
       "\t 8877689391 & 4/26/2016 & 11101 &  8.43 &  8.43 & 0 &  1.76 & 0.13 &  6.50 & 0.00 &  22 &  3 & 258 & 1157 & 2860\\\\\n",
       "\t 8877689391 & 4/27/2016 & 23629 & 20.65 & 20.65 & 0 & 13.07 & 0.44 &  7.10 & 0.00 &  93 &  8 & 235 & 1104 & 3808\\\\\n",
       "\t 8877689391 & 4/28/2016 & 14890 & 11.30 & 11.30 & 0 &  4.93 & 0.38 &  5.97 & 0.00 &  58 &  8 & 231 & 1143 & 3060\\\\\n",
       "\t 8877689391 & 4/29/2016 &  9733 &  7.39 &  7.39 & 0 &  1.38 & 0.17 &  5.79 & 0.00 &  18 &  5 & 210 & 1207 & 2698\\\\\n",
       "\t 8877689391 & 4/30/2016 & 27745 & 26.72 & 26.72 & 0 & 21.66 & 0.08 &  4.93 & 0.00 & 124 &  4 & 223 & 1089 & 4398\\\\\n",
       "\t 8877689391 & 5/1/2016  & 10930 &  8.32 &  8.32 & 0 &  3.13 & 0.57 &  4.57 & 0.00 &  36 & 12 & 166 & 1226 & 2786\\\\\n",
       "\t 8877689391 & 5/2/2016  &  4790 &  3.64 &  3.64 & 0 &  0.00 & 0.00 &  3.56 & 0.00 &   0 &  0 & 105 & 1335 & 2189\\\\\n",
       "\t 8877689391 & 5/3/2016  & 10818 &  8.21 &  8.21 & 0 &  1.39 & 0.10 &  6.67 & 0.01 &  19 &  3 & 229 & 1189 & 2817\\\\\n",
       "\t 8877689391 & 5/4/2016  & 18193 & 16.30 & 16.30 & 0 & 10.42 & 0.31 &  5.53 & 0.00 &  66 &  8 & 212 & 1154 & 3477\\\\\n",
       "\t 8877689391 & 5/5/2016  & 14055 & 10.67 & 10.67 & 0 &  5.46 & 0.82 &  4.37 & 0.00 &  67 & 15 & 188 & 1170 & 3052\\\\\n",
       "\t 8877689391 & 5/6/2016  & 21727 & 19.34 & 19.34 & 0 & 12.79 & 0.29 &  6.16 & 0.00 &  96 & 17 & 232 & 1095 & 4015\\\\\n",
       "\t 8877689391 & 5/7/2016  & 12332 &  8.13 &  8.13 & 0 &  0.08 & 0.96 &  6.99 & 0.00 & 105 & 28 & 271 & 1036 & 4142\\\\\n",
       "\t 8877689391 & 5/8/2016  & 10686 &  8.11 &  8.11 & 0 &  1.08 & 0.20 &  6.80 & 0.00 &  17 &  4 & 245 & 1174 & 2847\\\\\n",
       "\t 8877689391 & 5/9/2016  & 20226 & 18.25 & 18.25 & 0 & 11.10 & 0.80 &  6.24 & 0.05 &  73 & 19 & 217 & 1131 & 3710\\\\\n",
       "\t 8877689391 & 5/10/2016 & 10733 &  8.15 &  8.15 & 0 &  1.35 & 0.46 &  6.28 & 0.00 &  18 & 11 & 224 & 1187 & 2832\\\\\n",
       "\t 8877689391 & 5/11/2016 & 21420 & 19.56 & 19.56 & 0 & 13.22 & 0.41 &  5.89 & 0.00 &  88 & 12 & 213 & 1127 & 3832\\\\\n",
       "\t 8877689391 & 5/12/2016 &  8064 &  6.12 &  6.12 & 0 &  1.82 & 0.04 &  4.25 & 0.00 &  23 &  1 & 137 &  770 & 1849\\\\\n",
       "\\end{tabular}\n"
      ],
      "text/markdown": [
       "\n",
       "A data.frame: 940 × 15\n",
       "\n",
       "| id &lt;dbl&gt; | activity_date &lt;chr&gt; | total_steps &lt;int&gt; | total_distance &lt;dbl&gt; | tracker_distance &lt;dbl&gt; | logged_activities_distance &lt;dbl&gt; | very_active_distance &lt;dbl&gt; | moderately_active_distance &lt;dbl&gt; | light_active_distance &lt;dbl&gt; | sedentary_active_distance &lt;dbl&gt; | very_active_minutes &lt;int&gt; | fairly_active_minutes &lt;int&gt; | lightly_active_minutes &lt;int&gt; | sedentary_minutes &lt;int&gt; | calories &lt;int&gt; |\n",
       "|---|---|---|---|---|---|---|---|---|---|---|---|---|---|---|\n",
       "| 1503960366 | 4/12/2016 | 13162 |  8.50 |  8.50 | 0 | 1.88 | 0.55 | 6.06 | 0 | 25 | 13 | 328 |  728 | 1985 |\n",
       "| 1503960366 | 4/13/2016 | 10735 |  6.97 |  6.97 | 0 | 1.57 | 0.69 | 4.71 | 0 | 21 | 19 | 217 |  776 | 1797 |\n",
       "| 1503960366 | 4/14/2016 | 10460 |  6.74 |  6.74 | 0 | 2.44 | 0.40 | 3.91 | 0 | 30 | 11 | 181 | 1218 | 1776 |\n",
       "| 1503960366 | 4/15/2016 |  9762 |  6.28 |  6.28 | 0 | 2.14 | 1.26 | 2.83 | 0 | 29 | 34 | 209 |  726 | 1745 |\n",
       "| 1503960366 | 4/16/2016 | 12669 |  8.16 |  8.16 | 0 | 2.71 | 0.41 | 5.04 | 0 | 36 | 10 | 221 |  773 | 1863 |\n",
       "| 1503960366 | 4/17/2016 |  9705 |  6.48 |  6.48 | 0 | 3.19 | 0.78 | 2.51 | 0 | 38 | 20 | 164 |  539 | 1728 |\n",
       "| 1503960366 | 4/18/2016 | 13019 |  8.59 |  8.59 | 0 | 3.25 | 0.64 | 4.71 | 0 | 42 | 16 | 233 | 1149 | 1921 |\n",
       "| 1503960366 | 4/19/2016 | 15506 |  9.88 |  9.88 | 0 | 3.53 | 1.32 | 5.03 | 0 | 50 | 31 | 264 |  775 | 2035 |\n",
       "| 1503960366 | 4/20/2016 | 10544 |  6.68 |  6.68 | 0 | 1.96 | 0.48 | 4.24 | 0 | 28 | 12 | 205 |  818 | 1786 |\n",
       "| 1503960366 | 4/21/2016 |  9819 |  6.34 |  6.34 | 0 | 1.34 | 0.35 | 4.65 | 0 | 19 |  8 | 211 |  838 | 1775 |\n",
       "| 1503960366 | 4/22/2016 | 12764 |  8.13 |  8.13 | 0 | 4.76 | 1.12 | 2.24 | 0 | 66 | 27 | 130 | 1217 | 1827 |\n",
       "| 1503960366 | 4/23/2016 | 14371 |  9.04 |  9.04 | 0 | 2.81 | 0.87 | 5.36 | 0 | 41 | 21 | 262 |  732 | 1949 |\n",
       "| 1503960366 | 4/24/2016 | 10039 |  6.41 |  6.41 | 0 | 2.92 | 0.21 | 3.28 | 0 | 39 |  5 | 238 |  709 | 1788 |\n",
       "| 1503960366 | 4/25/2016 | 15355 |  9.80 |  9.80 | 0 | 5.29 | 0.57 | 3.94 | 0 | 73 | 14 | 216 |  814 | 2013 |\n",
       "| 1503960366 | 4/26/2016 | 13755 |  8.79 |  8.79 | 0 | 2.33 | 0.92 | 5.54 | 0 | 31 | 23 | 279 |  833 | 1970 |\n",
       "| 1503960366 | 4/27/2016 | 18134 | 12.21 | 12.21 | 0 | 6.40 | 0.41 | 5.41 | 0 | 78 | 11 | 243 | 1108 | 2159 |\n",
       "| 1503960366 | 4/28/2016 | 13154 |  8.53 |  8.53 | 0 | 3.54 | 1.16 | 3.79 | 0 | 48 | 28 | 189 |  782 | 1898 |\n",
       "| 1503960366 | 4/29/2016 | 11181 |  7.15 |  7.15 | 0 | 1.06 | 0.50 | 5.58 | 0 | 16 | 12 | 243 |  815 | 1837 |\n",
       "| 1503960366 | 4/30/2016 | 14673 |  9.25 |  9.25 | 0 | 3.56 | 1.42 | 4.27 | 0 | 52 | 34 | 217 |  712 | 1947 |\n",
       "| 1503960366 | 5/1/2016  | 10602 |  6.81 |  6.81 | 0 | 2.29 | 1.60 | 2.92 | 0 | 33 | 35 | 246 |  730 | 1820 |\n",
       "| 1503960366 | 5/2/2016  | 14727 |  9.71 |  9.71 | 0 | 3.21 | 0.57 | 5.92 | 0 | 41 | 15 | 277 |  798 | 2004 |\n",
       "| 1503960366 | 5/3/2016  | 15103 |  9.66 |  9.66 | 0 | 3.73 | 1.05 | 4.88 | 0 | 50 | 24 | 254 |  816 | 1990 |\n",
       "| 1503960366 | 5/4/2016  | 11100 |  7.15 |  7.15 | 0 | 2.46 | 0.87 | 3.82 | 0 | 36 | 22 | 203 | 1179 | 1819 |\n",
       "| 1503960366 | 5/5/2016  | 14070 |  8.90 |  8.90 | 0 | 2.92 | 1.08 | 4.88 | 0 | 45 | 24 | 250 |  857 | 1959 |\n",
       "| 1503960366 | 5/6/2016  | 12159 |  8.03 |  8.03 | 0 | 1.97 | 0.25 | 5.81 | 0 | 24 |  6 | 289 |  754 | 1896 |\n",
       "| 1503960366 | 5/7/2016  | 11992 |  7.71 |  7.71 | 0 | 2.46 | 2.12 | 3.13 | 0 | 37 | 46 | 175 |  833 | 1821 |\n",
       "| 1503960366 | 5/8/2016  | 10060 |  6.58 |  6.58 | 0 | 3.53 | 0.32 | 2.73 | 0 | 44 |  8 | 203 |  574 | 1740 |\n",
       "| 1503960366 | 5/9/2016  | 12022 |  7.72 |  7.72 | 0 | 3.45 | 0.53 | 3.74 | 0 | 46 | 11 | 206 |  835 | 1819 |\n",
       "| 1503960366 | 5/10/2016 | 12207 |  7.77 |  7.77 | 0 | 3.35 | 1.16 | 3.26 | 0 | 46 | 31 | 214 |  746 | 1859 |\n",
       "| 1503960366 | 5/11/2016 | 12770 |  8.13 |  8.13 | 0 | 2.56 | 1.01 | 4.55 | 0 | 36 | 23 | 251 |  669 | 1783 |\n",
       "| ⋮ | ⋮ | ⋮ | ⋮ | ⋮ | ⋮ | ⋮ | ⋮ | ⋮ | ⋮ | ⋮ | ⋮ | ⋮ | ⋮ | ⋮ |\n",
       "| 8877689391 | 4/13/2016 | 15337 |  9.58 |  9.58 | 0 |  3.55 | 0.38 |  5.64 | 0.00 | 108 | 18 | 216 | 1098 | 3566 |\n",
       "| 8877689391 | 4/14/2016 | 21129 | 18.98 | 18.98 | 0 | 10.55 | 0.59 |  7.75 | 0.02 |  68 | 13 | 298 | 1061 | 3793 |\n",
       "| 8877689391 | 4/15/2016 | 13422 |  7.17 |  7.17 | 0 |  0.05 | 0.05 |  7.01 | 0.01 | 106 |  1 | 281 | 1052 | 3934 |\n",
       "| 8877689391 | 4/16/2016 | 29326 | 25.29 | 25.29 | 0 | 13.24 | 1.21 | 10.71 | 0.00 |  94 | 29 | 429 |  888 | 4547 |\n",
       "| 8877689391 | 4/17/2016 | 15118 |  8.87 |  8.87 | 0 |  0.00 | 0.07 |  8.79 | 0.00 |  58 | 15 | 307 | 1060 | 3545 |\n",
       "| 8877689391 | 4/18/2016 | 11423 |  8.67 |  8.67 | 0 |  2.44 | 0.27 |  5.94 | 0.00 |  29 |  5 | 191 | 1215 | 2761 |\n",
       "| 8877689391 | 4/19/2016 | 18785 | 17.40 | 17.40 | 0 | 12.15 | 0.18 |  5.03 | 0.00 |  82 | 13 | 214 | 1131 | 3676 |\n",
       "| 8877689391 | 4/20/2016 | 19948 | 18.11 | 18.11 | 0 | 11.02 | 0.69 |  6.34 | 0.00 |  73 | 19 | 225 | 1123 | 3679 |\n",
       "| 8877689391 | 4/21/2016 | 19377 | 17.62 | 17.62 | 0 | 12.29 | 0.42 |  4.89 | 0.00 |  82 | 13 | 226 | 1119 | 3659 |\n",
       "| 8877689391 | 4/22/2016 | 18258 | 16.31 | 16.31 | 0 | 10.23 | 0.03 |  5.97 | 0.05 |  61 |  2 | 236 | 1141 | 3427 |\n",
       "| 8877689391 | 4/23/2016 | 11200 |  7.43 |  7.43 | 0 |  0.00 | 0.00 |  7.40 | 0.01 | 102 |  6 | 300 | 1032 | 3891 |\n",
       "| 8877689391 | 4/24/2016 | 16674 | 15.74 | 15.74 | 0 | 11.01 | 0.01 |  4.69 | 0.00 |  64 |  1 | 227 | 1148 | 3455 |\n",
       "| 8877689391 | 4/25/2016 | 12986 |  8.74 |  8.74 | 0 |  2.37 | 0.07 |  6.27 | 0.01 | 113 |  8 | 218 | 1101 | 3802 |\n",
       "| 8877689391 | 4/26/2016 | 11101 |  8.43 |  8.43 | 0 |  1.76 | 0.13 |  6.50 | 0.00 |  22 |  3 | 258 | 1157 | 2860 |\n",
       "| 8877689391 | 4/27/2016 | 23629 | 20.65 | 20.65 | 0 | 13.07 | 0.44 |  7.10 | 0.00 |  93 |  8 | 235 | 1104 | 3808 |\n",
       "| 8877689391 | 4/28/2016 | 14890 | 11.30 | 11.30 | 0 |  4.93 | 0.38 |  5.97 | 0.00 |  58 |  8 | 231 | 1143 | 3060 |\n",
       "| 8877689391 | 4/29/2016 |  9733 |  7.39 |  7.39 | 0 |  1.38 | 0.17 |  5.79 | 0.00 |  18 |  5 | 210 | 1207 | 2698 |\n",
       "| 8877689391 | 4/30/2016 | 27745 | 26.72 | 26.72 | 0 | 21.66 | 0.08 |  4.93 | 0.00 | 124 |  4 | 223 | 1089 | 4398 |\n",
       "| 8877689391 | 5/1/2016  | 10930 |  8.32 |  8.32 | 0 |  3.13 | 0.57 |  4.57 | 0.00 |  36 | 12 | 166 | 1226 | 2786 |\n",
       "| 8877689391 | 5/2/2016  |  4790 |  3.64 |  3.64 | 0 |  0.00 | 0.00 |  3.56 | 0.00 |   0 |  0 | 105 | 1335 | 2189 |\n",
       "| 8877689391 | 5/3/2016  | 10818 |  8.21 |  8.21 | 0 |  1.39 | 0.10 |  6.67 | 0.01 |  19 |  3 | 229 | 1189 | 2817 |\n",
       "| 8877689391 | 5/4/2016  | 18193 | 16.30 | 16.30 | 0 | 10.42 | 0.31 |  5.53 | 0.00 |  66 |  8 | 212 | 1154 | 3477 |\n",
       "| 8877689391 | 5/5/2016  | 14055 | 10.67 | 10.67 | 0 |  5.46 | 0.82 |  4.37 | 0.00 |  67 | 15 | 188 | 1170 | 3052 |\n",
       "| 8877689391 | 5/6/2016  | 21727 | 19.34 | 19.34 | 0 | 12.79 | 0.29 |  6.16 | 0.00 |  96 | 17 | 232 | 1095 | 4015 |\n",
       "| 8877689391 | 5/7/2016  | 12332 |  8.13 |  8.13 | 0 |  0.08 | 0.96 |  6.99 | 0.00 | 105 | 28 | 271 | 1036 | 4142 |\n",
       "| 8877689391 | 5/8/2016  | 10686 |  8.11 |  8.11 | 0 |  1.08 | 0.20 |  6.80 | 0.00 |  17 |  4 | 245 | 1174 | 2847 |\n",
       "| 8877689391 | 5/9/2016  | 20226 | 18.25 | 18.25 | 0 | 11.10 | 0.80 |  6.24 | 0.05 |  73 | 19 | 217 | 1131 | 3710 |\n",
       "| 8877689391 | 5/10/2016 | 10733 |  8.15 |  8.15 | 0 |  1.35 | 0.46 |  6.28 | 0.00 |  18 | 11 | 224 | 1187 | 2832 |\n",
       "| 8877689391 | 5/11/2016 | 21420 | 19.56 | 19.56 | 0 | 13.22 | 0.41 |  5.89 | 0.00 |  88 | 12 | 213 | 1127 | 3832 |\n",
       "| 8877689391 | 5/12/2016 |  8064 |  6.12 |  6.12 | 0 |  1.82 | 0.04 |  4.25 | 0.00 |  23 |  1 | 137 |  770 | 1849 |\n",
       "\n"
      ],
      "text/plain": [
       "    id         activity_date total_steps total_distance tracker_distance\n",
       "1   1503960366 4/12/2016     13162        8.50           8.50           \n",
       "2   1503960366 4/13/2016     10735        6.97           6.97           \n",
       "3   1503960366 4/14/2016     10460        6.74           6.74           \n",
       "4   1503960366 4/15/2016      9762        6.28           6.28           \n",
       "5   1503960366 4/16/2016     12669        8.16           8.16           \n",
       "6   1503960366 4/17/2016      9705        6.48           6.48           \n",
       "7   1503960366 4/18/2016     13019        8.59           8.59           \n",
       "8   1503960366 4/19/2016     15506        9.88           9.88           \n",
       "9   1503960366 4/20/2016     10544        6.68           6.68           \n",
       "10  1503960366 4/21/2016      9819        6.34           6.34           \n",
       "11  1503960366 4/22/2016     12764        8.13           8.13           \n",
       "12  1503960366 4/23/2016     14371        9.04           9.04           \n",
       "13  1503960366 4/24/2016     10039        6.41           6.41           \n",
       "14  1503960366 4/25/2016     15355        9.80           9.80           \n",
       "15  1503960366 4/26/2016     13755        8.79           8.79           \n",
       "16  1503960366 4/27/2016     18134       12.21          12.21           \n",
       "17  1503960366 4/28/2016     13154        8.53           8.53           \n",
       "18  1503960366 4/29/2016     11181        7.15           7.15           \n",
       "19  1503960366 4/30/2016     14673        9.25           9.25           \n",
       "20  1503960366 5/1/2016      10602        6.81           6.81           \n",
       "21  1503960366 5/2/2016      14727        9.71           9.71           \n",
       "22  1503960366 5/3/2016      15103        9.66           9.66           \n",
       "23  1503960366 5/4/2016      11100        7.15           7.15           \n",
       "24  1503960366 5/5/2016      14070        8.90           8.90           \n",
       "25  1503960366 5/6/2016      12159        8.03           8.03           \n",
       "26  1503960366 5/7/2016      11992        7.71           7.71           \n",
       "27  1503960366 5/8/2016      10060        6.58           6.58           \n",
       "28  1503960366 5/9/2016      12022        7.72           7.72           \n",
       "29  1503960366 5/10/2016     12207        7.77           7.77           \n",
       "30  1503960366 5/11/2016     12770        8.13           8.13           \n",
       "⋮   ⋮          ⋮             ⋮           ⋮              ⋮               \n",
       "911 8877689391 4/13/2016     15337        9.58           9.58           \n",
       "912 8877689391 4/14/2016     21129       18.98          18.98           \n",
       "913 8877689391 4/15/2016     13422        7.17           7.17           \n",
       "914 8877689391 4/16/2016     29326       25.29          25.29           \n",
       "915 8877689391 4/17/2016     15118        8.87           8.87           \n",
       "916 8877689391 4/18/2016     11423        8.67           8.67           \n",
       "917 8877689391 4/19/2016     18785       17.40          17.40           \n",
       "918 8877689391 4/20/2016     19948       18.11          18.11           \n",
       "919 8877689391 4/21/2016     19377       17.62          17.62           \n",
       "920 8877689391 4/22/2016     18258       16.31          16.31           \n",
       "921 8877689391 4/23/2016     11200        7.43           7.43           \n",
       "922 8877689391 4/24/2016     16674       15.74          15.74           \n",
       "923 8877689391 4/25/2016     12986        8.74           8.74           \n",
       "924 8877689391 4/26/2016     11101        8.43           8.43           \n",
       "925 8877689391 4/27/2016     23629       20.65          20.65           \n",
       "926 8877689391 4/28/2016     14890       11.30          11.30           \n",
       "927 8877689391 4/29/2016      9733        7.39           7.39           \n",
       "928 8877689391 4/30/2016     27745       26.72          26.72           \n",
       "929 8877689391 5/1/2016      10930        8.32           8.32           \n",
       "930 8877689391 5/2/2016       4790        3.64           3.64           \n",
       "931 8877689391 5/3/2016      10818        8.21           8.21           \n",
       "932 8877689391 5/4/2016      18193       16.30          16.30           \n",
       "933 8877689391 5/5/2016      14055       10.67          10.67           \n",
       "934 8877689391 5/6/2016      21727       19.34          19.34           \n",
       "935 8877689391 5/7/2016      12332        8.13           8.13           \n",
       "936 8877689391 5/8/2016      10686        8.11           8.11           \n",
       "937 8877689391 5/9/2016      20226       18.25          18.25           \n",
       "938 8877689391 5/10/2016     10733        8.15           8.15           \n",
       "939 8877689391 5/11/2016     21420       19.56          19.56           \n",
       "940 8877689391 5/12/2016      8064        6.12           6.12           \n",
       "    logged_activities_distance very_active_distance moderately_active_distance\n",
       "1   0                          1.88                 0.55                      \n",
       "2   0                          1.57                 0.69                      \n",
       "3   0                          2.44                 0.40                      \n",
       "4   0                          2.14                 1.26                      \n",
       "5   0                          2.71                 0.41                      \n",
       "6   0                          3.19                 0.78                      \n",
       "7   0                          3.25                 0.64                      \n",
       "8   0                          3.53                 1.32                      \n",
       "9   0                          1.96                 0.48                      \n",
       "10  0                          1.34                 0.35                      \n",
       "11  0                          4.76                 1.12                      \n",
       "12  0                          2.81                 0.87                      \n",
       "13  0                          2.92                 0.21                      \n",
       "14  0                          5.29                 0.57                      \n",
       "15  0                          2.33                 0.92                      \n",
       "16  0                          6.40                 0.41                      \n",
       "17  0                          3.54                 1.16                      \n",
       "18  0                          1.06                 0.50                      \n",
       "19  0                          3.56                 1.42                      \n",
       "20  0                          2.29                 1.60                      \n",
       "21  0                          3.21                 0.57                      \n",
       "22  0                          3.73                 1.05                      \n",
       "23  0                          2.46                 0.87                      \n",
       "24  0                          2.92                 1.08                      \n",
       "25  0                          1.97                 0.25                      \n",
       "26  0                          2.46                 2.12                      \n",
       "27  0                          3.53                 0.32                      \n",
       "28  0                          3.45                 0.53                      \n",
       "29  0                          3.35                 1.16                      \n",
       "30  0                          2.56                 1.01                      \n",
       "⋮   ⋮                          ⋮                    ⋮                         \n",
       "911 0                           3.55                0.38                      \n",
       "912 0                          10.55                0.59                      \n",
       "913 0                           0.05                0.05                      \n",
       "914 0                          13.24                1.21                      \n",
       "915 0                           0.00                0.07                      \n",
       "916 0                           2.44                0.27                      \n",
       "917 0                          12.15                0.18                      \n",
       "918 0                          11.02                0.69                      \n",
       "919 0                          12.29                0.42                      \n",
       "920 0                          10.23                0.03                      \n",
       "921 0                           0.00                0.00                      \n",
       "922 0                          11.01                0.01                      \n",
       "923 0                           2.37                0.07                      \n",
       "924 0                           1.76                0.13                      \n",
       "925 0                          13.07                0.44                      \n",
       "926 0                           4.93                0.38                      \n",
       "927 0                           1.38                0.17                      \n",
       "928 0                          21.66                0.08                      \n",
       "929 0                           3.13                0.57                      \n",
       "930 0                           0.00                0.00                      \n",
       "931 0                           1.39                0.10                      \n",
       "932 0                          10.42                0.31                      \n",
       "933 0                           5.46                0.82                      \n",
       "934 0                          12.79                0.29                      \n",
       "935 0                           0.08                0.96                      \n",
       "936 0                           1.08                0.20                      \n",
       "937 0                          11.10                0.80                      \n",
       "938 0                           1.35                0.46                      \n",
       "939 0                          13.22                0.41                      \n",
       "940 0                           1.82                0.04                      \n",
       "    light_active_distance sedentary_active_distance very_active_minutes\n",
       "1   6.06                  0                         25                 \n",
       "2   4.71                  0                         21                 \n",
       "3   3.91                  0                         30                 \n",
       "4   2.83                  0                         29                 \n",
       "5   5.04                  0                         36                 \n",
       "6   2.51                  0                         38                 \n",
       "7   4.71                  0                         42                 \n",
       "8   5.03                  0                         50                 \n",
       "9   4.24                  0                         28                 \n",
       "10  4.65                  0                         19                 \n",
       "11  2.24                  0                         66                 \n",
       "12  5.36                  0                         41                 \n",
       "13  3.28                  0                         39                 \n",
       "14  3.94                  0                         73                 \n",
       "15  5.54                  0                         31                 \n",
       "16  5.41                  0                         78                 \n",
       "17  3.79                  0                         48                 \n",
       "18  5.58                  0                         16                 \n",
       "19  4.27                  0                         52                 \n",
       "20  2.92                  0                         33                 \n",
       "21  5.92                  0                         41                 \n",
       "22  4.88                  0                         50                 \n",
       "23  3.82                  0                         36                 \n",
       "24  4.88                  0                         45                 \n",
       "25  5.81                  0                         24                 \n",
       "26  3.13                  0                         37                 \n",
       "27  2.73                  0                         44                 \n",
       "28  3.74                  0                         46                 \n",
       "29  3.26                  0                         46                 \n",
       "30  4.55                  0                         36                 \n",
       "⋮   ⋮                     ⋮                         ⋮                  \n",
       "911  5.64                 0.00                      108                \n",
       "912  7.75                 0.02                       68                \n",
       "913  7.01                 0.01                      106                \n",
       "914 10.71                 0.00                       94                \n",
       "915  8.79                 0.00                       58                \n",
       "916  5.94                 0.00                       29                \n",
       "917  5.03                 0.00                       82                \n",
       "918  6.34                 0.00                       73                \n",
       "919  4.89                 0.00                       82                \n",
       "920  5.97                 0.05                       61                \n",
       "921  7.40                 0.01                      102                \n",
       "922  4.69                 0.00                       64                \n",
       "923  6.27                 0.01                      113                \n",
       "924  6.50                 0.00                       22                \n",
       "925  7.10                 0.00                       93                \n",
       "926  5.97                 0.00                       58                \n",
       "927  5.79                 0.00                       18                \n",
       "928  4.93                 0.00                      124                \n",
       "929  4.57                 0.00                       36                \n",
       "930  3.56                 0.00                        0                \n",
       "931  6.67                 0.01                       19                \n",
       "932  5.53                 0.00                       66                \n",
       "933  4.37                 0.00                       67                \n",
       "934  6.16                 0.00                       96                \n",
       "935  6.99                 0.00                      105                \n",
       "936  6.80                 0.00                       17                \n",
       "937  6.24                 0.05                       73                \n",
       "938  6.28                 0.00                       18                \n",
       "939  5.89                 0.00                       88                \n",
       "940  4.25                 0.00                       23                \n",
       "    fairly_active_minutes lightly_active_minutes sedentary_minutes calories\n",
       "1   13                    328                     728              1985    \n",
       "2   19                    217                     776              1797    \n",
       "3   11                    181                    1218              1776    \n",
       "4   34                    209                     726              1745    \n",
       "5   10                    221                     773              1863    \n",
       "6   20                    164                     539              1728    \n",
       "7   16                    233                    1149              1921    \n",
       "8   31                    264                     775              2035    \n",
       "9   12                    205                     818              1786    \n",
       "10   8                    211                     838              1775    \n",
       "11  27                    130                    1217              1827    \n",
       "12  21                    262                     732              1949    \n",
       "13   5                    238                     709              1788    \n",
       "14  14                    216                     814              2013    \n",
       "15  23                    279                     833              1970    \n",
       "16  11                    243                    1108              2159    \n",
       "17  28                    189                     782              1898    \n",
       "18  12                    243                     815              1837    \n",
       "19  34                    217                     712              1947    \n",
       "20  35                    246                     730              1820    \n",
       "21  15                    277                     798              2004    \n",
       "22  24                    254                     816              1990    \n",
       "23  22                    203                    1179              1819    \n",
       "24  24                    250                     857              1959    \n",
       "25   6                    289                     754              1896    \n",
       "26  46                    175                     833              1821    \n",
       "27   8                    203                     574              1740    \n",
       "28  11                    206                     835              1819    \n",
       "29  31                    214                     746              1859    \n",
       "30  23                    251                     669              1783    \n",
       "⋮   ⋮                     ⋮                      ⋮                 ⋮       \n",
       "911 18                    216                    1098              3566    \n",
       "912 13                    298                    1061              3793    \n",
       "913  1                    281                    1052              3934    \n",
       "914 29                    429                     888              4547    \n",
       "915 15                    307                    1060              3545    \n",
       "916  5                    191                    1215              2761    \n",
       "917 13                    214                    1131              3676    \n",
       "918 19                    225                    1123              3679    \n",
       "919 13                    226                    1119              3659    \n",
       "920  2                    236                    1141              3427    \n",
       "921  6                    300                    1032              3891    \n",
       "922  1                    227                    1148              3455    \n",
       "923  8                    218                    1101              3802    \n",
       "924  3                    258                    1157              2860    \n",
       "925  8                    235                    1104              3808    \n",
       "926  8                    231                    1143              3060    \n",
       "927  5                    210                    1207              2698    \n",
       "928  4                    223                    1089              4398    \n",
       "929 12                    166                    1226              2786    \n",
       "930  0                    105                    1335              2189    \n",
       "931  3                    229                    1189              2817    \n",
       "932  8                    212                    1154              3477    \n",
       "933 15                    188                    1170              3052    \n",
       "934 17                    232                    1095              4015    \n",
       "935 28                    271                    1036              4142    \n",
       "936  4                    245                    1174              2847    \n",
       "937 19                    217                    1131              3710    \n",
       "938 11                    224                    1187              2832    \n",
       "939 12                    213                    1127              3832    \n",
       "940  1                    137                     770              1849    "
      ]
     },
     "metadata": {},
     "output_type": "display_data"
    },
    {
     "data": {
      "text/html": [
       "<table class=\"dataframe\">\n",
       "<caption>A data.frame: 410 × 5</caption>\n",
       "<thead>\n",
       "\t<tr><th scope=col>id</th><th scope=col>sleep_day</th><th scope=col>total_sleep_records</th><th scope=col>total_minutes_asleep</th><th scope=col>total_time_in_bed</th></tr>\n",
       "\t<tr><th scope=col>&lt;dbl&gt;</th><th scope=col>&lt;chr&gt;</th><th scope=col>&lt;int&gt;</th><th scope=col>&lt;int&gt;</th><th scope=col>&lt;int&gt;</th></tr>\n",
       "</thead>\n",
       "<tbody>\n",
       "\t<tr><td>1503960366</td><td>4/12/2016 12:00:00 AM</td><td>1</td><td>327</td><td>346</td></tr>\n",
       "\t<tr><td>1503960366</td><td>4/13/2016 12:00:00 AM</td><td>2</td><td>384</td><td>407</td></tr>\n",
       "\t<tr><td>1503960366</td><td>4/15/2016 12:00:00 AM</td><td>1</td><td>412</td><td>442</td></tr>\n",
       "\t<tr><td>1503960366</td><td>4/16/2016 12:00:00 AM</td><td>2</td><td>340</td><td>367</td></tr>\n",
       "\t<tr><td>1503960366</td><td>4/17/2016 12:00:00 AM</td><td>1</td><td>700</td><td>712</td></tr>\n",
       "\t<tr><td>1503960366</td><td>4/19/2016 12:00:00 AM</td><td>1</td><td>304</td><td>320</td></tr>\n",
       "\t<tr><td>1503960366</td><td>4/20/2016 12:00:00 AM</td><td>1</td><td>360</td><td>377</td></tr>\n",
       "\t<tr><td>1503960366</td><td>4/21/2016 12:00:00 AM</td><td>1</td><td>325</td><td>364</td></tr>\n",
       "\t<tr><td>1503960366</td><td>4/23/2016 12:00:00 AM</td><td>1</td><td>361</td><td>384</td></tr>\n",
       "\t<tr><td>1503960366</td><td>4/24/2016 12:00:00 AM</td><td>1</td><td>430</td><td>449</td></tr>\n",
       "\t<tr><td>1503960366</td><td>4/25/2016 12:00:00 AM</td><td>1</td><td>277</td><td>323</td></tr>\n",
       "\t<tr><td>1503960366</td><td>4/26/2016 12:00:00 AM</td><td>1</td><td>245</td><td>274</td></tr>\n",
       "\t<tr><td>1503960366</td><td>4/28/2016 12:00:00 AM</td><td>1</td><td>366</td><td>393</td></tr>\n",
       "\t<tr><td>1503960366</td><td>4/29/2016 12:00:00 AM</td><td>1</td><td>341</td><td>354</td></tr>\n",
       "\t<tr><td>1503960366</td><td>4/30/2016 12:00:00 AM</td><td>1</td><td>404</td><td>425</td></tr>\n",
       "\t<tr><td>1503960366</td><td>5/1/2016 12:00:00 AM </td><td>1</td><td>369</td><td>396</td></tr>\n",
       "\t<tr><td>1503960366</td><td>5/2/2016 12:00:00 AM </td><td>1</td><td>277</td><td>309</td></tr>\n",
       "\t<tr><td>1503960366</td><td>5/3/2016 12:00:00 AM </td><td>1</td><td>273</td><td>296</td></tr>\n",
       "\t<tr><td>1503960366</td><td>5/5/2016 12:00:00 AM </td><td>1</td><td>247</td><td>264</td></tr>\n",
       "\t<tr><td>1503960366</td><td>5/6/2016 12:00:00 AM </td><td>1</td><td>334</td><td>367</td></tr>\n",
       "\t<tr><td>1503960366</td><td>5/7/2016 12:00:00 AM </td><td>1</td><td>331</td><td>349</td></tr>\n",
       "\t<tr><td>1503960366</td><td>5/8/2016 12:00:00 AM </td><td>1</td><td>594</td><td>611</td></tr>\n",
       "\t<tr><td>1503960366</td><td>5/9/2016 12:00:00 AM </td><td>1</td><td>338</td><td>342</td></tr>\n",
       "\t<tr><td>1503960366</td><td>5/10/2016 12:00:00 AM</td><td>1</td><td>383</td><td>403</td></tr>\n",
       "\t<tr><td>1503960366</td><td>5/11/2016 12:00:00 AM</td><td>1</td><td>285</td><td>306</td></tr>\n",
       "\t<tr><td>1644430081</td><td>4/29/2016 12:00:00 AM</td><td>1</td><td>119</td><td>127</td></tr>\n",
       "\t<tr><td>1644430081</td><td>4/30/2016 12:00:00 AM</td><td>1</td><td>124</td><td>142</td></tr>\n",
       "\t<tr><td>1644430081</td><td>5/2/2016 12:00:00 AM </td><td>1</td><td>796</td><td>961</td></tr>\n",
       "\t<tr><td>1644430081</td><td>5/8/2016 12:00:00 AM </td><td>1</td><td>137</td><td>154</td></tr>\n",
       "\t<tr><td>1844505072</td><td>4/15/2016 12:00:00 AM</td><td>1</td><td>644</td><td>961</td></tr>\n",
       "\t<tr><td>⋮</td><td>⋮</td><td>⋮</td><td>⋮</td><td>⋮</td></tr>\n",
       "\t<tr><td>8378563200</td><td>4/28/2016 12:00:00 AM</td><td>1</td><td>506</td><td>556</td></tr>\n",
       "\t<tr><td>8378563200</td><td>4/29/2016 12:00:00 AM</td><td>1</td><td>527</td><td>562</td></tr>\n",
       "\t<tr><td>8378563200</td><td>4/30/2016 12:00:00 AM</td><td>1</td><td>468</td><td>555</td></tr>\n",
       "\t<tr><td>8378563200</td><td>5/1/2016 12:00:00 AM </td><td>1</td><td>475</td><td>539</td></tr>\n",
       "\t<tr><td>8378563200</td><td>5/2/2016 12:00:00 AM </td><td>1</td><td>351</td><td>385</td></tr>\n",
       "\t<tr><td>8378563200</td><td>5/3/2016 12:00:00 AM </td><td>1</td><td>405</td><td>429</td></tr>\n",
       "\t<tr><td>8378563200</td><td>5/4/2016 12:00:00 AM </td><td>1</td><td>441</td><td>477</td></tr>\n",
       "\t<tr><td>8378563200</td><td>5/5/2016 12:00:00 AM </td><td>1</td><td>381</td><td>417</td></tr>\n",
       "\t<tr><td>8378563200</td><td>5/6/2016 12:00:00 AM </td><td>1</td><td>323</td><td>355</td></tr>\n",
       "\t<tr><td>8378563200</td><td>5/7/2016 12:00:00 AM </td><td>2</td><td>459</td><td>513</td></tr>\n",
       "\t<tr><td>8378563200</td><td>5/8/2016 12:00:00 AM </td><td>1</td><td>545</td><td>606</td></tr>\n",
       "\t<tr><td>8378563200</td><td>5/9/2016 12:00:00 AM </td><td>1</td><td>359</td><td>399</td></tr>\n",
       "\t<tr><td>8378563200</td><td>5/10/2016 12:00:00 AM</td><td>1</td><td>342</td><td>391</td></tr>\n",
       "\t<tr><td>8378563200</td><td>5/11/2016 12:00:00 AM</td><td>1</td><td>368</td><td>387</td></tr>\n",
       "\t<tr><td>8378563200</td><td>5/12/2016 12:00:00 AM</td><td>1</td><td>496</td><td>546</td></tr>\n",
       "\t<tr><td>8792009665</td><td>4/12/2016 12:00:00 AM</td><td>1</td><td>458</td><td>493</td></tr>\n",
       "\t<tr><td>8792009665</td><td>4/13/2016 12:00:00 AM</td><td>1</td><td>531</td><td>552</td></tr>\n",
       "\t<tr><td>8792009665</td><td>4/14/2016 12:00:00 AM</td><td>1</td><td>486</td><td>503</td></tr>\n",
       "\t<tr><td>8792009665</td><td>4/15/2016 12:00:00 AM</td><td>1</td><td>363</td><td>377</td></tr>\n",
       "\t<tr><td>8792009665</td><td>4/20/2016 12:00:00 AM</td><td>1</td><td>528</td><td>547</td></tr>\n",
       "\t<tr><td>8792009665</td><td>4/22/2016 12:00:00 AM</td><td>1</td><td>391</td><td>407</td></tr>\n",
       "\t<tr><td>8792009665</td><td>4/23/2016 12:00:00 AM</td><td>1</td><td>339</td><td>360</td></tr>\n",
       "\t<tr><td>8792009665</td><td>4/27/2016 12:00:00 AM</td><td>1</td><td>423</td><td>428</td></tr>\n",
       "\t<tr><td>8792009665</td><td>4/28/2016 12:00:00 AM</td><td>1</td><td>402</td><td>416</td></tr>\n",
       "\t<tr><td>8792009665</td><td>4/29/2016 12:00:00 AM</td><td>1</td><td>398</td><td>406</td></tr>\n",
       "\t<tr><td>8792009665</td><td>4/30/2016 12:00:00 AM</td><td>1</td><td>343</td><td>360</td></tr>\n",
       "\t<tr><td>8792009665</td><td>5/1/2016 12:00:00 AM </td><td>1</td><td>503</td><td>527</td></tr>\n",
       "\t<tr><td>8792009665</td><td>5/2/2016 12:00:00 AM </td><td>1</td><td>415</td><td>423</td></tr>\n",
       "\t<tr><td>8792009665</td><td>5/3/2016 12:00:00 AM </td><td>1</td><td>516</td><td>545</td></tr>\n",
       "\t<tr><td>8792009665</td><td>5/4/2016 12:00:00 AM </td><td>1</td><td>439</td><td>463</td></tr>\n",
       "</tbody>\n",
       "</table>\n"
      ],
      "text/latex": [
       "A data.frame: 410 × 5\n",
       "\\begin{tabular}{lllll}\n",
       " id & sleep\\_day & total\\_sleep\\_records & total\\_minutes\\_asleep & total\\_time\\_in\\_bed\\\\\n",
       " <dbl> & <chr> & <int> & <int> & <int>\\\\\n",
       "\\hline\n",
       "\t 1503960366 & 4/12/2016 12:00:00 AM & 1 & 327 & 346\\\\\n",
       "\t 1503960366 & 4/13/2016 12:00:00 AM & 2 & 384 & 407\\\\\n",
       "\t 1503960366 & 4/15/2016 12:00:00 AM & 1 & 412 & 442\\\\\n",
       "\t 1503960366 & 4/16/2016 12:00:00 AM & 2 & 340 & 367\\\\\n",
       "\t 1503960366 & 4/17/2016 12:00:00 AM & 1 & 700 & 712\\\\\n",
       "\t 1503960366 & 4/19/2016 12:00:00 AM & 1 & 304 & 320\\\\\n",
       "\t 1503960366 & 4/20/2016 12:00:00 AM & 1 & 360 & 377\\\\\n",
       "\t 1503960366 & 4/21/2016 12:00:00 AM & 1 & 325 & 364\\\\\n",
       "\t 1503960366 & 4/23/2016 12:00:00 AM & 1 & 361 & 384\\\\\n",
       "\t 1503960366 & 4/24/2016 12:00:00 AM & 1 & 430 & 449\\\\\n",
       "\t 1503960366 & 4/25/2016 12:00:00 AM & 1 & 277 & 323\\\\\n",
       "\t 1503960366 & 4/26/2016 12:00:00 AM & 1 & 245 & 274\\\\\n",
       "\t 1503960366 & 4/28/2016 12:00:00 AM & 1 & 366 & 393\\\\\n",
       "\t 1503960366 & 4/29/2016 12:00:00 AM & 1 & 341 & 354\\\\\n",
       "\t 1503960366 & 4/30/2016 12:00:00 AM & 1 & 404 & 425\\\\\n",
       "\t 1503960366 & 5/1/2016 12:00:00 AM  & 1 & 369 & 396\\\\\n",
       "\t 1503960366 & 5/2/2016 12:00:00 AM  & 1 & 277 & 309\\\\\n",
       "\t 1503960366 & 5/3/2016 12:00:00 AM  & 1 & 273 & 296\\\\\n",
       "\t 1503960366 & 5/5/2016 12:00:00 AM  & 1 & 247 & 264\\\\\n",
       "\t 1503960366 & 5/6/2016 12:00:00 AM  & 1 & 334 & 367\\\\\n",
       "\t 1503960366 & 5/7/2016 12:00:00 AM  & 1 & 331 & 349\\\\\n",
       "\t 1503960366 & 5/8/2016 12:00:00 AM  & 1 & 594 & 611\\\\\n",
       "\t 1503960366 & 5/9/2016 12:00:00 AM  & 1 & 338 & 342\\\\\n",
       "\t 1503960366 & 5/10/2016 12:00:00 AM & 1 & 383 & 403\\\\\n",
       "\t 1503960366 & 5/11/2016 12:00:00 AM & 1 & 285 & 306\\\\\n",
       "\t 1644430081 & 4/29/2016 12:00:00 AM & 1 & 119 & 127\\\\\n",
       "\t 1644430081 & 4/30/2016 12:00:00 AM & 1 & 124 & 142\\\\\n",
       "\t 1644430081 & 5/2/2016 12:00:00 AM  & 1 & 796 & 961\\\\\n",
       "\t 1644430081 & 5/8/2016 12:00:00 AM  & 1 & 137 & 154\\\\\n",
       "\t 1844505072 & 4/15/2016 12:00:00 AM & 1 & 644 & 961\\\\\n",
       "\t ⋮ & ⋮ & ⋮ & ⋮ & ⋮\\\\\n",
       "\t 8378563200 & 4/28/2016 12:00:00 AM & 1 & 506 & 556\\\\\n",
       "\t 8378563200 & 4/29/2016 12:00:00 AM & 1 & 527 & 562\\\\\n",
       "\t 8378563200 & 4/30/2016 12:00:00 AM & 1 & 468 & 555\\\\\n",
       "\t 8378563200 & 5/1/2016 12:00:00 AM  & 1 & 475 & 539\\\\\n",
       "\t 8378563200 & 5/2/2016 12:00:00 AM  & 1 & 351 & 385\\\\\n",
       "\t 8378563200 & 5/3/2016 12:00:00 AM  & 1 & 405 & 429\\\\\n",
       "\t 8378563200 & 5/4/2016 12:00:00 AM  & 1 & 441 & 477\\\\\n",
       "\t 8378563200 & 5/5/2016 12:00:00 AM  & 1 & 381 & 417\\\\\n",
       "\t 8378563200 & 5/6/2016 12:00:00 AM  & 1 & 323 & 355\\\\\n",
       "\t 8378563200 & 5/7/2016 12:00:00 AM  & 2 & 459 & 513\\\\\n",
       "\t 8378563200 & 5/8/2016 12:00:00 AM  & 1 & 545 & 606\\\\\n",
       "\t 8378563200 & 5/9/2016 12:00:00 AM  & 1 & 359 & 399\\\\\n",
       "\t 8378563200 & 5/10/2016 12:00:00 AM & 1 & 342 & 391\\\\\n",
       "\t 8378563200 & 5/11/2016 12:00:00 AM & 1 & 368 & 387\\\\\n",
       "\t 8378563200 & 5/12/2016 12:00:00 AM & 1 & 496 & 546\\\\\n",
       "\t 8792009665 & 4/12/2016 12:00:00 AM & 1 & 458 & 493\\\\\n",
       "\t 8792009665 & 4/13/2016 12:00:00 AM & 1 & 531 & 552\\\\\n",
       "\t 8792009665 & 4/14/2016 12:00:00 AM & 1 & 486 & 503\\\\\n",
       "\t 8792009665 & 4/15/2016 12:00:00 AM & 1 & 363 & 377\\\\\n",
       "\t 8792009665 & 4/20/2016 12:00:00 AM & 1 & 528 & 547\\\\\n",
       "\t 8792009665 & 4/22/2016 12:00:00 AM & 1 & 391 & 407\\\\\n",
       "\t 8792009665 & 4/23/2016 12:00:00 AM & 1 & 339 & 360\\\\\n",
       "\t 8792009665 & 4/27/2016 12:00:00 AM & 1 & 423 & 428\\\\\n",
       "\t 8792009665 & 4/28/2016 12:00:00 AM & 1 & 402 & 416\\\\\n",
       "\t 8792009665 & 4/29/2016 12:00:00 AM & 1 & 398 & 406\\\\\n",
       "\t 8792009665 & 4/30/2016 12:00:00 AM & 1 & 343 & 360\\\\\n",
       "\t 8792009665 & 5/1/2016 12:00:00 AM  & 1 & 503 & 527\\\\\n",
       "\t 8792009665 & 5/2/2016 12:00:00 AM  & 1 & 415 & 423\\\\\n",
       "\t 8792009665 & 5/3/2016 12:00:00 AM  & 1 & 516 & 545\\\\\n",
       "\t 8792009665 & 5/4/2016 12:00:00 AM  & 1 & 439 & 463\\\\\n",
       "\\end{tabular}\n"
      ],
      "text/markdown": [
       "\n",
       "A data.frame: 410 × 5\n",
       "\n",
       "| id &lt;dbl&gt; | sleep_day &lt;chr&gt; | total_sleep_records &lt;int&gt; | total_minutes_asleep &lt;int&gt; | total_time_in_bed &lt;int&gt; |\n",
       "|---|---|---|---|---|\n",
       "| 1503960366 | 4/12/2016 12:00:00 AM | 1 | 327 | 346 |\n",
       "| 1503960366 | 4/13/2016 12:00:00 AM | 2 | 384 | 407 |\n",
       "| 1503960366 | 4/15/2016 12:00:00 AM | 1 | 412 | 442 |\n",
       "| 1503960366 | 4/16/2016 12:00:00 AM | 2 | 340 | 367 |\n",
       "| 1503960366 | 4/17/2016 12:00:00 AM | 1 | 700 | 712 |\n",
       "| 1503960366 | 4/19/2016 12:00:00 AM | 1 | 304 | 320 |\n",
       "| 1503960366 | 4/20/2016 12:00:00 AM | 1 | 360 | 377 |\n",
       "| 1503960366 | 4/21/2016 12:00:00 AM | 1 | 325 | 364 |\n",
       "| 1503960366 | 4/23/2016 12:00:00 AM | 1 | 361 | 384 |\n",
       "| 1503960366 | 4/24/2016 12:00:00 AM | 1 | 430 | 449 |\n",
       "| 1503960366 | 4/25/2016 12:00:00 AM | 1 | 277 | 323 |\n",
       "| 1503960366 | 4/26/2016 12:00:00 AM | 1 | 245 | 274 |\n",
       "| 1503960366 | 4/28/2016 12:00:00 AM | 1 | 366 | 393 |\n",
       "| 1503960366 | 4/29/2016 12:00:00 AM | 1 | 341 | 354 |\n",
       "| 1503960366 | 4/30/2016 12:00:00 AM | 1 | 404 | 425 |\n",
       "| 1503960366 | 5/1/2016 12:00:00 AM  | 1 | 369 | 396 |\n",
       "| 1503960366 | 5/2/2016 12:00:00 AM  | 1 | 277 | 309 |\n",
       "| 1503960366 | 5/3/2016 12:00:00 AM  | 1 | 273 | 296 |\n",
       "| 1503960366 | 5/5/2016 12:00:00 AM  | 1 | 247 | 264 |\n",
       "| 1503960366 | 5/6/2016 12:00:00 AM  | 1 | 334 | 367 |\n",
       "| 1503960366 | 5/7/2016 12:00:00 AM  | 1 | 331 | 349 |\n",
       "| 1503960366 | 5/8/2016 12:00:00 AM  | 1 | 594 | 611 |\n",
       "| 1503960366 | 5/9/2016 12:00:00 AM  | 1 | 338 | 342 |\n",
       "| 1503960366 | 5/10/2016 12:00:00 AM | 1 | 383 | 403 |\n",
       "| 1503960366 | 5/11/2016 12:00:00 AM | 1 | 285 | 306 |\n",
       "| 1644430081 | 4/29/2016 12:00:00 AM | 1 | 119 | 127 |\n",
       "| 1644430081 | 4/30/2016 12:00:00 AM | 1 | 124 | 142 |\n",
       "| 1644430081 | 5/2/2016 12:00:00 AM  | 1 | 796 | 961 |\n",
       "| 1644430081 | 5/8/2016 12:00:00 AM  | 1 | 137 | 154 |\n",
       "| 1844505072 | 4/15/2016 12:00:00 AM | 1 | 644 | 961 |\n",
       "| ⋮ | ⋮ | ⋮ | ⋮ | ⋮ |\n",
       "| 8378563200 | 4/28/2016 12:00:00 AM | 1 | 506 | 556 |\n",
       "| 8378563200 | 4/29/2016 12:00:00 AM | 1 | 527 | 562 |\n",
       "| 8378563200 | 4/30/2016 12:00:00 AM | 1 | 468 | 555 |\n",
       "| 8378563200 | 5/1/2016 12:00:00 AM  | 1 | 475 | 539 |\n",
       "| 8378563200 | 5/2/2016 12:00:00 AM  | 1 | 351 | 385 |\n",
       "| 8378563200 | 5/3/2016 12:00:00 AM  | 1 | 405 | 429 |\n",
       "| 8378563200 | 5/4/2016 12:00:00 AM  | 1 | 441 | 477 |\n",
       "| 8378563200 | 5/5/2016 12:00:00 AM  | 1 | 381 | 417 |\n",
       "| 8378563200 | 5/6/2016 12:00:00 AM  | 1 | 323 | 355 |\n",
       "| 8378563200 | 5/7/2016 12:00:00 AM  | 2 | 459 | 513 |\n",
       "| 8378563200 | 5/8/2016 12:00:00 AM  | 1 | 545 | 606 |\n",
       "| 8378563200 | 5/9/2016 12:00:00 AM  | 1 | 359 | 399 |\n",
       "| 8378563200 | 5/10/2016 12:00:00 AM | 1 | 342 | 391 |\n",
       "| 8378563200 | 5/11/2016 12:00:00 AM | 1 | 368 | 387 |\n",
       "| 8378563200 | 5/12/2016 12:00:00 AM | 1 | 496 | 546 |\n",
       "| 8792009665 | 4/12/2016 12:00:00 AM | 1 | 458 | 493 |\n",
       "| 8792009665 | 4/13/2016 12:00:00 AM | 1 | 531 | 552 |\n",
       "| 8792009665 | 4/14/2016 12:00:00 AM | 1 | 486 | 503 |\n",
       "| 8792009665 | 4/15/2016 12:00:00 AM | 1 | 363 | 377 |\n",
       "| 8792009665 | 4/20/2016 12:00:00 AM | 1 | 528 | 547 |\n",
       "| 8792009665 | 4/22/2016 12:00:00 AM | 1 | 391 | 407 |\n",
       "| 8792009665 | 4/23/2016 12:00:00 AM | 1 | 339 | 360 |\n",
       "| 8792009665 | 4/27/2016 12:00:00 AM | 1 | 423 | 428 |\n",
       "| 8792009665 | 4/28/2016 12:00:00 AM | 1 | 402 | 416 |\n",
       "| 8792009665 | 4/29/2016 12:00:00 AM | 1 | 398 | 406 |\n",
       "| 8792009665 | 4/30/2016 12:00:00 AM | 1 | 343 | 360 |\n",
       "| 8792009665 | 5/1/2016 12:00:00 AM  | 1 | 503 | 527 |\n",
       "| 8792009665 | 5/2/2016 12:00:00 AM  | 1 | 415 | 423 |\n",
       "| 8792009665 | 5/3/2016 12:00:00 AM  | 1 | 516 | 545 |\n",
       "| 8792009665 | 5/4/2016 12:00:00 AM  | 1 | 439 | 463 |\n",
       "\n"
      ],
      "text/plain": [
       "    id         sleep_day             total_sleep_records total_minutes_asleep\n",
       "1   1503960366 4/12/2016 12:00:00 AM 1                   327                 \n",
       "2   1503960366 4/13/2016 12:00:00 AM 2                   384                 \n",
       "3   1503960366 4/15/2016 12:00:00 AM 1                   412                 \n",
       "4   1503960366 4/16/2016 12:00:00 AM 2                   340                 \n",
       "5   1503960366 4/17/2016 12:00:00 AM 1                   700                 \n",
       "6   1503960366 4/19/2016 12:00:00 AM 1                   304                 \n",
       "7   1503960366 4/20/2016 12:00:00 AM 1                   360                 \n",
       "8   1503960366 4/21/2016 12:00:00 AM 1                   325                 \n",
       "9   1503960366 4/23/2016 12:00:00 AM 1                   361                 \n",
       "10  1503960366 4/24/2016 12:00:00 AM 1                   430                 \n",
       "11  1503960366 4/25/2016 12:00:00 AM 1                   277                 \n",
       "12  1503960366 4/26/2016 12:00:00 AM 1                   245                 \n",
       "13  1503960366 4/28/2016 12:00:00 AM 1                   366                 \n",
       "14  1503960366 4/29/2016 12:00:00 AM 1                   341                 \n",
       "15  1503960366 4/30/2016 12:00:00 AM 1                   404                 \n",
       "16  1503960366 5/1/2016 12:00:00 AM  1                   369                 \n",
       "17  1503960366 5/2/2016 12:00:00 AM  1                   277                 \n",
       "18  1503960366 5/3/2016 12:00:00 AM  1                   273                 \n",
       "19  1503960366 5/5/2016 12:00:00 AM  1                   247                 \n",
       "20  1503960366 5/6/2016 12:00:00 AM  1                   334                 \n",
       "21  1503960366 5/7/2016 12:00:00 AM  1                   331                 \n",
       "22  1503960366 5/8/2016 12:00:00 AM  1                   594                 \n",
       "23  1503960366 5/9/2016 12:00:00 AM  1                   338                 \n",
       "24  1503960366 5/10/2016 12:00:00 AM 1                   383                 \n",
       "25  1503960366 5/11/2016 12:00:00 AM 1                   285                 \n",
       "26  1644430081 4/29/2016 12:00:00 AM 1                   119                 \n",
       "27  1644430081 4/30/2016 12:00:00 AM 1                   124                 \n",
       "28  1644430081 5/2/2016 12:00:00 AM  1                   796                 \n",
       "29  1644430081 5/8/2016 12:00:00 AM  1                   137                 \n",
       "30  1844505072 4/15/2016 12:00:00 AM 1                   644                 \n",
       "⋮   ⋮          ⋮                     ⋮                   ⋮                   \n",
       "381 8378563200 4/28/2016 12:00:00 AM 1                   506                 \n",
       "382 8378563200 4/29/2016 12:00:00 AM 1                   527                 \n",
       "383 8378563200 4/30/2016 12:00:00 AM 1                   468                 \n",
       "384 8378563200 5/1/2016 12:00:00 AM  1                   475                 \n",
       "385 8378563200 5/2/2016 12:00:00 AM  1                   351                 \n",
       "386 8378563200 5/3/2016 12:00:00 AM  1                   405                 \n",
       "387 8378563200 5/4/2016 12:00:00 AM  1                   441                 \n",
       "388 8378563200 5/5/2016 12:00:00 AM  1                   381                 \n",
       "389 8378563200 5/6/2016 12:00:00 AM  1                   323                 \n",
       "390 8378563200 5/7/2016 12:00:00 AM  2                   459                 \n",
       "391 8378563200 5/8/2016 12:00:00 AM  1                   545                 \n",
       "392 8378563200 5/9/2016 12:00:00 AM  1                   359                 \n",
       "393 8378563200 5/10/2016 12:00:00 AM 1                   342                 \n",
       "394 8378563200 5/11/2016 12:00:00 AM 1                   368                 \n",
       "395 8378563200 5/12/2016 12:00:00 AM 1                   496                 \n",
       "396 8792009665 4/12/2016 12:00:00 AM 1                   458                 \n",
       "397 8792009665 4/13/2016 12:00:00 AM 1                   531                 \n",
       "398 8792009665 4/14/2016 12:00:00 AM 1                   486                 \n",
       "399 8792009665 4/15/2016 12:00:00 AM 1                   363                 \n",
       "400 8792009665 4/20/2016 12:00:00 AM 1                   528                 \n",
       "401 8792009665 4/22/2016 12:00:00 AM 1                   391                 \n",
       "402 8792009665 4/23/2016 12:00:00 AM 1                   339                 \n",
       "403 8792009665 4/27/2016 12:00:00 AM 1                   423                 \n",
       "404 8792009665 4/28/2016 12:00:00 AM 1                   402                 \n",
       "405 8792009665 4/29/2016 12:00:00 AM 1                   398                 \n",
       "406 8792009665 4/30/2016 12:00:00 AM 1                   343                 \n",
       "407 8792009665 5/1/2016 12:00:00 AM  1                   503                 \n",
       "408 8792009665 5/2/2016 12:00:00 AM  1                   415                 \n",
       "409 8792009665 5/3/2016 12:00:00 AM  1                   516                 \n",
       "410 8792009665 5/4/2016 12:00:00 AM  1                   439                 \n",
       "    total_time_in_bed\n",
       "1   346              \n",
       "2   407              \n",
       "3   442              \n",
       "4   367              \n",
       "5   712              \n",
       "6   320              \n",
       "7   377              \n",
       "8   364              \n",
       "9   384              \n",
       "10  449              \n",
       "11  323              \n",
       "12  274              \n",
       "13  393              \n",
       "14  354              \n",
       "15  425              \n",
       "16  396              \n",
       "17  309              \n",
       "18  296              \n",
       "19  264              \n",
       "20  367              \n",
       "21  349              \n",
       "22  611              \n",
       "23  342              \n",
       "24  403              \n",
       "25  306              \n",
       "26  127              \n",
       "27  142              \n",
       "28  961              \n",
       "29  154              \n",
       "30  961              \n",
       "⋮   ⋮                \n",
       "381 556              \n",
       "382 562              \n",
       "383 555              \n",
       "384 539              \n",
       "385 385              \n",
       "386 429              \n",
       "387 477              \n",
       "388 417              \n",
       "389 355              \n",
       "390 513              \n",
       "391 606              \n",
       "392 399              \n",
       "393 391              \n",
       "394 387              \n",
       "395 546              \n",
       "396 493              \n",
       "397 552              \n",
       "398 503              \n",
       "399 377              \n",
       "400 547              \n",
       "401 407              \n",
       "402 360              \n",
       "403 428              \n",
       "404 416              \n",
       "405 406              \n",
       "406 360              \n",
       "407 527              \n",
       "408 423              \n",
       "409 545              \n",
       "410 463              "
      ]
     },
     "metadata": {},
     "output_type": "display_data"
    },
    {
     "data": {
      "text/html": [
       "<table class=\"dataframe\">\n",
       "<caption>A data.frame: 940 × 3</caption>\n",
       "<thead>\n",
       "\t<tr><th scope=col>id</th><th scope=col>activity_day</th><th scope=col>step_total</th></tr>\n",
       "\t<tr><th scope=col>&lt;dbl&gt;</th><th scope=col>&lt;chr&gt;</th><th scope=col>&lt;int&gt;</th></tr>\n",
       "</thead>\n",
       "<tbody>\n",
       "\t<tr><td>1503960366</td><td>4/12/2016</td><td>13162</td></tr>\n",
       "\t<tr><td>1503960366</td><td>4/13/2016</td><td>10735</td></tr>\n",
       "\t<tr><td>1503960366</td><td>4/14/2016</td><td>10460</td></tr>\n",
       "\t<tr><td>1503960366</td><td>4/15/2016</td><td> 9762</td></tr>\n",
       "\t<tr><td>1503960366</td><td>4/16/2016</td><td>12669</td></tr>\n",
       "\t<tr><td>1503960366</td><td>4/17/2016</td><td> 9705</td></tr>\n",
       "\t<tr><td>1503960366</td><td>4/18/2016</td><td>13019</td></tr>\n",
       "\t<tr><td>1503960366</td><td>4/19/2016</td><td>15506</td></tr>\n",
       "\t<tr><td>1503960366</td><td>4/20/2016</td><td>10544</td></tr>\n",
       "\t<tr><td>1503960366</td><td>4/21/2016</td><td> 9819</td></tr>\n",
       "\t<tr><td>1503960366</td><td>4/22/2016</td><td>12764</td></tr>\n",
       "\t<tr><td>1503960366</td><td>4/23/2016</td><td>14371</td></tr>\n",
       "\t<tr><td>1503960366</td><td>4/24/2016</td><td>10039</td></tr>\n",
       "\t<tr><td>1503960366</td><td>4/25/2016</td><td>15355</td></tr>\n",
       "\t<tr><td>1503960366</td><td>4/26/2016</td><td>13755</td></tr>\n",
       "\t<tr><td>1503960366</td><td>4/27/2016</td><td>18134</td></tr>\n",
       "\t<tr><td>1503960366</td><td>4/28/2016</td><td>13154</td></tr>\n",
       "\t<tr><td>1503960366</td><td>4/29/2016</td><td>11181</td></tr>\n",
       "\t<tr><td>1503960366</td><td>4/30/2016</td><td>14673</td></tr>\n",
       "\t<tr><td>1503960366</td><td>5/1/2016 </td><td>10602</td></tr>\n",
       "\t<tr><td>1503960366</td><td>5/2/2016 </td><td>14727</td></tr>\n",
       "\t<tr><td>1503960366</td><td>5/3/2016 </td><td>15103</td></tr>\n",
       "\t<tr><td>1503960366</td><td>5/4/2016 </td><td>11100</td></tr>\n",
       "\t<tr><td>1503960366</td><td>5/5/2016 </td><td>14070</td></tr>\n",
       "\t<tr><td>1503960366</td><td>5/6/2016 </td><td>12159</td></tr>\n",
       "\t<tr><td>1503960366</td><td>5/7/2016 </td><td>11992</td></tr>\n",
       "\t<tr><td>1503960366</td><td>5/8/2016 </td><td>10060</td></tr>\n",
       "\t<tr><td>1503960366</td><td>5/9/2016 </td><td>12022</td></tr>\n",
       "\t<tr><td>1503960366</td><td>5/10/2016</td><td>12207</td></tr>\n",
       "\t<tr><td>1503960366</td><td>5/11/2016</td><td>12770</td></tr>\n",
       "\t<tr><td>⋮</td><td>⋮</td><td>⋮</td></tr>\n",
       "\t<tr><td>8877689391</td><td>4/13/2016</td><td>15337</td></tr>\n",
       "\t<tr><td>8877689391</td><td>4/14/2016</td><td>21129</td></tr>\n",
       "\t<tr><td>8877689391</td><td>4/15/2016</td><td>13422</td></tr>\n",
       "\t<tr><td>8877689391</td><td>4/16/2016</td><td>29326</td></tr>\n",
       "\t<tr><td>8877689391</td><td>4/17/2016</td><td>15118</td></tr>\n",
       "\t<tr><td>8877689391</td><td>4/18/2016</td><td>11423</td></tr>\n",
       "\t<tr><td>8877689391</td><td>4/19/2016</td><td>18785</td></tr>\n",
       "\t<tr><td>8877689391</td><td>4/20/2016</td><td>19948</td></tr>\n",
       "\t<tr><td>8877689391</td><td>4/21/2016</td><td>19377</td></tr>\n",
       "\t<tr><td>8877689391</td><td>4/22/2016</td><td>18258</td></tr>\n",
       "\t<tr><td>8877689391</td><td>4/23/2016</td><td>11200</td></tr>\n",
       "\t<tr><td>8877689391</td><td>4/24/2016</td><td>16674</td></tr>\n",
       "\t<tr><td>8877689391</td><td>4/25/2016</td><td>12986</td></tr>\n",
       "\t<tr><td>8877689391</td><td>4/26/2016</td><td>11101</td></tr>\n",
       "\t<tr><td>8877689391</td><td>4/27/2016</td><td>23629</td></tr>\n",
       "\t<tr><td>8877689391</td><td>4/28/2016</td><td>14890</td></tr>\n",
       "\t<tr><td>8877689391</td><td>4/29/2016</td><td> 9733</td></tr>\n",
       "\t<tr><td>8877689391</td><td>4/30/2016</td><td>27745</td></tr>\n",
       "\t<tr><td>8877689391</td><td>5/1/2016 </td><td>10930</td></tr>\n",
       "\t<tr><td>8877689391</td><td>5/2/2016 </td><td> 4790</td></tr>\n",
       "\t<tr><td>8877689391</td><td>5/3/2016 </td><td>10818</td></tr>\n",
       "\t<tr><td>8877689391</td><td>5/4/2016 </td><td>18193</td></tr>\n",
       "\t<tr><td>8877689391</td><td>5/5/2016 </td><td>14055</td></tr>\n",
       "\t<tr><td>8877689391</td><td>5/6/2016 </td><td>21727</td></tr>\n",
       "\t<tr><td>8877689391</td><td>5/7/2016 </td><td>12332</td></tr>\n",
       "\t<tr><td>8877689391</td><td>5/8/2016 </td><td>10686</td></tr>\n",
       "\t<tr><td>8877689391</td><td>5/9/2016 </td><td>20226</td></tr>\n",
       "\t<tr><td>8877689391</td><td>5/10/2016</td><td>10733</td></tr>\n",
       "\t<tr><td>8877689391</td><td>5/11/2016</td><td>21420</td></tr>\n",
       "\t<tr><td>8877689391</td><td>5/12/2016</td><td> 8064</td></tr>\n",
       "</tbody>\n",
       "</table>\n"
      ],
      "text/latex": [
       "A data.frame: 940 × 3\n",
       "\\begin{tabular}{lll}\n",
       " id & activity\\_day & step\\_total\\\\\n",
       " <dbl> & <chr> & <int>\\\\\n",
       "\\hline\n",
       "\t 1503960366 & 4/12/2016 & 13162\\\\\n",
       "\t 1503960366 & 4/13/2016 & 10735\\\\\n",
       "\t 1503960366 & 4/14/2016 & 10460\\\\\n",
       "\t 1503960366 & 4/15/2016 &  9762\\\\\n",
       "\t 1503960366 & 4/16/2016 & 12669\\\\\n",
       "\t 1503960366 & 4/17/2016 &  9705\\\\\n",
       "\t 1503960366 & 4/18/2016 & 13019\\\\\n",
       "\t 1503960366 & 4/19/2016 & 15506\\\\\n",
       "\t 1503960366 & 4/20/2016 & 10544\\\\\n",
       "\t 1503960366 & 4/21/2016 &  9819\\\\\n",
       "\t 1503960366 & 4/22/2016 & 12764\\\\\n",
       "\t 1503960366 & 4/23/2016 & 14371\\\\\n",
       "\t 1503960366 & 4/24/2016 & 10039\\\\\n",
       "\t 1503960366 & 4/25/2016 & 15355\\\\\n",
       "\t 1503960366 & 4/26/2016 & 13755\\\\\n",
       "\t 1503960366 & 4/27/2016 & 18134\\\\\n",
       "\t 1503960366 & 4/28/2016 & 13154\\\\\n",
       "\t 1503960366 & 4/29/2016 & 11181\\\\\n",
       "\t 1503960366 & 4/30/2016 & 14673\\\\\n",
       "\t 1503960366 & 5/1/2016  & 10602\\\\\n",
       "\t 1503960366 & 5/2/2016  & 14727\\\\\n",
       "\t 1503960366 & 5/3/2016  & 15103\\\\\n",
       "\t 1503960366 & 5/4/2016  & 11100\\\\\n",
       "\t 1503960366 & 5/5/2016  & 14070\\\\\n",
       "\t 1503960366 & 5/6/2016  & 12159\\\\\n",
       "\t 1503960366 & 5/7/2016  & 11992\\\\\n",
       "\t 1503960366 & 5/8/2016  & 10060\\\\\n",
       "\t 1503960366 & 5/9/2016  & 12022\\\\\n",
       "\t 1503960366 & 5/10/2016 & 12207\\\\\n",
       "\t 1503960366 & 5/11/2016 & 12770\\\\\n",
       "\t ⋮ & ⋮ & ⋮\\\\\n",
       "\t 8877689391 & 4/13/2016 & 15337\\\\\n",
       "\t 8877689391 & 4/14/2016 & 21129\\\\\n",
       "\t 8877689391 & 4/15/2016 & 13422\\\\\n",
       "\t 8877689391 & 4/16/2016 & 29326\\\\\n",
       "\t 8877689391 & 4/17/2016 & 15118\\\\\n",
       "\t 8877689391 & 4/18/2016 & 11423\\\\\n",
       "\t 8877689391 & 4/19/2016 & 18785\\\\\n",
       "\t 8877689391 & 4/20/2016 & 19948\\\\\n",
       "\t 8877689391 & 4/21/2016 & 19377\\\\\n",
       "\t 8877689391 & 4/22/2016 & 18258\\\\\n",
       "\t 8877689391 & 4/23/2016 & 11200\\\\\n",
       "\t 8877689391 & 4/24/2016 & 16674\\\\\n",
       "\t 8877689391 & 4/25/2016 & 12986\\\\\n",
       "\t 8877689391 & 4/26/2016 & 11101\\\\\n",
       "\t 8877689391 & 4/27/2016 & 23629\\\\\n",
       "\t 8877689391 & 4/28/2016 & 14890\\\\\n",
       "\t 8877689391 & 4/29/2016 &  9733\\\\\n",
       "\t 8877689391 & 4/30/2016 & 27745\\\\\n",
       "\t 8877689391 & 5/1/2016  & 10930\\\\\n",
       "\t 8877689391 & 5/2/2016  &  4790\\\\\n",
       "\t 8877689391 & 5/3/2016  & 10818\\\\\n",
       "\t 8877689391 & 5/4/2016  & 18193\\\\\n",
       "\t 8877689391 & 5/5/2016  & 14055\\\\\n",
       "\t 8877689391 & 5/6/2016  & 21727\\\\\n",
       "\t 8877689391 & 5/7/2016  & 12332\\\\\n",
       "\t 8877689391 & 5/8/2016  & 10686\\\\\n",
       "\t 8877689391 & 5/9/2016  & 20226\\\\\n",
       "\t 8877689391 & 5/10/2016 & 10733\\\\\n",
       "\t 8877689391 & 5/11/2016 & 21420\\\\\n",
       "\t 8877689391 & 5/12/2016 &  8064\\\\\n",
       "\\end{tabular}\n"
      ],
      "text/markdown": [
       "\n",
       "A data.frame: 940 × 3\n",
       "\n",
       "| id &lt;dbl&gt; | activity_day &lt;chr&gt; | step_total &lt;int&gt; |\n",
       "|---|---|---|\n",
       "| 1503960366 | 4/12/2016 | 13162 |\n",
       "| 1503960366 | 4/13/2016 | 10735 |\n",
       "| 1503960366 | 4/14/2016 | 10460 |\n",
       "| 1503960366 | 4/15/2016 |  9762 |\n",
       "| 1503960366 | 4/16/2016 | 12669 |\n",
       "| 1503960366 | 4/17/2016 |  9705 |\n",
       "| 1503960366 | 4/18/2016 | 13019 |\n",
       "| 1503960366 | 4/19/2016 | 15506 |\n",
       "| 1503960366 | 4/20/2016 | 10544 |\n",
       "| 1503960366 | 4/21/2016 |  9819 |\n",
       "| 1503960366 | 4/22/2016 | 12764 |\n",
       "| 1503960366 | 4/23/2016 | 14371 |\n",
       "| 1503960366 | 4/24/2016 | 10039 |\n",
       "| 1503960366 | 4/25/2016 | 15355 |\n",
       "| 1503960366 | 4/26/2016 | 13755 |\n",
       "| 1503960366 | 4/27/2016 | 18134 |\n",
       "| 1503960366 | 4/28/2016 | 13154 |\n",
       "| 1503960366 | 4/29/2016 | 11181 |\n",
       "| 1503960366 | 4/30/2016 | 14673 |\n",
       "| 1503960366 | 5/1/2016  | 10602 |\n",
       "| 1503960366 | 5/2/2016  | 14727 |\n",
       "| 1503960366 | 5/3/2016  | 15103 |\n",
       "| 1503960366 | 5/4/2016  | 11100 |\n",
       "| 1503960366 | 5/5/2016  | 14070 |\n",
       "| 1503960366 | 5/6/2016  | 12159 |\n",
       "| 1503960366 | 5/7/2016  | 11992 |\n",
       "| 1503960366 | 5/8/2016  | 10060 |\n",
       "| 1503960366 | 5/9/2016  | 12022 |\n",
       "| 1503960366 | 5/10/2016 | 12207 |\n",
       "| 1503960366 | 5/11/2016 | 12770 |\n",
       "| ⋮ | ⋮ | ⋮ |\n",
       "| 8877689391 | 4/13/2016 | 15337 |\n",
       "| 8877689391 | 4/14/2016 | 21129 |\n",
       "| 8877689391 | 4/15/2016 | 13422 |\n",
       "| 8877689391 | 4/16/2016 | 29326 |\n",
       "| 8877689391 | 4/17/2016 | 15118 |\n",
       "| 8877689391 | 4/18/2016 | 11423 |\n",
       "| 8877689391 | 4/19/2016 | 18785 |\n",
       "| 8877689391 | 4/20/2016 | 19948 |\n",
       "| 8877689391 | 4/21/2016 | 19377 |\n",
       "| 8877689391 | 4/22/2016 | 18258 |\n",
       "| 8877689391 | 4/23/2016 | 11200 |\n",
       "| 8877689391 | 4/24/2016 | 16674 |\n",
       "| 8877689391 | 4/25/2016 | 12986 |\n",
       "| 8877689391 | 4/26/2016 | 11101 |\n",
       "| 8877689391 | 4/27/2016 | 23629 |\n",
       "| 8877689391 | 4/28/2016 | 14890 |\n",
       "| 8877689391 | 4/29/2016 |  9733 |\n",
       "| 8877689391 | 4/30/2016 | 27745 |\n",
       "| 8877689391 | 5/1/2016  | 10930 |\n",
       "| 8877689391 | 5/2/2016  |  4790 |\n",
       "| 8877689391 | 5/3/2016  | 10818 |\n",
       "| 8877689391 | 5/4/2016  | 18193 |\n",
       "| 8877689391 | 5/5/2016  | 14055 |\n",
       "| 8877689391 | 5/6/2016  | 21727 |\n",
       "| 8877689391 | 5/7/2016  | 12332 |\n",
       "| 8877689391 | 5/8/2016  | 10686 |\n",
       "| 8877689391 | 5/9/2016  | 20226 |\n",
       "| 8877689391 | 5/10/2016 | 10733 |\n",
       "| 8877689391 | 5/11/2016 | 21420 |\n",
       "| 8877689391 | 5/12/2016 |  8064 |\n",
       "\n"
      ],
      "text/plain": [
       "    id         activity_day step_total\n",
       "1   1503960366 4/12/2016    13162     \n",
       "2   1503960366 4/13/2016    10735     \n",
       "3   1503960366 4/14/2016    10460     \n",
       "4   1503960366 4/15/2016     9762     \n",
       "5   1503960366 4/16/2016    12669     \n",
       "6   1503960366 4/17/2016     9705     \n",
       "7   1503960366 4/18/2016    13019     \n",
       "8   1503960366 4/19/2016    15506     \n",
       "9   1503960366 4/20/2016    10544     \n",
       "10  1503960366 4/21/2016     9819     \n",
       "11  1503960366 4/22/2016    12764     \n",
       "12  1503960366 4/23/2016    14371     \n",
       "13  1503960366 4/24/2016    10039     \n",
       "14  1503960366 4/25/2016    15355     \n",
       "15  1503960366 4/26/2016    13755     \n",
       "16  1503960366 4/27/2016    18134     \n",
       "17  1503960366 4/28/2016    13154     \n",
       "18  1503960366 4/29/2016    11181     \n",
       "19  1503960366 4/30/2016    14673     \n",
       "20  1503960366 5/1/2016     10602     \n",
       "21  1503960366 5/2/2016     14727     \n",
       "22  1503960366 5/3/2016     15103     \n",
       "23  1503960366 5/4/2016     11100     \n",
       "24  1503960366 5/5/2016     14070     \n",
       "25  1503960366 5/6/2016     12159     \n",
       "26  1503960366 5/7/2016     11992     \n",
       "27  1503960366 5/8/2016     10060     \n",
       "28  1503960366 5/9/2016     12022     \n",
       "29  1503960366 5/10/2016    12207     \n",
       "30  1503960366 5/11/2016    12770     \n",
       "⋮   ⋮          ⋮            ⋮         \n",
       "911 8877689391 4/13/2016    15337     \n",
       "912 8877689391 4/14/2016    21129     \n",
       "913 8877689391 4/15/2016    13422     \n",
       "914 8877689391 4/16/2016    29326     \n",
       "915 8877689391 4/17/2016    15118     \n",
       "916 8877689391 4/18/2016    11423     \n",
       "917 8877689391 4/19/2016    18785     \n",
       "918 8877689391 4/20/2016    19948     \n",
       "919 8877689391 4/21/2016    19377     \n",
       "920 8877689391 4/22/2016    18258     \n",
       "921 8877689391 4/23/2016    11200     \n",
       "922 8877689391 4/24/2016    16674     \n",
       "923 8877689391 4/25/2016    12986     \n",
       "924 8877689391 4/26/2016    11101     \n",
       "925 8877689391 4/27/2016    23629     \n",
       "926 8877689391 4/28/2016    14890     \n",
       "927 8877689391 4/29/2016     9733     \n",
       "928 8877689391 4/30/2016    27745     \n",
       "929 8877689391 5/1/2016     10930     \n",
       "930 8877689391 5/2/2016      4790     \n",
       "931 8877689391 5/3/2016     10818     \n",
       "932 8877689391 5/4/2016     18193     \n",
       "933 8877689391 5/5/2016     14055     \n",
       "934 8877689391 5/6/2016     21727     \n",
       "935 8877689391 5/7/2016     12332     \n",
       "936 8877689391 5/8/2016     10686     \n",
       "937 8877689391 5/9/2016     20226     \n",
       "938 8877689391 5/10/2016    10733     \n",
       "939 8877689391 5/11/2016    21420     \n",
       "940 8877689391 5/12/2016     8064     "
      ]
     },
     "metadata": {},
     "output_type": "display_data"
    },
    {
     "data": {
      "text/html": [
       "<table class=\"dataframe\">\n",
       "<caption>A data.frame: 22099 × 3</caption>\n",
       "<thead>\n",
       "\t<tr><th scope=col>id</th><th scope=col>activity_hour</th><th scope=col>calories</th></tr>\n",
       "\t<tr><th scope=col>&lt;dbl&gt;</th><th scope=col>&lt;chr&gt;</th><th scope=col>&lt;int&gt;</th></tr>\n",
       "</thead>\n",
       "<tbody>\n",
       "\t<tr><td>1503960366</td><td>4/12/2016 12:00:00 AM</td><td> 81</td></tr>\n",
       "\t<tr><td>1503960366</td><td>4/12/2016 1:00:00 AM </td><td> 61</td></tr>\n",
       "\t<tr><td>1503960366</td><td>4/12/2016 2:00:00 AM </td><td> 59</td></tr>\n",
       "\t<tr><td>1503960366</td><td>4/12/2016 3:00:00 AM </td><td> 47</td></tr>\n",
       "\t<tr><td>1503960366</td><td>4/12/2016 4:00:00 AM </td><td> 48</td></tr>\n",
       "\t<tr><td>1503960366</td><td>4/12/2016 5:00:00 AM </td><td> 48</td></tr>\n",
       "\t<tr><td>1503960366</td><td>4/12/2016 6:00:00 AM </td><td> 48</td></tr>\n",
       "\t<tr><td>1503960366</td><td>4/12/2016 7:00:00 AM </td><td> 47</td></tr>\n",
       "\t<tr><td>1503960366</td><td>4/12/2016 8:00:00 AM </td><td> 68</td></tr>\n",
       "\t<tr><td>1503960366</td><td>4/12/2016 9:00:00 AM </td><td>141</td></tr>\n",
       "\t<tr><td>1503960366</td><td>4/12/2016 10:00:00 AM</td><td> 99</td></tr>\n",
       "\t<tr><td>1503960366</td><td>4/12/2016 11:00:00 AM</td><td> 76</td></tr>\n",
       "\t<tr><td>1503960366</td><td>4/12/2016 12:00:00 PM</td><td> 73</td></tr>\n",
       "\t<tr><td>1503960366</td><td>4/12/2016 1:00:00 PM </td><td> 66</td></tr>\n",
       "\t<tr><td>1503960366</td><td>4/12/2016 2:00:00 PM </td><td>110</td></tr>\n",
       "\t<tr><td>1503960366</td><td>4/12/2016 3:00:00 PM </td><td>151</td></tr>\n",
       "\t<tr><td>1503960366</td><td>4/12/2016 4:00:00 PM </td><td> 76</td></tr>\n",
       "\t<tr><td>1503960366</td><td>4/12/2016 5:00:00 PM </td><td> 83</td></tr>\n",
       "\t<tr><td>1503960366</td><td>4/12/2016 6:00:00 PM </td><td>124</td></tr>\n",
       "\t<tr><td>1503960366</td><td>4/12/2016 7:00:00 PM </td><td>104</td></tr>\n",
       "\t<tr><td>1503960366</td><td>4/12/2016 8:00:00 PM </td><td>132</td></tr>\n",
       "\t<tr><td>1503960366</td><td>4/12/2016 9:00:00 PM </td><td>100</td></tr>\n",
       "\t<tr><td>1503960366</td><td>4/12/2016 10:00:00 PM</td><td> 65</td></tr>\n",
       "\t<tr><td>1503960366</td><td>4/12/2016 11:00:00 PM</td><td> 81</td></tr>\n",
       "\t<tr><td>1503960366</td><td>4/13/2016 12:00:00 AM</td><td> 69</td></tr>\n",
       "\t<tr><td>1503960366</td><td>4/13/2016 1:00:00 AM </td><td> 48</td></tr>\n",
       "\t<tr><td>1503960366</td><td>4/13/2016 2:00:00 AM </td><td> 47</td></tr>\n",
       "\t<tr><td>1503960366</td><td>4/13/2016 3:00:00 AM </td><td> 53</td></tr>\n",
       "\t<tr><td>1503960366</td><td>4/13/2016 4:00:00 AM </td><td> 47</td></tr>\n",
       "\t<tr><td>1503960366</td><td>4/13/2016 5:00:00 AM </td><td> 47</td></tr>\n",
       "\t<tr><td>⋮</td><td>⋮</td><td>⋮</td></tr>\n",
       "\t<tr><td>8877689391</td><td>5/11/2016 9:00:00 AM </td><td>113</td></tr>\n",
       "\t<tr><td>8877689391</td><td>5/11/2016 10:00:00 AM</td><td>107</td></tr>\n",
       "\t<tr><td>8877689391</td><td>5/11/2016 11:00:00 AM</td><td>168</td></tr>\n",
       "\t<tr><td>8877689391</td><td>5/11/2016 12:00:00 PM</td><td>402</td></tr>\n",
       "\t<tr><td>8877689391</td><td>5/11/2016 1:00:00 PM </td><td>120</td></tr>\n",
       "\t<tr><td>8877689391</td><td>5/11/2016 2:00:00 PM </td><td> 82</td></tr>\n",
       "\t<tr><td>8877689391</td><td>5/11/2016 3:00:00 PM </td><td>108</td></tr>\n",
       "\t<tr><td>8877689391</td><td>5/11/2016 4:00:00 PM </td><td>310</td></tr>\n",
       "\t<tr><td>8877689391</td><td>5/11/2016 5:00:00 PM </td><td>835</td></tr>\n",
       "\t<tr><td>8877689391</td><td>5/11/2016 6:00:00 PM </td><td>197</td></tr>\n",
       "\t<tr><td>8877689391</td><td>5/11/2016 7:00:00 PM </td><td>144</td></tr>\n",
       "\t<tr><td>8877689391</td><td>5/11/2016 8:00:00 PM </td><td>174</td></tr>\n",
       "\t<tr><td>8877689391</td><td>5/11/2016 9:00:00 PM </td><td>123</td></tr>\n",
       "\t<tr><td>8877689391</td><td>5/11/2016 10:00:00 PM</td><td> 93</td></tr>\n",
       "\t<tr><td>8877689391</td><td>5/11/2016 11:00:00 PM</td><td> 73</td></tr>\n",
       "\t<tr><td>8877689391</td><td>5/12/2016 12:00:00 AM</td><td> 73</td></tr>\n",
       "\t<tr><td>8877689391</td><td>5/12/2016 1:00:00 AM </td><td> 73</td></tr>\n",
       "\t<tr><td>8877689391</td><td>5/12/2016 2:00:00 AM </td><td> 73</td></tr>\n",
       "\t<tr><td>8877689391</td><td>5/12/2016 3:00:00 AM </td><td> 73</td></tr>\n",
       "\t<tr><td>8877689391</td><td>5/12/2016 4:00:00 AM </td><td> 73</td></tr>\n",
       "\t<tr><td>8877689391</td><td>5/12/2016 5:00:00 AM </td><td> 73</td></tr>\n",
       "\t<tr><td>8877689391</td><td>5/12/2016 6:00:00 AM </td><td>107</td></tr>\n",
       "\t<tr><td>8877689391</td><td>5/12/2016 7:00:00 AM </td><td>148</td></tr>\n",
       "\t<tr><td>8877689391</td><td>5/12/2016 8:00:00 AM </td><td>137</td></tr>\n",
       "\t<tr><td>8877689391</td><td>5/12/2016 9:00:00 AM </td><td> 88</td></tr>\n",
       "\t<tr><td>8877689391</td><td>5/12/2016 10:00:00 AM</td><td>126</td></tr>\n",
       "\t<tr><td>8877689391</td><td>5/12/2016 11:00:00 AM</td><td>192</td></tr>\n",
       "\t<tr><td>8877689391</td><td>5/12/2016 12:00:00 PM</td><td>321</td></tr>\n",
       "\t<tr><td>8877689391</td><td>5/12/2016 1:00:00 PM </td><td>101</td></tr>\n",
       "\t<tr><td>8877689391</td><td>5/12/2016 2:00:00 PM </td><td>113</td></tr>\n",
       "</tbody>\n",
       "</table>\n"
      ],
      "text/latex": [
       "A data.frame: 22099 × 3\n",
       "\\begin{tabular}{lll}\n",
       " id & activity\\_hour & calories\\\\\n",
       " <dbl> & <chr> & <int>\\\\\n",
       "\\hline\n",
       "\t 1503960366 & 4/12/2016 12:00:00 AM &  81\\\\\n",
       "\t 1503960366 & 4/12/2016 1:00:00 AM  &  61\\\\\n",
       "\t 1503960366 & 4/12/2016 2:00:00 AM  &  59\\\\\n",
       "\t 1503960366 & 4/12/2016 3:00:00 AM  &  47\\\\\n",
       "\t 1503960366 & 4/12/2016 4:00:00 AM  &  48\\\\\n",
       "\t 1503960366 & 4/12/2016 5:00:00 AM  &  48\\\\\n",
       "\t 1503960366 & 4/12/2016 6:00:00 AM  &  48\\\\\n",
       "\t 1503960366 & 4/12/2016 7:00:00 AM  &  47\\\\\n",
       "\t 1503960366 & 4/12/2016 8:00:00 AM  &  68\\\\\n",
       "\t 1503960366 & 4/12/2016 9:00:00 AM  & 141\\\\\n",
       "\t 1503960366 & 4/12/2016 10:00:00 AM &  99\\\\\n",
       "\t 1503960366 & 4/12/2016 11:00:00 AM &  76\\\\\n",
       "\t 1503960366 & 4/12/2016 12:00:00 PM &  73\\\\\n",
       "\t 1503960366 & 4/12/2016 1:00:00 PM  &  66\\\\\n",
       "\t 1503960366 & 4/12/2016 2:00:00 PM  & 110\\\\\n",
       "\t 1503960366 & 4/12/2016 3:00:00 PM  & 151\\\\\n",
       "\t 1503960366 & 4/12/2016 4:00:00 PM  &  76\\\\\n",
       "\t 1503960366 & 4/12/2016 5:00:00 PM  &  83\\\\\n",
       "\t 1503960366 & 4/12/2016 6:00:00 PM  & 124\\\\\n",
       "\t 1503960366 & 4/12/2016 7:00:00 PM  & 104\\\\\n",
       "\t 1503960366 & 4/12/2016 8:00:00 PM  & 132\\\\\n",
       "\t 1503960366 & 4/12/2016 9:00:00 PM  & 100\\\\\n",
       "\t 1503960366 & 4/12/2016 10:00:00 PM &  65\\\\\n",
       "\t 1503960366 & 4/12/2016 11:00:00 PM &  81\\\\\n",
       "\t 1503960366 & 4/13/2016 12:00:00 AM &  69\\\\\n",
       "\t 1503960366 & 4/13/2016 1:00:00 AM  &  48\\\\\n",
       "\t 1503960366 & 4/13/2016 2:00:00 AM  &  47\\\\\n",
       "\t 1503960366 & 4/13/2016 3:00:00 AM  &  53\\\\\n",
       "\t 1503960366 & 4/13/2016 4:00:00 AM  &  47\\\\\n",
       "\t 1503960366 & 4/13/2016 5:00:00 AM  &  47\\\\\n",
       "\t ⋮ & ⋮ & ⋮\\\\\n",
       "\t 8877689391 & 5/11/2016 9:00:00 AM  & 113\\\\\n",
       "\t 8877689391 & 5/11/2016 10:00:00 AM & 107\\\\\n",
       "\t 8877689391 & 5/11/2016 11:00:00 AM & 168\\\\\n",
       "\t 8877689391 & 5/11/2016 12:00:00 PM & 402\\\\\n",
       "\t 8877689391 & 5/11/2016 1:00:00 PM  & 120\\\\\n",
       "\t 8877689391 & 5/11/2016 2:00:00 PM  &  82\\\\\n",
       "\t 8877689391 & 5/11/2016 3:00:00 PM  & 108\\\\\n",
       "\t 8877689391 & 5/11/2016 4:00:00 PM  & 310\\\\\n",
       "\t 8877689391 & 5/11/2016 5:00:00 PM  & 835\\\\\n",
       "\t 8877689391 & 5/11/2016 6:00:00 PM  & 197\\\\\n",
       "\t 8877689391 & 5/11/2016 7:00:00 PM  & 144\\\\\n",
       "\t 8877689391 & 5/11/2016 8:00:00 PM  & 174\\\\\n",
       "\t 8877689391 & 5/11/2016 9:00:00 PM  & 123\\\\\n",
       "\t 8877689391 & 5/11/2016 10:00:00 PM &  93\\\\\n",
       "\t 8877689391 & 5/11/2016 11:00:00 PM &  73\\\\\n",
       "\t 8877689391 & 5/12/2016 12:00:00 AM &  73\\\\\n",
       "\t 8877689391 & 5/12/2016 1:00:00 AM  &  73\\\\\n",
       "\t 8877689391 & 5/12/2016 2:00:00 AM  &  73\\\\\n",
       "\t 8877689391 & 5/12/2016 3:00:00 AM  &  73\\\\\n",
       "\t 8877689391 & 5/12/2016 4:00:00 AM  &  73\\\\\n",
       "\t 8877689391 & 5/12/2016 5:00:00 AM  &  73\\\\\n",
       "\t 8877689391 & 5/12/2016 6:00:00 AM  & 107\\\\\n",
       "\t 8877689391 & 5/12/2016 7:00:00 AM  & 148\\\\\n",
       "\t 8877689391 & 5/12/2016 8:00:00 AM  & 137\\\\\n",
       "\t 8877689391 & 5/12/2016 9:00:00 AM  &  88\\\\\n",
       "\t 8877689391 & 5/12/2016 10:00:00 AM & 126\\\\\n",
       "\t 8877689391 & 5/12/2016 11:00:00 AM & 192\\\\\n",
       "\t 8877689391 & 5/12/2016 12:00:00 PM & 321\\\\\n",
       "\t 8877689391 & 5/12/2016 1:00:00 PM  & 101\\\\\n",
       "\t 8877689391 & 5/12/2016 2:00:00 PM  & 113\\\\\n",
       "\\end{tabular}\n"
      ],
      "text/markdown": [
       "\n",
       "A data.frame: 22099 × 3\n",
       "\n",
       "| id &lt;dbl&gt; | activity_hour &lt;chr&gt; | calories &lt;int&gt; |\n",
       "|---|---|---|\n",
       "| 1503960366 | 4/12/2016 12:00:00 AM |  81 |\n",
       "| 1503960366 | 4/12/2016 1:00:00 AM  |  61 |\n",
       "| 1503960366 | 4/12/2016 2:00:00 AM  |  59 |\n",
       "| 1503960366 | 4/12/2016 3:00:00 AM  |  47 |\n",
       "| 1503960366 | 4/12/2016 4:00:00 AM  |  48 |\n",
       "| 1503960366 | 4/12/2016 5:00:00 AM  |  48 |\n",
       "| 1503960366 | 4/12/2016 6:00:00 AM  |  48 |\n",
       "| 1503960366 | 4/12/2016 7:00:00 AM  |  47 |\n",
       "| 1503960366 | 4/12/2016 8:00:00 AM  |  68 |\n",
       "| 1503960366 | 4/12/2016 9:00:00 AM  | 141 |\n",
       "| 1503960366 | 4/12/2016 10:00:00 AM |  99 |\n",
       "| 1503960366 | 4/12/2016 11:00:00 AM |  76 |\n",
       "| 1503960366 | 4/12/2016 12:00:00 PM |  73 |\n",
       "| 1503960366 | 4/12/2016 1:00:00 PM  |  66 |\n",
       "| 1503960366 | 4/12/2016 2:00:00 PM  | 110 |\n",
       "| 1503960366 | 4/12/2016 3:00:00 PM  | 151 |\n",
       "| 1503960366 | 4/12/2016 4:00:00 PM  |  76 |\n",
       "| 1503960366 | 4/12/2016 5:00:00 PM  |  83 |\n",
       "| 1503960366 | 4/12/2016 6:00:00 PM  | 124 |\n",
       "| 1503960366 | 4/12/2016 7:00:00 PM  | 104 |\n",
       "| 1503960366 | 4/12/2016 8:00:00 PM  | 132 |\n",
       "| 1503960366 | 4/12/2016 9:00:00 PM  | 100 |\n",
       "| 1503960366 | 4/12/2016 10:00:00 PM |  65 |\n",
       "| 1503960366 | 4/12/2016 11:00:00 PM |  81 |\n",
       "| 1503960366 | 4/13/2016 12:00:00 AM |  69 |\n",
       "| 1503960366 | 4/13/2016 1:00:00 AM  |  48 |\n",
       "| 1503960366 | 4/13/2016 2:00:00 AM  |  47 |\n",
       "| 1503960366 | 4/13/2016 3:00:00 AM  |  53 |\n",
       "| 1503960366 | 4/13/2016 4:00:00 AM  |  47 |\n",
       "| 1503960366 | 4/13/2016 5:00:00 AM  |  47 |\n",
       "| ⋮ | ⋮ | ⋮ |\n",
       "| 8877689391 | 5/11/2016 9:00:00 AM  | 113 |\n",
       "| 8877689391 | 5/11/2016 10:00:00 AM | 107 |\n",
       "| 8877689391 | 5/11/2016 11:00:00 AM | 168 |\n",
       "| 8877689391 | 5/11/2016 12:00:00 PM | 402 |\n",
       "| 8877689391 | 5/11/2016 1:00:00 PM  | 120 |\n",
       "| 8877689391 | 5/11/2016 2:00:00 PM  |  82 |\n",
       "| 8877689391 | 5/11/2016 3:00:00 PM  | 108 |\n",
       "| 8877689391 | 5/11/2016 4:00:00 PM  | 310 |\n",
       "| 8877689391 | 5/11/2016 5:00:00 PM  | 835 |\n",
       "| 8877689391 | 5/11/2016 6:00:00 PM  | 197 |\n",
       "| 8877689391 | 5/11/2016 7:00:00 PM  | 144 |\n",
       "| 8877689391 | 5/11/2016 8:00:00 PM  | 174 |\n",
       "| 8877689391 | 5/11/2016 9:00:00 PM  | 123 |\n",
       "| 8877689391 | 5/11/2016 10:00:00 PM |  93 |\n",
       "| 8877689391 | 5/11/2016 11:00:00 PM |  73 |\n",
       "| 8877689391 | 5/12/2016 12:00:00 AM |  73 |\n",
       "| 8877689391 | 5/12/2016 1:00:00 AM  |  73 |\n",
       "| 8877689391 | 5/12/2016 2:00:00 AM  |  73 |\n",
       "| 8877689391 | 5/12/2016 3:00:00 AM  |  73 |\n",
       "| 8877689391 | 5/12/2016 4:00:00 AM  |  73 |\n",
       "| 8877689391 | 5/12/2016 5:00:00 AM  |  73 |\n",
       "| 8877689391 | 5/12/2016 6:00:00 AM  | 107 |\n",
       "| 8877689391 | 5/12/2016 7:00:00 AM  | 148 |\n",
       "| 8877689391 | 5/12/2016 8:00:00 AM  | 137 |\n",
       "| 8877689391 | 5/12/2016 9:00:00 AM  |  88 |\n",
       "| 8877689391 | 5/12/2016 10:00:00 AM | 126 |\n",
       "| 8877689391 | 5/12/2016 11:00:00 AM | 192 |\n",
       "| 8877689391 | 5/12/2016 12:00:00 PM | 321 |\n",
       "| 8877689391 | 5/12/2016 1:00:00 PM  | 101 |\n",
       "| 8877689391 | 5/12/2016 2:00:00 PM  | 113 |\n",
       "\n"
      ],
      "text/plain": [
       "      id         activity_hour         calories\n",
       "1     1503960366 4/12/2016 12:00:00 AM  81     \n",
       "2     1503960366 4/12/2016 1:00:00 AM   61     \n",
       "3     1503960366 4/12/2016 2:00:00 AM   59     \n",
       "4     1503960366 4/12/2016 3:00:00 AM   47     \n",
       "5     1503960366 4/12/2016 4:00:00 AM   48     \n",
       "6     1503960366 4/12/2016 5:00:00 AM   48     \n",
       "7     1503960366 4/12/2016 6:00:00 AM   48     \n",
       "8     1503960366 4/12/2016 7:00:00 AM   47     \n",
       "9     1503960366 4/12/2016 8:00:00 AM   68     \n",
       "10    1503960366 4/12/2016 9:00:00 AM  141     \n",
       "11    1503960366 4/12/2016 10:00:00 AM  99     \n",
       "12    1503960366 4/12/2016 11:00:00 AM  76     \n",
       "13    1503960366 4/12/2016 12:00:00 PM  73     \n",
       "14    1503960366 4/12/2016 1:00:00 PM   66     \n",
       "15    1503960366 4/12/2016 2:00:00 PM  110     \n",
       "16    1503960366 4/12/2016 3:00:00 PM  151     \n",
       "17    1503960366 4/12/2016 4:00:00 PM   76     \n",
       "18    1503960366 4/12/2016 5:00:00 PM   83     \n",
       "19    1503960366 4/12/2016 6:00:00 PM  124     \n",
       "20    1503960366 4/12/2016 7:00:00 PM  104     \n",
       "21    1503960366 4/12/2016 8:00:00 PM  132     \n",
       "22    1503960366 4/12/2016 9:00:00 PM  100     \n",
       "23    1503960366 4/12/2016 10:00:00 PM  65     \n",
       "24    1503960366 4/12/2016 11:00:00 PM  81     \n",
       "25    1503960366 4/13/2016 12:00:00 AM  69     \n",
       "26    1503960366 4/13/2016 1:00:00 AM   48     \n",
       "27    1503960366 4/13/2016 2:00:00 AM   47     \n",
       "28    1503960366 4/13/2016 3:00:00 AM   53     \n",
       "29    1503960366 4/13/2016 4:00:00 AM   47     \n",
       "30    1503960366 4/13/2016 5:00:00 AM   47     \n",
       "⋮     ⋮          ⋮                     ⋮       \n",
       "22070 8877689391 5/11/2016 9:00:00 AM  113     \n",
       "22071 8877689391 5/11/2016 10:00:00 AM 107     \n",
       "22072 8877689391 5/11/2016 11:00:00 AM 168     \n",
       "22073 8877689391 5/11/2016 12:00:00 PM 402     \n",
       "22074 8877689391 5/11/2016 1:00:00 PM  120     \n",
       "22075 8877689391 5/11/2016 2:00:00 PM   82     \n",
       "22076 8877689391 5/11/2016 3:00:00 PM  108     \n",
       "22077 8877689391 5/11/2016 4:00:00 PM  310     \n",
       "22078 8877689391 5/11/2016 5:00:00 PM  835     \n",
       "22079 8877689391 5/11/2016 6:00:00 PM  197     \n",
       "22080 8877689391 5/11/2016 7:00:00 PM  144     \n",
       "22081 8877689391 5/11/2016 8:00:00 PM  174     \n",
       "22082 8877689391 5/11/2016 9:00:00 PM  123     \n",
       "22083 8877689391 5/11/2016 10:00:00 PM  93     \n",
       "22084 8877689391 5/11/2016 11:00:00 PM  73     \n",
       "22085 8877689391 5/12/2016 12:00:00 AM  73     \n",
       "22086 8877689391 5/12/2016 1:00:00 AM   73     \n",
       "22087 8877689391 5/12/2016 2:00:00 AM   73     \n",
       "22088 8877689391 5/12/2016 3:00:00 AM   73     \n",
       "22089 8877689391 5/12/2016 4:00:00 AM   73     \n",
       "22090 8877689391 5/12/2016 5:00:00 AM   73     \n",
       "22091 8877689391 5/12/2016 6:00:00 AM  107     \n",
       "22092 8877689391 5/12/2016 7:00:00 AM  148     \n",
       "22093 8877689391 5/12/2016 8:00:00 AM  137     \n",
       "22094 8877689391 5/12/2016 9:00:00 AM   88     \n",
       "22095 8877689391 5/12/2016 10:00:00 AM 126     \n",
       "22096 8877689391 5/12/2016 11:00:00 AM 192     \n",
       "22097 8877689391 5/12/2016 12:00:00 PM 321     \n",
       "22098 8877689391 5/12/2016 1:00:00 PM  101     \n",
       "22099 8877689391 5/12/2016 2:00:00 PM  113     "
      ]
     },
     "metadata": {},
     "output_type": "display_data"
    },
    {
     "data": {
      "text/html": [
       "<table class=\"dataframe\">\n",
       "<caption>A data.frame: 22099 × 4</caption>\n",
       "<thead>\n",
       "\t<tr><th scope=col>id</th><th scope=col>activity_hour</th><th scope=col>total_intensity</th><th scope=col>average_intensity</th></tr>\n",
       "\t<tr><th scope=col>&lt;dbl&gt;</th><th scope=col>&lt;chr&gt;</th><th scope=col>&lt;int&gt;</th><th scope=col>&lt;dbl&gt;</th></tr>\n",
       "</thead>\n",
       "<tbody>\n",
       "\t<tr><td>1503960366</td><td>4/12/2016 12:00:00 AM</td><td>20</td><td>0.333333</td></tr>\n",
       "\t<tr><td>1503960366</td><td>4/12/2016 1:00:00 AM </td><td> 8</td><td>0.133333</td></tr>\n",
       "\t<tr><td>1503960366</td><td>4/12/2016 2:00:00 AM </td><td> 7</td><td>0.116667</td></tr>\n",
       "\t<tr><td>1503960366</td><td>4/12/2016 3:00:00 AM </td><td> 0</td><td>0.000000</td></tr>\n",
       "\t<tr><td>1503960366</td><td>4/12/2016 4:00:00 AM </td><td> 0</td><td>0.000000</td></tr>\n",
       "\t<tr><td>1503960366</td><td>4/12/2016 5:00:00 AM </td><td> 0</td><td>0.000000</td></tr>\n",
       "\t<tr><td>1503960366</td><td>4/12/2016 6:00:00 AM </td><td> 0</td><td>0.000000</td></tr>\n",
       "\t<tr><td>1503960366</td><td>4/12/2016 7:00:00 AM </td><td> 0</td><td>0.000000</td></tr>\n",
       "\t<tr><td>1503960366</td><td>4/12/2016 8:00:00 AM </td><td>13</td><td>0.216667</td></tr>\n",
       "\t<tr><td>1503960366</td><td>4/12/2016 9:00:00 AM </td><td>30</td><td>0.500000</td></tr>\n",
       "\t<tr><td>1503960366</td><td>4/12/2016 10:00:00 AM</td><td>29</td><td>0.483333</td></tr>\n",
       "\t<tr><td>1503960366</td><td>4/12/2016 11:00:00 AM</td><td>12</td><td>0.200000</td></tr>\n",
       "\t<tr><td>1503960366</td><td>4/12/2016 12:00:00 PM</td><td>11</td><td>0.183333</td></tr>\n",
       "\t<tr><td>1503960366</td><td>4/12/2016 1:00:00 PM </td><td> 6</td><td>0.100000</td></tr>\n",
       "\t<tr><td>1503960366</td><td>4/12/2016 2:00:00 PM </td><td>36</td><td>0.600000</td></tr>\n",
       "\t<tr><td>1503960366</td><td>4/12/2016 3:00:00 PM </td><td>58</td><td>0.966667</td></tr>\n",
       "\t<tr><td>1503960366</td><td>4/12/2016 4:00:00 PM </td><td>13</td><td>0.216667</td></tr>\n",
       "\t<tr><td>1503960366</td><td>4/12/2016 5:00:00 PM </td><td>16</td><td>0.266667</td></tr>\n",
       "\t<tr><td>1503960366</td><td>4/12/2016 6:00:00 PM </td><td>29</td><td>0.483333</td></tr>\n",
       "\t<tr><td>1503960366</td><td>4/12/2016 7:00:00 PM </td><td>39</td><td>0.650000</td></tr>\n",
       "\t<tr><td>1503960366</td><td>4/12/2016 8:00:00 PM </td><td>41</td><td>0.683333</td></tr>\n",
       "\t<tr><td>1503960366</td><td>4/12/2016 9:00:00 PM </td><td>31</td><td>0.516667</td></tr>\n",
       "\t<tr><td>1503960366</td><td>4/12/2016 10:00:00 PM</td><td> 9</td><td>0.150000</td></tr>\n",
       "\t<tr><td>1503960366</td><td>4/12/2016 11:00:00 PM</td><td>21</td><td>0.350000</td></tr>\n",
       "\t<tr><td>1503960366</td><td>4/13/2016 12:00:00 AM</td><td>14</td><td>0.233333</td></tr>\n",
       "\t<tr><td>1503960366</td><td>4/13/2016 1:00:00 AM </td><td> 0</td><td>0.000000</td></tr>\n",
       "\t<tr><td>1503960366</td><td>4/13/2016 2:00:00 AM </td><td> 0</td><td>0.000000</td></tr>\n",
       "\t<tr><td>1503960366</td><td>4/13/2016 3:00:00 AM </td><td> 4</td><td>0.066667</td></tr>\n",
       "\t<tr><td>1503960366</td><td>4/13/2016 4:00:00 AM </td><td> 0</td><td>0.000000</td></tr>\n",
       "\t<tr><td>1503960366</td><td>4/13/2016 5:00:00 AM </td><td> 0</td><td>0.000000</td></tr>\n",
       "\t<tr><td>⋮</td><td>⋮</td><td>⋮</td><td>⋮</td></tr>\n",
       "\t<tr><td>8877689391</td><td>5/11/2016 9:00:00 AM </td><td> 11</td><td>0.183333</td></tr>\n",
       "\t<tr><td>8877689391</td><td>5/11/2016 10:00:00 AM</td><td> 11</td><td>0.183333</td></tr>\n",
       "\t<tr><td>8877689391</td><td>5/11/2016 11:00:00 AM</td><td> 23</td><td>0.383333</td></tr>\n",
       "\t<tr><td>8877689391</td><td>5/11/2016 12:00:00 PM</td><td> 96</td><td>1.600000</td></tr>\n",
       "\t<tr><td>8877689391</td><td>5/11/2016 1:00:00 PM </td><td> 12</td><td>0.200000</td></tr>\n",
       "\t<tr><td>8877689391</td><td>5/11/2016 2:00:00 PM </td><td>  3</td><td>0.050000</td></tr>\n",
       "\t<tr><td>8877689391</td><td>5/11/2016 3:00:00 PM </td><td>  8</td><td>0.133333</td></tr>\n",
       "\t<tr><td>8877689391</td><td>5/11/2016 4:00:00 PM </td><td> 58</td><td>0.966667</td></tr>\n",
       "\t<tr><td>8877689391</td><td>5/11/2016 5:00:00 PM </td><td>163</td><td>2.716667</td></tr>\n",
       "\t<tr><td>8877689391</td><td>5/11/2016 6:00:00 PM </td><td> 29</td><td>0.483333</td></tr>\n",
       "\t<tr><td>8877689391</td><td>5/11/2016 7:00:00 PM </td><td> 15</td><td>0.250000</td></tr>\n",
       "\t<tr><td>8877689391</td><td>5/11/2016 8:00:00 PM </td><td> 26</td><td>0.433333</td></tr>\n",
       "\t<tr><td>8877689391</td><td>5/11/2016 9:00:00 PM </td><td> 13</td><td>0.216667</td></tr>\n",
       "\t<tr><td>8877689391</td><td>5/11/2016 10:00:00 PM</td><td>  4</td><td>0.066667</td></tr>\n",
       "\t<tr><td>8877689391</td><td>5/11/2016 11:00:00 PM</td><td>  0</td><td>0.000000</td></tr>\n",
       "\t<tr><td>8877689391</td><td>5/12/2016 12:00:00 AM</td><td>  0</td><td>0.000000</td></tr>\n",
       "\t<tr><td>8877689391</td><td>5/12/2016 1:00:00 AM </td><td>  0</td><td>0.000000</td></tr>\n",
       "\t<tr><td>8877689391</td><td>5/12/2016 2:00:00 AM </td><td>  0</td><td>0.000000</td></tr>\n",
       "\t<tr><td>8877689391</td><td>5/12/2016 3:00:00 AM </td><td>  0</td><td>0.000000</td></tr>\n",
       "\t<tr><td>8877689391</td><td>5/12/2016 4:00:00 AM </td><td>  0</td><td>0.000000</td></tr>\n",
       "\t<tr><td>8877689391</td><td>5/12/2016 5:00:00 AM </td><td>  0</td><td>0.000000</td></tr>\n",
       "\t<tr><td>8877689391</td><td>5/12/2016 6:00:00 AM </td><td>  9</td><td>0.150000</td></tr>\n",
       "\t<tr><td>8877689391</td><td>5/12/2016 7:00:00 AM </td><td> 19</td><td>0.316667</td></tr>\n",
       "\t<tr><td>8877689391</td><td>5/12/2016 8:00:00 AM </td><td> 16</td><td>0.266667</td></tr>\n",
       "\t<tr><td>8877689391</td><td>5/12/2016 9:00:00 AM </td><td>  4</td><td>0.066667</td></tr>\n",
       "\t<tr><td>8877689391</td><td>5/12/2016 10:00:00 AM</td><td> 12</td><td>0.200000</td></tr>\n",
       "\t<tr><td>8877689391</td><td>5/12/2016 11:00:00 AM</td><td> 29</td><td>0.483333</td></tr>\n",
       "\t<tr><td>8877689391</td><td>5/12/2016 12:00:00 PM</td><td> 93</td><td>1.550000</td></tr>\n",
       "\t<tr><td>8877689391</td><td>5/12/2016 1:00:00 PM </td><td>  6</td><td>0.100000</td></tr>\n",
       "\t<tr><td>8877689391</td><td>5/12/2016 2:00:00 PM </td><td>  9</td><td>0.150000</td></tr>\n",
       "</tbody>\n",
       "</table>\n"
      ],
      "text/latex": [
       "A data.frame: 22099 × 4\n",
       "\\begin{tabular}{llll}\n",
       " id & activity\\_hour & total\\_intensity & average\\_intensity\\\\\n",
       " <dbl> & <chr> & <int> & <dbl>\\\\\n",
       "\\hline\n",
       "\t 1503960366 & 4/12/2016 12:00:00 AM & 20 & 0.333333\\\\\n",
       "\t 1503960366 & 4/12/2016 1:00:00 AM  &  8 & 0.133333\\\\\n",
       "\t 1503960366 & 4/12/2016 2:00:00 AM  &  7 & 0.116667\\\\\n",
       "\t 1503960366 & 4/12/2016 3:00:00 AM  &  0 & 0.000000\\\\\n",
       "\t 1503960366 & 4/12/2016 4:00:00 AM  &  0 & 0.000000\\\\\n",
       "\t 1503960366 & 4/12/2016 5:00:00 AM  &  0 & 0.000000\\\\\n",
       "\t 1503960366 & 4/12/2016 6:00:00 AM  &  0 & 0.000000\\\\\n",
       "\t 1503960366 & 4/12/2016 7:00:00 AM  &  0 & 0.000000\\\\\n",
       "\t 1503960366 & 4/12/2016 8:00:00 AM  & 13 & 0.216667\\\\\n",
       "\t 1503960366 & 4/12/2016 9:00:00 AM  & 30 & 0.500000\\\\\n",
       "\t 1503960366 & 4/12/2016 10:00:00 AM & 29 & 0.483333\\\\\n",
       "\t 1503960366 & 4/12/2016 11:00:00 AM & 12 & 0.200000\\\\\n",
       "\t 1503960366 & 4/12/2016 12:00:00 PM & 11 & 0.183333\\\\\n",
       "\t 1503960366 & 4/12/2016 1:00:00 PM  &  6 & 0.100000\\\\\n",
       "\t 1503960366 & 4/12/2016 2:00:00 PM  & 36 & 0.600000\\\\\n",
       "\t 1503960366 & 4/12/2016 3:00:00 PM  & 58 & 0.966667\\\\\n",
       "\t 1503960366 & 4/12/2016 4:00:00 PM  & 13 & 0.216667\\\\\n",
       "\t 1503960366 & 4/12/2016 5:00:00 PM  & 16 & 0.266667\\\\\n",
       "\t 1503960366 & 4/12/2016 6:00:00 PM  & 29 & 0.483333\\\\\n",
       "\t 1503960366 & 4/12/2016 7:00:00 PM  & 39 & 0.650000\\\\\n",
       "\t 1503960366 & 4/12/2016 8:00:00 PM  & 41 & 0.683333\\\\\n",
       "\t 1503960366 & 4/12/2016 9:00:00 PM  & 31 & 0.516667\\\\\n",
       "\t 1503960366 & 4/12/2016 10:00:00 PM &  9 & 0.150000\\\\\n",
       "\t 1503960366 & 4/12/2016 11:00:00 PM & 21 & 0.350000\\\\\n",
       "\t 1503960366 & 4/13/2016 12:00:00 AM & 14 & 0.233333\\\\\n",
       "\t 1503960366 & 4/13/2016 1:00:00 AM  &  0 & 0.000000\\\\\n",
       "\t 1503960366 & 4/13/2016 2:00:00 AM  &  0 & 0.000000\\\\\n",
       "\t 1503960366 & 4/13/2016 3:00:00 AM  &  4 & 0.066667\\\\\n",
       "\t 1503960366 & 4/13/2016 4:00:00 AM  &  0 & 0.000000\\\\\n",
       "\t 1503960366 & 4/13/2016 5:00:00 AM  &  0 & 0.000000\\\\\n",
       "\t ⋮ & ⋮ & ⋮ & ⋮\\\\\n",
       "\t 8877689391 & 5/11/2016 9:00:00 AM  &  11 & 0.183333\\\\\n",
       "\t 8877689391 & 5/11/2016 10:00:00 AM &  11 & 0.183333\\\\\n",
       "\t 8877689391 & 5/11/2016 11:00:00 AM &  23 & 0.383333\\\\\n",
       "\t 8877689391 & 5/11/2016 12:00:00 PM &  96 & 1.600000\\\\\n",
       "\t 8877689391 & 5/11/2016 1:00:00 PM  &  12 & 0.200000\\\\\n",
       "\t 8877689391 & 5/11/2016 2:00:00 PM  &   3 & 0.050000\\\\\n",
       "\t 8877689391 & 5/11/2016 3:00:00 PM  &   8 & 0.133333\\\\\n",
       "\t 8877689391 & 5/11/2016 4:00:00 PM  &  58 & 0.966667\\\\\n",
       "\t 8877689391 & 5/11/2016 5:00:00 PM  & 163 & 2.716667\\\\\n",
       "\t 8877689391 & 5/11/2016 6:00:00 PM  &  29 & 0.483333\\\\\n",
       "\t 8877689391 & 5/11/2016 7:00:00 PM  &  15 & 0.250000\\\\\n",
       "\t 8877689391 & 5/11/2016 8:00:00 PM  &  26 & 0.433333\\\\\n",
       "\t 8877689391 & 5/11/2016 9:00:00 PM  &  13 & 0.216667\\\\\n",
       "\t 8877689391 & 5/11/2016 10:00:00 PM &   4 & 0.066667\\\\\n",
       "\t 8877689391 & 5/11/2016 11:00:00 PM &   0 & 0.000000\\\\\n",
       "\t 8877689391 & 5/12/2016 12:00:00 AM &   0 & 0.000000\\\\\n",
       "\t 8877689391 & 5/12/2016 1:00:00 AM  &   0 & 0.000000\\\\\n",
       "\t 8877689391 & 5/12/2016 2:00:00 AM  &   0 & 0.000000\\\\\n",
       "\t 8877689391 & 5/12/2016 3:00:00 AM  &   0 & 0.000000\\\\\n",
       "\t 8877689391 & 5/12/2016 4:00:00 AM  &   0 & 0.000000\\\\\n",
       "\t 8877689391 & 5/12/2016 5:00:00 AM  &   0 & 0.000000\\\\\n",
       "\t 8877689391 & 5/12/2016 6:00:00 AM  &   9 & 0.150000\\\\\n",
       "\t 8877689391 & 5/12/2016 7:00:00 AM  &  19 & 0.316667\\\\\n",
       "\t 8877689391 & 5/12/2016 8:00:00 AM  &  16 & 0.266667\\\\\n",
       "\t 8877689391 & 5/12/2016 9:00:00 AM  &   4 & 0.066667\\\\\n",
       "\t 8877689391 & 5/12/2016 10:00:00 AM &  12 & 0.200000\\\\\n",
       "\t 8877689391 & 5/12/2016 11:00:00 AM &  29 & 0.483333\\\\\n",
       "\t 8877689391 & 5/12/2016 12:00:00 PM &  93 & 1.550000\\\\\n",
       "\t 8877689391 & 5/12/2016 1:00:00 PM  &   6 & 0.100000\\\\\n",
       "\t 8877689391 & 5/12/2016 2:00:00 PM  &   9 & 0.150000\\\\\n",
       "\\end{tabular}\n"
      ],
      "text/markdown": [
       "\n",
       "A data.frame: 22099 × 4\n",
       "\n",
       "| id &lt;dbl&gt; | activity_hour &lt;chr&gt; | total_intensity &lt;int&gt; | average_intensity &lt;dbl&gt; |\n",
       "|---|---|---|---|\n",
       "| 1503960366 | 4/12/2016 12:00:00 AM | 20 | 0.333333 |\n",
       "| 1503960366 | 4/12/2016 1:00:00 AM  |  8 | 0.133333 |\n",
       "| 1503960366 | 4/12/2016 2:00:00 AM  |  7 | 0.116667 |\n",
       "| 1503960366 | 4/12/2016 3:00:00 AM  |  0 | 0.000000 |\n",
       "| 1503960366 | 4/12/2016 4:00:00 AM  |  0 | 0.000000 |\n",
       "| 1503960366 | 4/12/2016 5:00:00 AM  |  0 | 0.000000 |\n",
       "| 1503960366 | 4/12/2016 6:00:00 AM  |  0 | 0.000000 |\n",
       "| 1503960366 | 4/12/2016 7:00:00 AM  |  0 | 0.000000 |\n",
       "| 1503960366 | 4/12/2016 8:00:00 AM  | 13 | 0.216667 |\n",
       "| 1503960366 | 4/12/2016 9:00:00 AM  | 30 | 0.500000 |\n",
       "| 1503960366 | 4/12/2016 10:00:00 AM | 29 | 0.483333 |\n",
       "| 1503960366 | 4/12/2016 11:00:00 AM | 12 | 0.200000 |\n",
       "| 1503960366 | 4/12/2016 12:00:00 PM | 11 | 0.183333 |\n",
       "| 1503960366 | 4/12/2016 1:00:00 PM  |  6 | 0.100000 |\n",
       "| 1503960366 | 4/12/2016 2:00:00 PM  | 36 | 0.600000 |\n",
       "| 1503960366 | 4/12/2016 3:00:00 PM  | 58 | 0.966667 |\n",
       "| 1503960366 | 4/12/2016 4:00:00 PM  | 13 | 0.216667 |\n",
       "| 1503960366 | 4/12/2016 5:00:00 PM  | 16 | 0.266667 |\n",
       "| 1503960366 | 4/12/2016 6:00:00 PM  | 29 | 0.483333 |\n",
       "| 1503960366 | 4/12/2016 7:00:00 PM  | 39 | 0.650000 |\n",
       "| 1503960366 | 4/12/2016 8:00:00 PM  | 41 | 0.683333 |\n",
       "| 1503960366 | 4/12/2016 9:00:00 PM  | 31 | 0.516667 |\n",
       "| 1503960366 | 4/12/2016 10:00:00 PM |  9 | 0.150000 |\n",
       "| 1503960366 | 4/12/2016 11:00:00 PM | 21 | 0.350000 |\n",
       "| 1503960366 | 4/13/2016 12:00:00 AM | 14 | 0.233333 |\n",
       "| 1503960366 | 4/13/2016 1:00:00 AM  |  0 | 0.000000 |\n",
       "| 1503960366 | 4/13/2016 2:00:00 AM  |  0 | 0.000000 |\n",
       "| 1503960366 | 4/13/2016 3:00:00 AM  |  4 | 0.066667 |\n",
       "| 1503960366 | 4/13/2016 4:00:00 AM  |  0 | 0.000000 |\n",
       "| 1503960366 | 4/13/2016 5:00:00 AM  |  0 | 0.000000 |\n",
       "| ⋮ | ⋮ | ⋮ | ⋮ |\n",
       "| 8877689391 | 5/11/2016 9:00:00 AM  |  11 | 0.183333 |\n",
       "| 8877689391 | 5/11/2016 10:00:00 AM |  11 | 0.183333 |\n",
       "| 8877689391 | 5/11/2016 11:00:00 AM |  23 | 0.383333 |\n",
       "| 8877689391 | 5/11/2016 12:00:00 PM |  96 | 1.600000 |\n",
       "| 8877689391 | 5/11/2016 1:00:00 PM  |  12 | 0.200000 |\n",
       "| 8877689391 | 5/11/2016 2:00:00 PM  |   3 | 0.050000 |\n",
       "| 8877689391 | 5/11/2016 3:00:00 PM  |   8 | 0.133333 |\n",
       "| 8877689391 | 5/11/2016 4:00:00 PM  |  58 | 0.966667 |\n",
       "| 8877689391 | 5/11/2016 5:00:00 PM  | 163 | 2.716667 |\n",
       "| 8877689391 | 5/11/2016 6:00:00 PM  |  29 | 0.483333 |\n",
       "| 8877689391 | 5/11/2016 7:00:00 PM  |  15 | 0.250000 |\n",
       "| 8877689391 | 5/11/2016 8:00:00 PM  |  26 | 0.433333 |\n",
       "| 8877689391 | 5/11/2016 9:00:00 PM  |  13 | 0.216667 |\n",
       "| 8877689391 | 5/11/2016 10:00:00 PM |   4 | 0.066667 |\n",
       "| 8877689391 | 5/11/2016 11:00:00 PM |   0 | 0.000000 |\n",
       "| 8877689391 | 5/12/2016 12:00:00 AM |   0 | 0.000000 |\n",
       "| 8877689391 | 5/12/2016 1:00:00 AM  |   0 | 0.000000 |\n",
       "| 8877689391 | 5/12/2016 2:00:00 AM  |   0 | 0.000000 |\n",
       "| 8877689391 | 5/12/2016 3:00:00 AM  |   0 | 0.000000 |\n",
       "| 8877689391 | 5/12/2016 4:00:00 AM  |   0 | 0.000000 |\n",
       "| 8877689391 | 5/12/2016 5:00:00 AM  |   0 | 0.000000 |\n",
       "| 8877689391 | 5/12/2016 6:00:00 AM  |   9 | 0.150000 |\n",
       "| 8877689391 | 5/12/2016 7:00:00 AM  |  19 | 0.316667 |\n",
       "| 8877689391 | 5/12/2016 8:00:00 AM  |  16 | 0.266667 |\n",
       "| 8877689391 | 5/12/2016 9:00:00 AM  |   4 | 0.066667 |\n",
       "| 8877689391 | 5/12/2016 10:00:00 AM |  12 | 0.200000 |\n",
       "| 8877689391 | 5/12/2016 11:00:00 AM |  29 | 0.483333 |\n",
       "| 8877689391 | 5/12/2016 12:00:00 PM |  93 | 1.550000 |\n",
       "| 8877689391 | 5/12/2016 1:00:00 PM  |   6 | 0.100000 |\n",
       "| 8877689391 | 5/12/2016 2:00:00 PM  |   9 | 0.150000 |\n",
       "\n"
      ],
      "text/plain": [
       "      id         activity_hour         total_intensity average_intensity\n",
       "1     1503960366 4/12/2016 12:00:00 AM 20              0.333333         \n",
       "2     1503960366 4/12/2016 1:00:00 AM   8              0.133333         \n",
       "3     1503960366 4/12/2016 2:00:00 AM   7              0.116667         \n",
       "4     1503960366 4/12/2016 3:00:00 AM   0              0.000000         \n",
       "5     1503960366 4/12/2016 4:00:00 AM   0              0.000000         \n",
       "6     1503960366 4/12/2016 5:00:00 AM   0              0.000000         \n",
       "7     1503960366 4/12/2016 6:00:00 AM   0              0.000000         \n",
       "8     1503960366 4/12/2016 7:00:00 AM   0              0.000000         \n",
       "9     1503960366 4/12/2016 8:00:00 AM  13              0.216667         \n",
       "10    1503960366 4/12/2016 9:00:00 AM  30              0.500000         \n",
       "11    1503960366 4/12/2016 10:00:00 AM 29              0.483333         \n",
       "12    1503960366 4/12/2016 11:00:00 AM 12              0.200000         \n",
       "13    1503960366 4/12/2016 12:00:00 PM 11              0.183333         \n",
       "14    1503960366 4/12/2016 1:00:00 PM   6              0.100000         \n",
       "15    1503960366 4/12/2016 2:00:00 PM  36              0.600000         \n",
       "16    1503960366 4/12/2016 3:00:00 PM  58              0.966667         \n",
       "17    1503960366 4/12/2016 4:00:00 PM  13              0.216667         \n",
       "18    1503960366 4/12/2016 5:00:00 PM  16              0.266667         \n",
       "19    1503960366 4/12/2016 6:00:00 PM  29              0.483333         \n",
       "20    1503960366 4/12/2016 7:00:00 PM  39              0.650000         \n",
       "21    1503960366 4/12/2016 8:00:00 PM  41              0.683333         \n",
       "22    1503960366 4/12/2016 9:00:00 PM  31              0.516667         \n",
       "23    1503960366 4/12/2016 10:00:00 PM  9              0.150000         \n",
       "24    1503960366 4/12/2016 11:00:00 PM 21              0.350000         \n",
       "25    1503960366 4/13/2016 12:00:00 AM 14              0.233333         \n",
       "26    1503960366 4/13/2016 1:00:00 AM   0              0.000000         \n",
       "27    1503960366 4/13/2016 2:00:00 AM   0              0.000000         \n",
       "28    1503960366 4/13/2016 3:00:00 AM   4              0.066667         \n",
       "29    1503960366 4/13/2016 4:00:00 AM   0              0.000000         \n",
       "30    1503960366 4/13/2016 5:00:00 AM   0              0.000000         \n",
       "⋮     ⋮          ⋮                     ⋮               ⋮                \n",
       "22070 8877689391 5/11/2016 9:00:00 AM   11             0.183333         \n",
       "22071 8877689391 5/11/2016 10:00:00 AM  11             0.183333         \n",
       "22072 8877689391 5/11/2016 11:00:00 AM  23             0.383333         \n",
       "22073 8877689391 5/11/2016 12:00:00 PM  96             1.600000         \n",
       "22074 8877689391 5/11/2016 1:00:00 PM   12             0.200000         \n",
       "22075 8877689391 5/11/2016 2:00:00 PM    3             0.050000         \n",
       "22076 8877689391 5/11/2016 3:00:00 PM    8             0.133333         \n",
       "22077 8877689391 5/11/2016 4:00:00 PM   58             0.966667         \n",
       "22078 8877689391 5/11/2016 5:00:00 PM  163             2.716667         \n",
       "22079 8877689391 5/11/2016 6:00:00 PM   29             0.483333         \n",
       "22080 8877689391 5/11/2016 7:00:00 PM   15             0.250000         \n",
       "22081 8877689391 5/11/2016 8:00:00 PM   26             0.433333         \n",
       "22082 8877689391 5/11/2016 9:00:00 PM   13             0.216667         \n",
       "22083 8877689391 5/11/2016 10:00:00 PM   4             0.066667         \n",
       "22084 8877689391 5/11/2016 11:00:00 PM   0             0.000000         \n",
       "22085 8877689391 5/12/2016 12:00:00 AM   0             0.000000         \n",
       "22086 8877689391 5/12/2016 1:00:00 AM    0             0.000000         \n",
       "22087 8877689391 5/12/2016 2:00:00 AM    0             0.000000         \n",
       "22088 8877689391 5/12/2016 3:00:00 AM    0             0.000000         \n",
       "22089 8877689391 5/12/2016 4:00:00 AM    0             0.000000         \n",
       "22090 8877689391 5/12/2016 5:00:00 AM    0             0.000000         \n",
       "22091 8877689391 5/12/2016 6:00:00 AM    9             0.150000         \n",
       "22092 8877689391 5/12/2016 7:00:00 AM   19             0.316667         \n",
       "22093 8877689391 5/12/2016 8:00:00 AM   16             0.266667         \n",
       "22094 8877689391 5/12/2016 9:00:00 AM    4             0.066667         \n",
       "22095 8877689391 5/12/2016 10:00:00 AM  12             0.200000         \n",
       "22096 8877689391 5/12/2016 11:00:00 AM  29             0.483333         \n",
       "22097 8877689391 5/12/2016 12:00:00 PM  93             1.550000         \n",
       "22098 8877689391 5/12/2016 1:00:00 PM    6             0.100000         \n",
       "22099 8877689391 5/12/2016 2:00:00 PM    9             0.150000         "
      ]
     },
     "metadata": {},
     "output_type": "display_data"
    },
    {
     "data": {
      "text/html": [
       "<table class=\"dataframe\">\n",
       "<caption>A data.frame: 22099 × 3</caption>\n",
       "<thead>\n",
       "\t<tr><th scope=col>id</th><th scope=col>activity_hour</th><th scope=col>step_total</th></tr>\n",
       "\t<tr><th scope=col>&lt;dbl&gt;</th><th scope=col>&lt;chr&gt;</th><th scope=col>&lt;int&gt;</th></tr>\n",
       "</thead>\n",
       "<tbody>\n",
       "\t<tr><td>1503960366</td><td>4/12/2016 12:00:00 AM</td><td> 373</td></tr>\n",
       "\t<tr><td>1503960366</td><td>4/12/2016 1:00:00 AM </td><td> 160</td></tr>\n",
       "\t<tr><td>1503960366</td><td>4/12/2016 2:00:00 AM </td><td> 151</td></tr>\n",
       "\t<tr><td>1503960366</td><td>4/12/2016 3:00:00 AM </td><td>   0</td></tr>\n",
       "\t<tr><td>1503960366</td><td>4/12/2016 4:00:00 AM </td><td>   0</td></tr>\n",
       "\t<tr><td>1503960366</td><td>4/12/2016 5:00:00 AM </td><td>   0</td></tr>\n",
       "\t<tr><td>1503960366</td><td>4/12/2016 6:00:00 AM </td><td>   0</td></tr>\n",
       "\t<tr><td>1503960366</td><td>4/12/2016 7:00:00 AM </td><td>   0</td></tr>\n",
       "\t<tr><td>1503960366</td><td>4/12/2016 8:00:00 AM </td><td> 250</td></tr>\n",
       "\t<tr><td>1503960366</td><td>4/12/2016 9:00:00 AM </td><td>1864</td></tr>\n",
       "\t<tr><td>1503960366</td><td>4/12/2016 10:00:00 AM</td><td> 676</td></tr>\n",
       "\t<tr><td>1503960366</td><td>4/12/2016 11:00:00 AM</td><td> 360</td></tr>\n",
       "\t<tr><td>1503960366</td><td>4/12/2016 12:00:00 PM</td><td> 253</td></tr>\n",
       "\t<tr><td>1503960366</td><td>4/12/2016 1:00:00 PM </td><td> 221</td></tr>\n",
       "\t<tr><td>1503960366</td><td>4/12/2016 2:00:00 PM </td><td>1166</td></tr>\n",
       "\t<tr><td>1503960366</td><td>4/12/2016 3:00:00 PM </td><td>2063</td></tr>\n",
       "\t<tr><td>1503960366</td><td>4/12/2016 4:00:00 PM </td><td> 344</td></tr>\n",
       "\t<tr><td>1503960366</td><td>4/12/2016 5:00:00 PM </td><td> 489</td></tr>\n",
       "\t<tr><td>1503960366</td><td>4/12/2016 6:00:00 PM </td><td>1386</td></tr>\n",
       "\t<tr><td>1503960366</td><td>4/12/2016 7:00:00 PM </td><td> 558</td></tr>\n",
       "\t<tr><td>1503960366</td><td>4/12/2016 8:00:00 PM </td><td>1733</td></tr>\n",
       "\t<tr><td>1503960366</td><td>4/12/2016 9:00:00 PM </td><td> 684</td></tr>\n",
       "\t<tr><td>1503960366</td><td>4/12/2016 10:00:00 PM</td><td>  89</td></tr>\n",
       "\t<tr><td>1503960366</td><td>4/12/2016 11:00:00 PM</td><td> 338</td></tr>\n",
       "\t<tr><td>1503960366</td><td>4/13/2016 12:00:00 AM</td><td> 144</td></tr>\n",
       "\t<tr><td>1503960366</td><td>4/13/2016 1:00:00 AM </td><td>   0</td></tr>\n",
       "\t<tr><td>1503960366</td><td>4/13/2016 2:00:00 AM </td><td>   0</td></tr>\n",
       "\t<tr><td>1503960366</td><td>4/13/2016 3:00:00 AM </td><td>  36</td></tr>\n",
       "\t<tr><td>1503960366</td><td>4/13/2016 4:00:00 AM </td><td>   0</td></tr>\n",
       "\t<tr><td>1503960366</td><td>4/13/2016 5:00:00 AM </td><td>   0</td></tr>\n",
       "\t<tr><td>⋮</td><td>⋮</td><td>⋮</td></tr>\n",
       "\t<tr><td>8877689391</td><td>5/11/2016 9:00:00 AM </td><td> 338</td></tr>\n",
       "\t<tr><td>8877689391</td><td>5/11/2016 10:00:00 AM</td><td> 295</td></tr>\n",
       "\t<tr><td>8877689391</td><td>5/11/2016 11:00:00 AM</td><td> 974</td></tr>\n",
       "\t<tr><td>8877689391</td><td>5/11/2016 12:00:00 PM</td><td>3929</td></tr>\n",
       "\t<tr><td>8877689391</td><td>5/11/2016 1:00:00 PM </td><td> 481</td></tr>\n",
       "\t<tr><td>8877689391</td><td>5/11/2016 2:00:00 PM </td><td>  37</td></tr>\n",
       "\t<tr><td>8877689391</td><td>5/11/2016 3:00:00 PM </td><td> 416</td></tr>\n",
       "\t<tr><td>8877689391</td><td>5/11/2016 4:00:00 PM </td><td>2869</td></tr>\n",
       "\t<tr><td>8877689391</td><td>5/11/2016 5:00:00 PM </td><td>8357</td></tr>\n",
       "\t<tr><td>8877689391</td><td>5/11/2016 6:00:00 PM </td><td> 920</td></tr>\n",
       "\t<tr><td>8877689391</td><td>5/11/2016 7:00:00 PM </td><td> 408</td></tr>\n",
       "\t<tr><td>8877689391</td><td>5/11/2016 8:00:00 PM </td><td> 633</td></tr>\n",
       "\t<tr><td>8877689391</td><td>5/11/2016 9:00:00 PM </td><td> 228</td></tr>\n",
       "\t<tr><td>8877689391</td><td>5/11/2016 10:00:00 PM</td><td> 109</td></tr>\n",
       "\t<tr><td>8877689391</td><td>5/11/2016 11:00:00 PM</td><td>   0</td></tr>\n",
       "\t<tr><td>8877689391</td><td>5/12/2016 12:00:00 AM</td><td>   0</td></tr>\n",
       "\t<tr><td>8877689391</td><td>5/12/2016 1:00:00 AM </td><td>   0</td></tr>\n",
       "\t<tr><td>8877689391</td><td>5/12/2016 2:00:00 AM </td><td>   0</td></tr>\n",
       "\t<tr><td>8877689391</td><td>5/12/2016 3:00:00 AM </td><td>   0</td></tr>\n",
       "\t<tr><td>8877689391</td><td>5/12/2016 4:00:00 AM </td><td>   0</td></tr>\n",
       "\t<tr><td>8877689391</td><td>5/12/2016 5:00:00 AM </td><td>   0</td></tr>\n",
       "\t<tr><td>8877689391</td><td>5/12/2016 6:00:00 AM </td><td> 254</td></tr>\n",
       "\t<tr><td>8877689391</td><td>5/12/2016 7:00:00 AM </td><td> 574</td></tr>\n",
       "\t<tr><td>8877689391</td><td>5/12/2016 8:00:00 AM </td><td> 765</td></tr>\n",
       "\t<tr><td>8877689391</td><td>5/12/2016 9:00:00 AM </td><td> 164</td></tr>\n",
       "\t<tr><td>8877689391</td><td>5/12/2016 10:00:00 AM</td><td> 514</td></tr>\n",
       "\t<tr><td>8877689391</td><td>5/12/2016 11:00:00 AM</td><td>1407</td></tr>\n",
       "\t<tr><td>8877689391</td><td>5/12/2016 12:00:00 PM</td><td>3135</td></tr>\n",
       "\t<tr><td>8877689391</td><td>5/12/2016 1:00:00 PM </td><td> 307</td></tr>\n",
       "\t<tr><td>8877689391</td><td>5/12/2016 2:00:00 PM </td><td> 457</td></tr>\n",
       "</tbody>\n",
       "</table>\n"
      ],
      "text/latex": [
       "A data.frame: 22099 × 3\n",
       "\\begin{tabular}{lll}\n",
       " id & activity\\_hour & step\\_total\\\\\n",
       " <dbl> & <chr> & <int>\\\\\n",
       "\\hline\n",
       "\t 1503960366 & 4/12/2016 12:00:00 AM &  373\\\\\n",
       "\t 1503960366 & 4/12/2016 1:00:00 AM  &  160\\\\\n",
       "\t 1503960366 & 4/12/2016 2:00:00 AM  &  151\\\\\n",
       "\t 1503960366 & 4/12/2016 3:00:00 AM  &    0\\\\\n",
       "\t 1503960366 & 4/12/2016 4:00:00 AM  &    0\\\\\n",
       "\t 1503960366 & 4/12/2016 5:00:00 AM  &    0\\\\\n",
       "\t 1503960366 & 4/12/2016 6:00:00 AM  &    0\\\\\n",
       "\t 1503960366 & 4/12/2016 7:00:00 AM  &    0\\\\\n",
       "\t 1503960366 & 4/12/2016 8:00:00 AM  &  250\\\\\n",
       "\t 1503960366 & 4/12/2016 9:00:00 AM  & 1864\\\\\n",
       "\t 1503960366 & 4/12/2016 10:00:00 AM &  676\\\\\n",
       "\t 1503960366 & 4/12/2016 11:00:00 AM &  360\\\\\n",
       "\t 1503960366 & 4/12/2016 12:00:00 PM &  253\\\\\n",
       "\t 1503960366 & 4/12/2016 1:00:00 PM  &  221\\\\\n",
       "\t 1503960366 & 4/12/2016 2:00:00 PM  & 1166\\\\\n",
       "\t 1503960366 & 4/12/2016 3:00:00 PM  & 2063\\\\\n",
       "\t 1503960366 & 4/12/2016 4:00:00 PM  &  344\\\\\n",
       "\t 1503960366 & 4/12/2016 5:00:00 PM  &  489\\\\\n",
       "\t 1503960366 & 4/12/2016 6:00:00 PM  & 1386\\\\\n",
       "\t 1503960366 & 4/12/2016 7:00:00 PM  &  558\\\\\n",
       "\t 1503960366 & 4/12/2016 8:00:00 PM  & 1733\\\\\n",
       "\t 1503960366 & 4/12/2016 9:00:00 PM  &  684\\\\\n",
       "\t 1503960366 & 4/12/2016 10:00:00 PM &   89\\\\\n",
       "\t 1503960366 & 4/12/2016 11:00:00 PM &  338\\\\\n",
       "\t 1503960366 & 4/13/2016 12:00:00 AM &  144\\\\\n",
       "\t 1503960366 & 4/13/2016 1:00:00 AM  &    0\\\\\n",
       "\t 1503960366 & 4/13/2016 2:00:00 AM  &    0\\\\\n",
       "\t 1503960366 & 4/13/2016 3:00:00 AM  &   36\\\\\n",
       "\t 1503960366 & 4/13/2016 4:00:00 AM  &    0\\\\\n",
       "\t 1503960366 & 4/13/2016 5:00:00 AM  &    0\\\\\n",
       "\t ⋮ & ⋮ & ⋮\\\\\n",
       "\t 8877689391 & 5/11/2016 9:00:00 AM  &  338\\\\\n",
       "\t 8877689391 & 5/11/2016 10:00:00 AM &  295\\\\\n",
       "\t 8877689391 & 5/11/2016 11:00:00 AM &  974\\\\\n",
       "\t 8877689391 & 5/11/2016 12:00:00 PM & 3929\\\\\n",
       "\t 8877689391 & 5/11/2016 1:00:00 PM  &  481\\\\\n",
       "\t 8877689391 & 5/11/2016 2:00:00 PM  &   37\\\\\n",
       "\t 8877689391 & 5/11/2016 3:00:00 PM  &  416\\\\\n",
       "\t 8877689391 & 5/11/2016 4:00:00 PM  & 2869\\\\\n",
       "\t 8877689391 & 5/11/2016 5:00:00 PM  & 8357\\\\\n",
       "\t 8877689391 & 5/11/2016 6:00:00 PM  &  920\\\\\n",
       "\t 8877689391 & 5/11/2016 7:00:00 PM  &  408\\\\\n",
       "\t 8877689391 & 5/11/2016 8:00:00 PM  &  633\\\\\n",
       "\t 8877689391 & 5/11/2016 9:00:00 PM  &  228\\\\\n",
       "\t 8877689391 & 5/11/2016 10:00:00 PM &  109\\\\\n",
       "\t 8877689391 & 5/11/2016 11:00:00 PM &    0\\\\\n",
       "\t 8877689391 & 5/12/2016 12:00:00 AM &    0\\\\\n",
       "\t 8877689391 & 5/12/2016 1:00:00 AM  &    0\\\\\n",
       "\t 8877689391 & 5/12/2016 2:00:00 AM  &    0\\\\\n",
       "\t 8877689391 & 5/12/2016 3:00:00 AM  &    0\\\\\n",
       "\t 8877689391 & 5/12/2016 4:00:00 AM  &    0\\\\\n",
       "\t 8877689391 & 5/12/2016 5:00:00 AM  &    0\\\\\n",
       "\t 8877689391 & 5/12/2016 6:00:00 AM  &  254\\\\\n",
       "\t 8877689391 & 5/12/2016 7:00:00 AM  &  574\\\\\n",
       "\t 8877689391 & 5/12/2016 8:00:00 AM  &  765\\\\\n",
       "\t 8877689391 & 5/12/2016 9:00:00 AM  &  164\\\\\n",
       "\t 8877689391 & 5/12/2016 10:00:00 AM &  514\\\\\n",
       "\t 8877689391 & 5/12/2016 11:00:00 AM & 1407\\\\\n",
       "\t 8877689391 & 5/12/2016 12:00:00 PM & 3135\\\\\n",
       "\t 8877689391 & 5/12/2016 1:00:00 PM  &  307\\\\\n",
       "\t 8877689391 & 5/12/2016 2:00:00 PM  &  457\\\\\n",
       "\\end{tabular}\n"
      ],
      "text/markdown": [
       "\n",
       "A data.frame: 22099 × 3\n",
       "\n",
       "| id &lt;dbl&gt; | activity_hour &lt;chr&gt; | step_total &lt;int&gt; |\n",
       "|---|---|---|\n",
       "| 1503960366 | 4/12/2016 12:00:00 AM |  373 |\n",
       "| 1503960366 | 4/12/2016 1:00:00 AM  |  160 |\n",
       "| 1503960366 | 4/12/2016 2:00:00 AM  |  151 |\n",
       "| 1503960366 | 4/12/2016 3:00:00 AM  |    0 |\n",
       "| 1503960366 | 4/12/2016 4:00:00 AM  |    0 |\n",
       "| 1503960366 | 4/12/2016 5:00:00 AM  |    0 |\n",
       "| 1503960366 | 4/12/2016 6:00:00 AM  |    0 |\n",
       "| 1503960366 | 4/12/2016 7:00:00 AM  |    0 |\n",
       "| 1503960366 | 4/12/2016 8:00:00 AM  |  250 |\n",
       "| 1503960366 | 4/12/2016 9:00:00 AM  | 1864 |\n",
       "| 1503960366 | 4/12/2016 10:00:00 AM |  676 |\n",
       "| 1503960366 | 4/12/2016 11:00:00 AM |  360 |\n",
       "| 1503960366 | 4/12/2016 12:00:00 PM |  253 |\n",
       "| 1503960366 | 4/12/2016 1:00:00 PM  |  221 |\n",
       "| 1503960366 | 4/12/2016 2:00:00 PM  | 1166 |\n",
       "| 1503960366 | 4/12/2016 3:00:00 PM  | 2063 |\n",
       "| 1503960366 | 4/12/2016 4:00:00 PM  |  344 |\n",
       "| 1503960366 | 4/12/2016 5:00:00 PM  |  489 |\n",
       "| 1503960366 | 4/12/2016 6:00:00 PM  | 1386 |\n",
       "| 1503960366 | 4/12/2016 7:00:00 PM  |  558 |\n",
       "| 1503960366 | 4/12/2016 8:00:00 PM  | 1733 |\n",
       "| 1503960366 | 4/12/2016 9:00:00 PM  |  684 |\n",
       "| 1503960366 | 4/12/2016 10:00:00 PM |   89 |\n",
       "| 1503960366 | 4/12/2016 11:00:00 PM |  338 |\n",
       "| 1503960366 | 4/13/2016 12:00:00 AM |  144 |\n",
       "| 1503960366 | 4/13/2016 1:00:00 AM  |    0 |\n",
       "| 1503960366 | 4/13/2016 2:00:00 AM  |    0 |\n",
       "| 1503960366 | 4/13/2016 3:00:00 AM  |   36 |\n",
       "| 1503960366 | 4/13/2016 4:00:00 AM  |    0 |\n",
       "| 1503960366 | 4/13/2016 5:00:00 AM  |    0 |\n",
       "| ⋮ | ⋮ | ⋮ |\n",
       "| 8877689391 | 5/11/2016 9:00:00 AM  |  338 |\n",
       "| 8877689391 | 5/11/2016 10:00:00 AM |  295 |\n",
       "| 8877689391 | 5/11/2016 11:00:00 AM |  974 |\n",
       "| 8877689391 | 5/11/2016 12:00:00 PM | 3929 |\n",
       "| 8877689391 | 5/11/2016 1:00:00 PM  |  481 |\n",
       "| 8877689391 | 5/11/2016 2:00:00 PM  |   37 |\n",
       "| 8877689391 | 5/11/2016 3:00:00 PM  |  416 |\n",
       "| 8877689391 | 5/11/2016 4:00:00 PM  | 2869 |\n",
       "| 8877689391 | 5/11/2016 5:00:00 PM  | 8357 |\n",
       "| 8877689391 | 5/11/2016 6:00:00 PM  |  920 |\n",
       "| 8877689391 | 5/11/2016 7:00:00 PM  |  408 |\n",
       "| 8877689391 | 5/11/2016 8:00:00 PM  |  633 |\n",
       "| 8877689391 | 5/11/2016 9:00:00 PM  |  228 |\n",
       "| 8877689391 | 5/11/2016 10:00:00 PM |  109 |\n",
       "| 8877689391 | 5/11/2016 11:00:00 PM |    0 |\n",
       "| 8877689391 | 5/12/2016 12:00:00 AM |    0 |\n",
       "| 8877689391 | 5/12/2016 1:00:00 AM  |    0 |\n",
       "| 8877689391 | 5/12/2016 2:00:00 AM  |    0 |\n",
       "| 8877689391 | 5/12/2016 3:00:00 AM  |    0 |\n",
       "| 8877689391 | 5/12/2016 4:00:00 AM  |    0 |\n",
       "| 8877689391 | 5/12/2016 5:00:00 AM  |    0 |\n",
       "| 8877689391 | 5/12/2016 6:00:00 AM  |  254 |\n",
       "| 8877689391 | 5/12/2016 7:00:00 AM  |  574 |\n",
       "| 8877689391 | 5/12/2016 8:00:00 AM  |  765 |\n",
       "| 8877689391 | 5/12/2016 9:00:00 AM  |  164 |\n",
       "| 8877689391 | 5/12/2016 10:00:00 AM |  514 |\n",
       "| 8877689391 | 5/12/2016 11:00:00 AM | 1407 |\n",
       "| 8877689391 | 5/12/2016 12:00:00 PM | 3135 |\n",
       "| 8877689391 | 5/12/2016 1:00:00 PM  |  307 |\n",
       "| 8877689391 | 5/12/2016 2:00:00 PM  |  457 |\n",
       "\n"
      ],
      "text/plain": [
       "      id         activity_hour         step_total\n",
       "1     1503960366 4/12/2016 12:00:00 AM  373      \n",
       "2     1503960366 4/12/2016 1:00:00 AM   160      \n",
       "3     1503960366 4/12/2016 2:00:00 AM   151      \n",
       "4     1503960366 4/12/2016 3:00:00 AM     0      \n",
       "5     1503960366 4/12/2016 4:00:00 AM     0      \n",
       "6     1503960366 4/12/2016 5:00:00 AM     0      \n",
       "7     1503960366 4/12/2016 6:00:00 AM     0      \n",
       "8     1503960366 4/12/2016 7:00:00 AM     0      \n",
       "9     1503960366 4/12/2016 8:00:00 AM   250      \n",
       "10    1503960366 4/12/2016 9:00:00 AM  1864      \n",
       "11    1503960366 4/12/2016 10:00:00 AM  676      \n",
       "12    1503960366 4/12/2016 11:00:00 AM  360      \n",
       "13    1503960366 4/12/2016 12:00:00 PM  253      \n",
       "14    1503960366 4/12/2016 1:00:00 PM   221      \n",
       "15    1503960366 4/12/2016 2:00:00 PM  1166      \n",
       "16    1503960366 4/12/2016 3:00:00 PM  2063      \n",
       "17    1503960366 4/12/2016 4:00:00 PM   344      \n",
       "18    1503960366 4/12/2016 5:00:00 PM   489      \n",
       "19    1503960366 4/12/2016 6:00:00 PM  1386      \n",
       "20    1503960366 4/12/2016 7:00:00 PM   558      \n",
       "21    1503960366 4/12/2016 8:00:00 PM  1733      \n",
       "22    1503960366 4/12/2016 9:00:00 PM   684      \n",
       "23    1503960366 4/12/2016 10:00:00 PM   89      \n",
       "24    1503960366 4/12/2016 11:00:00 PM  338      \n",
       "25    1503960366 4/13/2016 12:00:00 AM  144      \n",
       "26    1503960366 4/13/2016 1:00:00 AM     0      \n",
       "27    1503960366 4/13/2016 2:00:00 AM     0      \n",
       "28    1503960366 4/13/2016 3:00:00 AM    36      \n",
       "29    1503960366 4/13/2016 4:00:00 AM     0      \n",
       "30    1503960366 4/13/2016 5:00:00 AM     0      \n",
       "⋮     ⋮          ⋮                     ⋮         \n",
       "22070 8877689391 5/11/2016 9:00:00 AM   338      \n",
       "22071 8877689391 5/11/2016 10:00:00 AM  295      \n",
       "22072 8877689391 5/11/2016 11:00:00 AM  974      \n",
       "22073 8877689391 5/11/2016 12:00:00 PM 3929      \n",
       "22074 8877689391 5/11/2016 1:00:00 PM   481      \n",
       "22075 8877689391 5/11/2016 2:00:00 PM    37      \n",
       "22076 8877689391 5/11/2016 3:00:00 PM   416      \n",
       "22077 8877689391 5/11/2016 4:00:00 PM  2869      \n",
       "22078 8877689391 5/11/2016 5:00:00 PM  8357      \n",
       "22079 8877689391 5/11/2016 6:00:00 PM   920      \n",
       "22080 8877689391 5/11/2016 7:00:00 PM   408      \n",
       "22081 8877689391 5/11/2016 8:00:00 PM   633      \n",
       "22082 8877689391 5/11/2016 9:00:00 PM   228      \n",
       "22083 8877689391 5/11/2016 10:00:00 PM  109      \n",
       "22084 8877689391 5/11/2016 11:00:00 PM    0      \n",
       "22085 8877689391 5/12/2016 12:00:00 AM    0      \n",
       "22086 8877689391 5/12/2016 1:00:00 AM     0      \n",
       "22087 8877689391 5/12/2016 2:00:00 AM     0      \n",
       "22088 8877689391 5/12/2016 3:00:00 AM     0      \n",
       "22089 8877689391 5/12/2016 4:00:00 AM     0      \n",
       "22090 8877689391 5/12/2016 5:00:00 AM     0      \n",
       "22091 8877689391 5/12/2016 6:00:00 AM   254      \n",
       "22092 8877689391 5/12/2016 7:00:00 AM   574      \n",
       "22093 8877689391 5/12/2016 8:00:00 AM   765      \n",
       "22094 8877689391 5/12/2016 9:00:00 AM   164      \n",
       "22095 8877689391 5/12/2016 10:00:00 AM  514      \n",
       "22096 8877689391 5/12/2016 11:00:00 AM 1407      \n",
       "22097 8877689391 5/12/2016 12:00:00 PM 3135      \n",
       "22098 8877689391 5/12/2016 1:00:00 PM   307      \n",
       "22099 8877689391 5/12/2016 2:00:00 PM   457      "
      ]
     },
     "metadata": {},
     "output_type": "display_data"
    }
   ],
   "source": [
    "#renaming the columns\n",
    "clean_names(daily_activity)\n",
    "daily_activity <- rename_with(daily_activity, tolower)\n",
    "clean_names(daily_sleep)\n",
    "daily_sleep <- rename_with(daily_sleep, tolower)\n",
    "clean_names(daily_steps)\n",
    "daily_steps <- rename_with(daily_steps, tolower)\n",
    "clean_names(hourly_calories)\n",
    "hourly_calories <- rename_with(hourly_calories, tolower)\n",
    "clean_names(hourly_intensities)\n",
    "hourly_intensities<- rename_with(hourly_intensities,tolower)\n",
    "clean_names(hourly_steps)\n",
    "hourly_steps<-rename_with(hourly_steps,tolower)"
   ]
  },
  {
   "cell_type": "code",
   "execution_count": 9,
   "id": "b341174c",
   "metadata": {
    "execution": {
     "iopub.execute_input": "2023-12-17T06:49:02.202845Z",
     "iopub.status.busy": "2023-12-17T06:49:02.201127Z",
     "iopub.status.idle": "2023-12-17T06:49:02.338338Z",
     "shell.execute_reply": "2023-12-17T06:49:02.336202Z"
    },
    "papermill": {
     "duration": 0.16502,
     "end_time": "2023-12-17T06:49:02.341183",
     "exception": false,
     "start_time": "2023-12-17T06:49:02.176163",
     "status": "completed"
    },
    "tags": []
   },
   "outputs": [],
   "source": [
    "#formatting the dates\n",
    "daily_activity <- daily_activity %>%\n",
    "  rename(date = activitydate) %>%\n",
    "  mutate(date = as_date(date, format = \"%m/%d/%Y\"))\n",
    "daily_sleep <- daily_sleep %>%\n",
    "  rename(date = sleepday) %>%\n",
    "  mutate(date = as.POSIXct(date, format =\"%m/%d/%Y %I:%M:%S %p\", tz = Sys.timezone()))\n",
    "hourly_calories <- hourly_calories %>% \n",
    "  rename(date_time = activityhour) %>% \n",
    "  mutate(date_time = as.POSIXct(date_time, format =\"%m/%d/%Y %I:%M:%S %p\" , tz=Sys.timezone()))\n",
    "hourly_intensities <- hourly_intensities %>% \n",
    "  rename(date_time = activityhour) %>% \n",
    "  mutate(date_time = as.POSIXct(date_time, format =\"%m/%d/%Y %I:%M:%S %p\" , tz=Sys.timezone()))\n",
    "hourly_steps<- hourly_steps %>% \n",
    "  rename(date_time = activityhour) %>% \n",
    "  mutate(date_time = as.POSIXct(date_time, format =\"%m/%d/%Y %I:%M:%S %p\" , tz=Sys.timezone()))"
   ]
  },
  {
   "cell_type": "code",
   "execution_count": 10,
   "id": "1356bcff",
   "metadata": {
    "execution": {
     "iopub.execute_input": "2023-12-17T06:49:02.388366Z",
     "iopub.status.busy": "2023-12-17T06:49:02.386698Z",
     "iopub.status.idle": "2023-12-17T06:49:02.412131Z",
     "shell.execute_reply": "2023-12-17T06:49:02.410191Z"
    },
    "papermill": {
     "duration": 0.052086,
     "end_time": "2023-12-17T06:49:02.414762",
     "exception": false,
     "start_time": "2023-12-17T06:49:02.362676",
     "status": "completed"
    },
    "tags": []
   },
   "outputs": [],
   "source": [
    "#merging dataset\n",
    "daily_activity_sleep <- merge(daily_activity, daily_sleep, by=c (\"id\", \"date\"))"
   ]
  },
  {
   "cell_type": "markdown",
   "id": "8183550e",
   "metadata": {
    "papermill": {
     "duration": 0.021745,
     "end_time": "2023-12-17T06:49:02.457969",
     "exception": false,
     "start_time": "2023-12-17T06:49:02.436224",
     "status": "completed"
    },
    "tags": []
   },
   "source": [
    "Step 4: Analyse "
   ]
  },
  {
   "cell_type": "code",
   "execution_count": 11,
   "id": "a17f361c",
   "metadata": {
    "execution": {
     "iopub.execute_input": "2023-12-17T06:49:02.505656Z",
     "iopub.status.busy": "2023-12-17T06:49:02.503976Z",
     "iopub.status.idle": "2023-12-17T06:49:02.532201Z",
     "shell.execute_reply": "2023-12-17T06:49:02.530432Z"
    },
    "papermill": {
     "duration": 0.054654,
     "end_time": "2023-12-17T06:49:02.534678",
     "exception": false,
     "start_time": "2023-12-17T06:49:02.480024",
     "status": "completed"
    },
    "tags": []
   },
   "outputs": [
    {
     "data": {
      "text/plain": [
       "   totalsteps    totaldistance    sedentaryminutes    calories   \n",
       " Min.   :    0   Min.   : 0.000   Min.   :   0.0   Min.   :   0  \n",
       " 1st Qu.: 3790   1st Qu.: 2.620   1st Qu.: 729.8   1st Qu.:1828  \n",
       " Median : 7406   Median : 5.245   Median :1057.5   Median :2134  \n",
       " Mean   : 7638   Mean   : 5.490   Mean   : 991.2   Mean   :2304  \n",
       " 3rd Qu.:10727   3rd Qu.: 7.713   3rd Qu.:1229.5   3rd Qu.:2793  \n",
       " Max.   :36019   Max.   :28.030   Max.   :1440.0   Max.   :4900  "
      ]
     },
     "metadata": {},
     "output_type": "display_data"
    }
   ],
   "source": [
    "daily_activity %>%  \n",
    "  select(totalsteps,\n",
    "         totaldistance,\n",
    "         sedentaryminutes, calories) %>%\n",
    "  summary()"
   ]
  },
  {
   "cell_type": "code",
   "execution_count": 12,
   "id": "dd7278da",
   "metadata": {
    "execution": {
     "iopub.execute_input": "2023-12-17T06:49:02.582764Z",
     "iopub.status.busy": "2023-12-17T06:49:02.581078Z",
     "iopub.status.idle": "2023-12-17T06:49:04.588192Z",
     "shell.execute_reply": "2023-12-17T06:49:04.585305Z"
    },
    "papermill": {
     "duration": 2.036545,
     "end_time": "2023-12-17T06:49:04.593261",
     "exception": false,
     "start_time": "2023-12-17T06:49:02.556716",
     "status": "completed"
    },
    "tags": []
   },
   "outputs": [
    {
     "name": "stderr",
     "output_type": "stream",
     "text": [
      "\u001b[1m\u001b[22m`geom_smooth()` using method = 'loess' and formula = 'y ~ x'\n"
     ]
    },
    {
     "data": {
      "image/png": "[encoded data removed]"
     },
     "metadata": {
      "image/png": {
       "height": 420,
       "width": 420
      }
     },
     "output_type": "display_data"
    }
   ],
   "source": [
    "#plotting to see correlation\n",
    "ggplot(data = daily_activity, aes(x = totalsteps, y = calories)) + \n",
    "  geom_point() + geom_smooth() + labs(title =\"Total Steps vs. Calories\")"
   ]
  },
  {
   "cell_type": "markdown",
   "id": "ea9fd1d8",
   "metadata": {
    "papermill": {
     "duration": 0.024683,
     "end_time": "2023-12-17T06:49:04.643381",
     "exception": false,
     "start_time": "2023-12-17T06:49:04.618698",
     "status": "completed"
    },
    "tags": []
   },
   "source": [
    "Which weekday users more active"
   ]
  },
  {
   "cell_type": "code",
   "execution_count": 13,
   "id": "a12b97b5",
   "metadata": {
    "execution": {
     "iopub.execute_input": "2023-12-17T06:49:04.696406Z",
     "iopub.status.busy": "2023-12-17T06:49:04.694682Z",
     "iopub.status.idle": "2023-12-17T06:49:04.748289Z",
     "shell.execute_reply": "2023-12-17T06:49:04.746416Z"
    },
    "papermill": {
     "duration": 0.082854,
     "end_time": "2023-12-17T06:49:04.750903",
     "exception": false,
     "start_time": "2023-12-17T06:49:04.668049",
     "status": "completed"
    },
    "tags": []
   },
   "outputs": [
    {
     "data": {
      "text/html": [
       "<table class=\"dataframe\">\n",
       "<caption>A tibble: 6 × 2</caption>\n",
       "<thead>\n",
       "\t<tr><th scope=col>weekday</th><th scope=col>daily_steps</th></tr>\n",
       "\t<tr><th scope=col>&lt;ord&gt;</th><th scope=col>&lt;dbl&gt;</th></tr>\n",
       "</thead>\n",
       "<tbody>\n",
       "\t<tr><td>Monday   </td><td>7780.867</td></tr>\n",
       "\t<tr><td>Tuesday  </td><td>8125.007</td></tr>\n",
       "\t<tr><td>Wednesday</td><td>7559.373</td></tr>\n",
       "\t<tr><td>Thursday </td><td>7405.837</td></tr>\n",
       "\t<tr><td>Friday   </td><td>7448.230</td></tr>\n",
       "\t<tr><td>Saturday </td><td>8152.976</td></tr>\n",
       "</tbody>\n",
       "</table>\n"
      ],
      "text/latex": [
       "A tibble: 6 × 2\n",
       "\\begin{tabular}{ll}\n",
       " weekday & daily\\_steps\\\\\n",
       " <ord> & <dbl>\\\\\n",
       "\\hline\n",
       "\t Monday    & 7780.867\\\\\n",
       "\t Tuesday   & 8125.007\\\\\n",
       "\t Wednesday & 7559.373\\\\\n",
       "\t Thursday  & 7405.837\\\\\n",
       "\t Friday    & 7448.230\\\\\n",
       "\t Saturday  & 8152.976\\\\\n",
       "\\end{tabular}\n"
      ],
      "text/markdown": [
       "\n",
       "A tibble: 6 × 2\n",
       "\n",
       "| weekday &lt;ord&gt; | daily_steps &lt;dbl&gt; |\n",
       "|---|---|\n",
       "| Monday    | 7780.867 |\n",
       "| Tuesday   | 8125.007 |\n",
       "| Wednesday | 7559.373 |\n",
       "| Thursday  | 7405.837 |\n",
       "| Friday    | 7448.230 |\n",
       "| Saturday  | 8152.976 |\n",
       "\n"
      ],
      "text/plain": [
       "  weekday   daily_steps\n",
       "1 Monday    7780.867   \n",
       "2 Tuesday   8125.007   \n",
       "3 Wednesday 7559.373   \n",
       "4 Thursday  7405.837   \n",
       "5 Friday    7448.230   \n",
       "6 Saturday  8152.976   "
      ]
     },
     "metadata": {},
     "output_type": "display_data"
    }
   ],
   "source": [
    "#to see what day of week more active users\n",
    "weekday_steps <- daily_activity %>%\n",
    "  mutate(weekday = weekdays(date))\n",
    "weekday_steps$weekday <-ordered(weekday_steps$weekday, levels=c(\"Monday\", \"Tuesday\", \"Wednesday\", \"Thursday\",\n",
    "                                                                \"Friday\", \"Saturday\", \"Sunday\"))\n",
    "weekday_steps <-weekday_steps %>%\n",
    "  group_by(weekday) %>%\n",
    "  summarize (daily_steps = mean(totalsteps))\n",
    "\n",
    "head(weekday_steps)"
   ]
  },
  {
   "cell_type": "code",
   "execution_count": 14,
   "id": "35af938f",
   "metadata": {
    "execution": {
     "iopub.execute_input": "2023-12-17T06:49:04.804161Z",
     "iopub.status.busy": "2023-12-17T06:49:04.802325Z",
     "iopub.status.idle": "2023-12-17T06:49:05.097860Z",
     "shell.execute_reply": "2023-12-17T06:49:05.095806Z"
    },
    "papermill": {
     "duration": 0.324566,
     "end_time": "2023-12-17T06:49:05.100543",
     "exception": false,
     "start_time": "2023-12-17T06:49:04.775977",
     "status": "completed"
    },
    "tags": []
   },
   "outputs": [
    {
     "data": {
      "image/png": "[encoded data removed]"
     },
     "metadata": {
      "image/png": {
       "height": 420,
       "width": 420
      }
     },
     "output_type": "display_data"
    }
   ],
   "source": [
    "ggplot(weekday_steps, aes(weekday, daily_steps)) +\n",
    "  geom_col(fill = \"#2D2D88\") +\n",
    "  geom_hline(yintercept = 7500) +\n",
    "  labs(title = \"Daily steps per weekday\", x= \"\", y = \"\") +\n",
    "  theme(axis.text.x = element_text(angle = 45,vjust = 0.5, hjust = 1))"
   ]
  },
  {
   "cell_type": "markdown",
   "id": "b161f0d6",
   "metadata": {
    "papermill": {
     "duration": 0.02623,
     "end_time": "2023-12-17T06:49:05.152336",
     "exception": false,
     "start_time": "2023-12-17T06:49:05.126106",
     "status": "completed"
    },
    "tags": []
   },
   "source": [
    "Which weekday users sleep well"
   ]
  },
  {
   "cell_type": "code",
   "execution_count": 15,
   "id": "a1640c56",
   "metadata": {
    "execution": {
     "iopub.execute_input": "2023-12-17T06:49:05.207458Z",
     "iopub.status.busy": "2023-12-17T06:49:05.205684Z",
     "iopub.status.idle": "2023-12-17T06:49:05.247818Z",
     "shell.execute_reply": "2023-12-17T06:49:05.245998Z"
    },
    "papermill": {
     "duration": 0.07294,
     "end_time": "2023-12-17T06:49:05.250491",
     "exception": false,
     "start_time": "2023-12-17T06:49:05.177551",
     "status": "completed"
    },
    "tags": []
   },
   "outputs": [
    {
     "data": {
      "text/html": [
       "<table class=\"dataframe\">\n",
       "<caption>A tibble: 6 × 2</caption>\n",
       "<thead>\n",
       "\t<tr><th scope=col>weekday</th><th scope=col>daily_sleep</th></tr>\n",
       "\t<tr><th scope=col>&lt;ord&gt;</th><th scope=col>&lt;dbl&gt;</th></tr>\n",
       "</thead>\n",
       "<tbody>\n",
       "\t<tr><td>Monday   </td><td>419.5000</td></tr>\n",
       "\t<tr><td>Tuesday  </td><td>404.5385</td></tr>\n",
       "\t<tr><td>Wednesday</td><td>434.6818</td></tr>\n",
       "\t<tr><td>Thursday </td><td>401.2969</td></tr>\n",
       "\t<tr><td>Friday   </td><td>405.4211</td></tr>\n",
       "\t<tr><td>Saturday </td><td>419.0702</td></tr>\n",
       "</tbody>\n",
       "</table>\n"
      ],
      "text/latex": [
       "A tibble: 6 × 2\n",
       "\\begin{tabular}{ll}\n",
       " weekday & daily\\_sleep\\\\\n",
       " <ord> & <dbl>\\\\\n",
       "\\hline\n",
       "\t Monday    & 419.5000\\\\\n",
       "\t Tuesday   & 404.5385\\\\\n",
       "\t Wednesday & 434.6818\\\\\n",
       "\t Thursday  & 401.2969\\\\\n",
       "\t Friday    & 405.4211\\\\\n",
       "\t Saturday  & 419.0702\\\\\n",
       "\\end{tabular}\n"
      ],
      "text/markdown": [
       "\n",
       "A tibble: 6 × 2\n",
       "\n",
       "| weekday &lt;ord&gt; | daily_sleep &lt;dbl&gt; |\n",
       "|---|---|\n",
       "| Monday    | 419.5000 |\n",
       "| Tuesday   | 404.5385 |\n",
       "| Wednesday | 434.6818 |\n",
       "| Thursday  | 401.2969 |\n",
       "| Friday    | 405.4211 |\n",
       "| Saturday  | 419.0702 |\n",
       "\n"
      ],
      "text/plain": [
       "  weekday   daily_sleep\n",
       "1 Monday    419.5000   \n",
       "2 Tuesday   404.5385   \n",
       "3 Wednesday 434.6818   \n",
       "4 Thursday  401.2969   \n",
       "5 Friday    405.4211   \n",
       "6 Saturday  419.0702   "
      ]
     },
     "metadata": {},
     "output_type": "display_data"
    }
   ],
   "source": [
    "#sleep per weekday\n",
    "weekday_sleep <- daily_sleep %>%\n",
    "  mutate(weekday = weekdays(date))\n",
    "weekday_sleep$weekday <-ordered(weekday_sleep$weekday, levels=c(\"Monday\", \"Tuesday\", \"Wednesday\", \"Thursday\",\n",
    "                                                                \"Friday\", \"Saturday\", \"Sunday\"))\n",
    "\n",
    "weekday_sleep <-weekday_sleep %>%\n",
    "  group_by(weekday) %>%\n",
    "  summarize (daily_sleep = mean(totalminutesasleep))\n",
    "\n",
    "head(weekday_sleep)"
   ]
  },
  {
   "cell_type": "code",
   "execution_count": 16,
   "id": "9dd4d0c4",
   "metadata": {
    "execution": {
     "iopub.execute_input": "2023-12-17T06:49:05.305418Z",
     "iopub.status.busy": "2023-12-17T06:49:05.303552Z",
     "iopub.status.idle": "2023-12-17T06:49:05.634300Z",
     "shell.execute_reply": "2023-12-17T06:49:05.632126Z"
    },
    "papermill": {
     "duration": 0.360818,
     "end_time": "2023-12-17T06:49:05.637021",
     "exception": false,
     "start_time": "2023-12-17T06:49:05.276203",
     "status": "completed"
    },
    "tags": []
   },
   "outputs": [
    {
     "data": {
      "image/png": "[encoded data removed]"
     },
     "metadata": {
      "image/png": {
       "height": 420,
       "width": 420
      }
     },
     "output_type": "display_data"
    }
   ],
   "source": [
    "ggplot(weekday_sleep, aes(weekday, daily_sleep)) +\n",
    "  geom_col(fill = \"#db5000\") +\n",
    "  geom_hline(yintercept = 480) +\n",
    "  labs(title = \"Minutes asleep per weekday\", x= \"\", y = \"\") +\n",
    "  theme(axis.text.x = element_text(angle = 45,vjust = 0.5, hjust = 1))"
   ]
  },
  {
   "cell_type": "markdown",
   "id": "c3a3a276",
   "metadata": {
    "papermill": {
     "duration": 0.02607,
     "end_time": "2023-12-17T06:49:05.690530",
     "exception": false,
     "start_time": "2023-12-17T06:49:05.664460",
     "status": "completed"
    },
    "tags": []
   },
   "source": [
    "We conclude that users don’t take the recommended amount of sleep of 8 hours but take recommended number of 7500 steps a day excepts for Sundays"
   ]
  },
  {
   "cell_type": "markdown",
   "id": "9e2fbefe",
   "metadata": {
    "papermill": {
     "duration": 0.060755,
     "end_time": "2023-12-17T06:49:05.777348",
     "exception": false,
     "start_time": "2023-12-17T06:49:05.716593",
     "status": "completed"
    },
    "tags": []
   },
   "source": [
    "Hourly intensity in a day"
   ]
  },
  {
   "cell_type": "code",
   "execution_count": 17,
   "id": "47f77b2d",
   "metadata": {
    "execution": {
     "iopub.execute_input": "2023-12-17T06:49:05.833005Z",
     "iopub.status.busy": "2023-12-17T06:49:05.831090Z",
     "iopub.status.idle": "2023-12-17T06:49:06.327675Z",
     "shell.execute_reply": "2023-12-17T06:49:06.325733Z"
    },
    "papermill": {
     "duration": 0.527201,
     "end_time": "2023-12-17T06:49:06.330279",
     "exception": false,
     "start_time": "2023-12-17T06:49:05.803078",
     "status": "completed"
    },
    "tags": []
   },
   "outputs": [
    {
     "data": {
      "text/html": [
       "<table class=\"dataframe\">\n",
       "<caption>A data.frame: 6 × 5</caption>\n",
       "<thead>\n",
       "\t<tr><th></th><th scope=col>id</th><th scope=col>date</th><th scope=col>time</th><th scope=col>totalintensity</th><th scope=col>averageintensity</th></tr>\n",
       "\t<tr><th></th><th scope=col>&lt;dbl&gt;</th><th scope=col>&lt;chr&gt;</th><th scope=col>&lt;chr&gt;</th><th scope=col>&lt;int&gt;</th><th scope=col>&lt;dbl&gt;</th></tr>\n",
       "</thead>\n",
       "<tbody>\n",
       "\t<tr><th scope=row>1</th><td>1503960366</td><td>2016-04-12</td><td>00:00:00</td><td>20</td><td>0.333333</td></tr>\n",
       "\t<tr><th scope=row>2</th><td>1503960366</td><td>2016-04-12</td><td>01:00:00</td><td> 8</td><td>0.133333</td></tr>\n",
       "\t<tr><th scope=row>3</th><td>1503960366</td><td>2016-04-12</td><td>02:00:00</td><td> 7</td><td>0.116667</td></tr>\n",
       "\t<tr><th scope=row>4</th><td>1503960366</td><td>2016-04-12</td><td>03:00:00</td><td> 0</td><td>0.000000</td></tr>\n",
       "\t<tr><th scope=row>5</th><td>1503960366</td><td>2016-04-12</td><td>04:00:00</td><td> 0</td><td>0.000000</td></tr>\n",
       "\t<tr><th scope=row>6</th><td>1503960366</td><td>2016-04-12</td><td>05:00:00</td><td> 0</td><td>0.000000</td></tr>\n",
       "</tbody>\n",
       "</table>\n"
      ],
      "text/latex": [
       "A data.frame: 6 × 5\n",
       "\\begin{tabular}{r|lllll}\n",
       "  & id & date & time & totalintensity & averageintensity\\\\\n",
       "  & <dbl> & <chr> & <chr> & <int> & <dbl>\\\\\n",
       "\\hline\n",
       "\t1 & 1503960366 & 2016-04-12 & 00:00:00 & 20 & 0.333333\\\\\n",
       "\t2 & 1503960366 & 2016-04-12 & 01:00:00 &  8 & 0.133333\\\\\n",
       "\t3 & 1503960366 & 2016-04-12 & 02:00:00 &  7 & 0.116667\\\\\n",
       "\t4 & 1503960366 & 2016-04-12 & 03:00:00 &  0 & 0.000000\\\\\n",
       "\t5 & 1503960366 & 2016-04-12 & 04:00:00 &  0 & 0.000000\\\\\n",
       "\t6 & 1503960366 & 2016-04-12 & 05:00:00 &  0 & 0.000000\\\\\n",
       "\\end{tabular}\n"
      ],
      "text/markdown": [
       "\n",
       "A data.frame: 6 × 5\n",
       "\n",
       "| <!--/--> | id &lt;dbl&gt; | date &lt;chr&gt; | time &lt;chr&gt; | totalintensity &lt;int&gt; | averageintensity &lt;dbl&gt; |\n",
       "|---|---|---|---|---|---|\n",
       "| 1 | 1503960366 | 2016-04-12 | 00:00:00 | 20 | 0.333333 |\n",
       "| 2 | 1503960366 | 2016-04-12 | 01:00:00 |  8 | 0.133333 |\n",
       "| 3 | 1503960366 | 2016-04-12 | 02:00:00 |  7 | 0.116667 |\n",
       "| 4 | 1503960366 | 2016-04-12 | 03:00:00 |  0 | 0.000000 |\n",
       "| 5 | 1503960366 | 2016-04-12 | 04:00:00 |  0 | 0.000000 |\n",
       "| 6 | 1503960366 | 2016-04-12 | 05:00:00 |  0 | 0.000000 |\n",
       "\n"
      ],
      "text/plain": [
       "  id         date       time     totalintensity averageintensity\n",
       "1 1503960366 2016-04-12 00:00:00 20             0.333333        \n",
       "2 1503960366 2016-04-12 01:00:00  8             0.133333        \n",
       "3 1503960366 2016-04-12 02:00:00  7             0.116667        \n",
       "4 1503960366 2016-04-12 03:00:00  0             0.000000        \n",
       "5 1503960366 2016-04-12 04:00:00  0             0.000000        \n",
       "6 1503960366 2016-04-12 05:00:00  0             0.000000        "
      ]
     },
     "metadata": {},
     "output_type": "display_data"
    }
   ],
   "source": [
    "#hourly intensities in a day\n",
    "hourly_intensities <- hourly_intensities %>%\n",
    "  separate(date_time, into = c(\"date\", \"time\"), sep= \" \") \n",
    "\n",
    "head(hourly_intensities)\n",
    "\n"
   ]
  },
  {
   "cell_type": "code",
   "execution_count": 18,
   "id": "29c8a385",
   "metadata": {
    "execution": {
     "iopub.execute_input": "2023-12-17T06:49:06.387754Z",
     "iopub.status.busy": "2023-12-17T06:49:06.386004Z",
     "iopub.status.idle": "2023-12-17T06:49:06.427551Z",
     "shell.execute_reply": "2023-12-17T06:49:06.425580Z"
    },
    "papermill": {
     "duration": 0.07352,
     "end_time": "2023-12-17T06:49:06.430231",
     "exception": false,
     "start_time": "2023-12-17T06:49:06.356711",
     "status": "completed"
    },
    "tags": []
   },
   "outputs": [
    {
     "data": {
      "text/html": [
       "<table class=\"dataframe\">\n",
       "<caption>A tibble: 6 × 2</caption>\n",
       "<thead>\n",
       "\t<tr><th scope=col>time</th><th scope=col>mean_total_int</th></tr>\n",
       "\t<tr><th scope=col>&lt;chr&gt;</th><th scope=col>&lt;dbl&gt;</th></tr>\n",
       "</thead>\n",
       "<tbody>\n",
       "\t<tr><td>00:00:00</td><td>2.1295503</td></tr>\n",
       "\t<tr><td>01:00:00</td><td>1.4190782</td></tr>\n",
       "\t<tr><td>02:00:00</td><td>1.0439443</td></tr>\n",
       "\t<tr><td>03:00:00</td><td>0.4437299</td></tr>\n",
       "\t<tr><td>04:00:00</td><td>0.6330472</td></tr>\n",
       "\t<tr><td>05:00:00</td><td>4.9506438</td></tr>\n",
       "</tbody>\n",
       "</table>\n"
      ],
      "text/latex": [
       "A tibble: 6 × 2\n",
       "\\begin{tabular}{ll}\n",
       " time & mean\\_total\\_int\\\\\n",
       " <chr> & <dbl>\\\\\n",
       "\\hline\n",
       "\t 00:00:00 & 2.1295503\\\\\n",
       "\t 01:00:00 & 1.4190782\\\\\n",
       "\t 02:00:00 & 1.0439443\\\\\n",
       "\t 03:00:00 & 0.4437299\\\\\n",
       "\t 04:00:00 & 0.6330472\\\\\n",
       "\t 05:00:00 & 4.9506438\\\\\n",
       "\\end{tabular}\n"
      ],
      "text/markdown": [
       "\n",
       "A tibble: 6 × 2\n",
       "\n",
       "| time &lt;chr&gt; | mean_total_int &lt;dbl&gt; |\n",
       "|---|---|\n",
       "| 00:00:00 | 2.1295503 |\n",
       "| 01:00:00 | 1.4190782 |\n",
       "| 02:00:00 | 1.0439443 |\n",
       "| 03:00:00 | 0.4437299 |\n",
       "| 04:00:00 | 0.6330472 |\n",
       "| 05:00:00 | 4.9506438 |\n",
       "\n"
      ],
      "text/plain": [
       "  time     mean_total_int\n",
       "1 00:00:00 2.1295503     \n",
       "2 01:00:00 1.4190782     \n",
       "3 02:00:00 1.0439443     \n",
       "4 03:00:00 0.4437299     \n",
       "5 04:00:00 0.6330472     \n",
       "6 05:00:00 4.9506438     "
      ]
     },
     "metadata": {},
     "output_type": "display_data"
    }
   ],
   "source": [
    "hourly_intensities <- hourly_intensities %>%\n",
    "  group_by(time) %>%\n",
    "  drop_na() %>%\n",
    "  summarise(mean_total_int = mean(totalintensity))\n",
    "\n",
    "head(hourly_intensities)"
   ]
  },
  {
   "cell_type": "code",
   "execution_count": 19,
   "id": "cd16fe5e",
   "metadata": {
    "execution": {
     "iopub.execute_input": "2023-12-17T06:49:06.488018Z",
     "iopub.status.busy": "2023-12-17T06:49:06.486248Z",
     "iopub.status.idle": "2023-12-17T06:49:06.852463Z",
     "shell.execute_reply": "2023-12-17T06:49:06.850393Z"
    },
    "papermill": {
     "duration": 0.397662,
     "end_time": "2023-12-17T06:49:06.855033",
     "exception": false,
     "start_time": "2023-12-17T06:49:06.457371",
     "status": "completed"
    },
    "tags": []
   },
   "outputs": [
    {
     "name": "stderr",
     "output_type": "stream",
     "text": [
      "Warning message in geom_histogram(stat = \"identity\", fill = \"red\"):\n",
      "“\u001b[1m\u001b[22mIgnoring unknown parameters: `binwidth`, `bins`, and `pad`”\n"
     ]
    },
    {
     "data": {
      "image/png": "[encoded data removed]"
     },
     "metadata": {
      "image/png": {
       "height": 420,
       "width": 420
      }
     },
     "output_type": "display_data"
    }
   ],
   "source": [
    "ggplot(data = hourly_intensities, aes(x = time, y = mean_total_int)) + geom_histogram(stat = \"identity\", fill='red') +\n",
    "  theme(axis.text.x = element_text(angle = 90)) +\n",
    "  labs(title=\"Average Total Intensity vs. Time\")"
   ]
  },
  {
   "cell_type": "markdown",
   "id": "40c6fbc8",
   "metadata": {
    "papermill": {
     "duration": 0.028439,
     "end_time": "2023-12-17T06:49:06.912113",
     "exception": false,
     "start_time": "2023-12-17T06:49:06.883674",
     "status": "completed"
    },
    "tags": []
   },
   "source": [
    "So we can say that people are more active between 5am and 11pm.\n",
    "Highest intensities during 5 pm and 7 pm. Maybe they go to the gym or excersize in this part of the day. "
   ]
  },
  {
   "cell_type": "markdown",
   "id": "1cba2833",
   "metadata": {
    "papermill": {
     "duration": 0.031532,
     "end_time": "2023-12-17T06:49:06.970840",
     "exception": false,
     "start_time": "2023-12-17T06:49:06.939308",
     "status": "completed"
    },
    "tags": []
   },
   "source": [
    "Hourly steps in a day"
   ]
  },
  {
   "cell_type": "code",
   "execution_count": 20,
   "id": "1167d84c",
   "metadata": {
    "execution": {
     "iopub.execute_input": "2023-12-17T06:49:07.034220Z",
     "iopub.status.busy": "2023-12-17T06:49:07.032446Z",
     "iopub.status.idle": "2023-12-17T06:49:07.510845Z",
     "shell.execute_reply": "2023-12-17T06:49:07.508863Z"
    },
    "papermill": {
     "duration": 0.510383,
     "end_time": "2023-12-17T06:49:07.513603",
     "exception": false,
     "start_time": "2023-12-17T06:49:07.003220",
     "status": "completed"
    },
    "tags": []
   },
   "outputs": [
    {
     "data": {
      "text/html": [
       "<table class=\"dataframe\">\n",
       "<caption>A data.frame: 6 × 4</caption>\n",
       "<thead>\n",
       "\t<tr><th></th><th scope=col>id</th><th scope=col>date</th><th scope=col>time</th><th scope=col>steptotal</th></tr>\n",
       "\t<tr><th></th><th scope=col>&lt;dbl&gt;</th><th scope=col>&lt;date&gt;</th><th scope=col>&lt;chr&gt;</th><th scope=col>&lt;int&gt;</th></tr>\n",
       "</thead>\n",
       "<tbody>\n",
       "\t<tr><th scope=row>1</th><td>1503960366</td><td>2016-04-12</td><td>00:00:00</td><td>373</td></tr>\n",
       "\t<tr><th scope=row>2</th><td>1503960366</td><td>2016-04-12</td><td>01:00:00</td><td>160</td></tr>\n",
       "\t<tr><th scope=row>3</th><td>1503960366</td><td>2016-04-12</td><td>02:00:00</td><td>151</td></tr>\n",
       "\t<tr><th scope=row>4</th><td>1503960366</td><td>2016-04-12</td><td>03:00:00</td><td>  0</td></tr>\n",
       "\t<tr><th scope=row>5</th><td>1503960366</td><td>2016-04-12</td><td>04:00:00</td><td>  0</td></tr>\n",
       "\t<tr><th scope=row>6</th><td>1503960366</td><td>2016-04-12</td><td>05:00:00</td><td>  0</td></tr>\n",
       "</tbody>\n",
       "</table>\n"
      ],
      "text/latex": [
       "A data.frame: 6 × 4\n",
       "\\begin{tabular}{r|llll}\n",
       "  & id & date & time & steptotal\\\\\n",
       "  & <dbl> & <date> & <chr> & <int>\\\\\n",
       "\\hline\n",
       "\t1 & 1503960366 & 2016-04-12 & 00:00:00 & 373\\\\\n",
       "\t2 & 1503960366 & 2016-04-12 & 01:00:00 & 160\\\\\n",
       "\t3 & 1503960366 & 2016-04-12 & 02:00:00 & 151\\\\\n",
       "\t4 & 1503960366 & 2016-04-12 & 03:00:00 &   0\\\\\n",
       "\t5 & 1503960366 & 2016-04-12 & 04:00:00 &   0\\\\\n",
       "\t6 & 1503960366 & 2016-04-12 & 05:00:00 &   0\\\\\n",
       "\\end{tabular}\n"
      ],
      "text/markdown": [
       "\n",
       "A data.frame: 6 × 4\n",
       "\n",
       "| <!--/--> | id &lt;dbl&gt; | date &lt;date&gt; | time &lt;chr&gt; | steptotal &lt;int&gt; |\n",
       "|---|---|---|---|---|\n",
       "| 1 | 1503960366 | 2016-04-12 | 00:00:00 | 373 |\n",
       "| 2 | 1503960366 | 2016-04-12 | 01:00:00 | 160 |\n",
       "| 3 | 1503960366 | 2016-04-12 | 02:00:00 | 151 |\n",
       "| 4 | 1503960366 | 2016-04-12 | 03:00:00 |   0 |\n",
       "| 5 | 1503960366 | 2016-04-12 | 04:00:00 |   0 |\n",
       "| 6 | 1503960366 | 2016-04-12 | 05:00:00 |   0 |\n",
       "\n"
      ],
      "text/plain": [
       "  id         date       time     steptotal\n",
       "1 1503960366 2016-04-12 00:00:00 373      \n",
       "2 1503960366 2016-04-12 01:00:00 160      \n",
       "3 1503960366 2016-04-12 02:00:00 151      \n",
       "4 1503960366 2016-04-12 03:00:00   0      \n",
       "5 1503960366 2016-04-12 04:00:00   0      \n",
       "6 1503960366 2016-04-12 05:00:00   0      "
      ]
     },
     "metadata": {},
     "output_type": "display_data"
    }
   ],
   "source": [
    "hourly_steps <- hourly_steps %>%\n",
    "  separate(date_time, into = c(\"date\", \"time\"), sep= \" \") %>%\n",
    "  mutate(date = ymd(date)) \n",
    "\n",
    "head(hourly_steps)"
   ]
  },
  {
   "cell_type": "code",
   "execution_count": 21,
   "id": "e669886c",
   "metadata": {
    "execution": {
     "iopub.execute_input": "2023-12-17T06:49:07.573759Z",
     "iopub.status.busy": "2023-12-17T06:49:07.571968Z",
     "iopub.status.idle": "2023-12-17T06:49:07.612879Z",
     "shell.execute_reply": "2023-12-17T06:49:07.610856Z"
    },
    "papermill": {
     "duration": 0.073825,
     "end_time": "2023-12-17T06:49:07.615482",
     "exception": false,
     "start_time": "2023-12-17T06:49:07.541657",
     "status": "completed"
    },
    "tags": []
   },
   "outputs": [
    {
     "data": {
      "text/html": [
       "<table class=\"dataframe\">\n",
       "<caption>A tibble: 24 × 2</caption>\n",
       "<thead>\n",
       "\t<tr><th scope=col>time</th><th scope=col>average_steps</th></tr>\n",
       "\t<tr><th scope=col>&lt;chr&gt;</th><th scope=col>&lt;dbl&gt;</th></tr>\n",
       "</thead>\n",
       "<tbody>\n",
       "\t<tr><td>00:00:00</td><td> 42.188437</td></tr>\n",
       "\t<tr><td>01:00:00</td><td> 23.102894</td></tr>\n",
       "\t<tr><td>02:00:00</td><td> 17.110397</td></tr>\n",
       "\t<tr><td>03:00:00</td><td>  6.426581</td></tr>\n",
       "\t<tr><td>04:00:00</td><td> 12.699571</td></tr>\n",
       "\t<tr><td>05:00:00</td><td> 43.869099</td></tr>\n",
       "\t<tr><td>06:00:00</td><td>178.508056</td></tr>\n",
       "\t<tr><td>07:00:00</td><td>306.049409</td></tr>\n",
       "\t<tr><td>08:00:00</td><td>427.544576</td></tr>\n",
       "\t<tr><td>09:00:00</td><td>433.301826</td></tr>\n",
       "\t<tr><td>10:00:00</td><td>481.665231</td></tr>\n",
       "\t<tr><td>11:00:00</td><td>456.886731</td></tr>\n",
       "\t<tr><td>12:00:00</td><td>548.642082</td></tr>\n",
       "\t<tr><td>13:00:00</td><td>537.698154</td></tr>\n",
       "\t<tr><td>14:00:00</td><td>540.513572</td></tr>\n",
       "\t<tr><td>15:00:00</td><td>406.319126</td></tr>\n",
       "\t<tr><td>16:00:00</td><td>496.845645</td></tr>\n",
       "\t<tr><td>17:00:00</td><td>550.232892</td></tr>\n",
       "\t<tr><td>18:00:00</td><td>599.169978</td></tr>\n",
       "\t<tr><td>19:00:00</td><td>583.390728</td></tr>\n",
       "\t<tr><td>20:00:00</td><td>353.905077</td></tr>\n",
       "\t<tr><td>21:00:00</td><td>308.138122</td></tr>\n",
       "\t<tr><td>22:00:00</td><td>237.987832</td></tr>\n",
       "\t<tr><td>23:00:00</td><td>122.132890</td></tr>\n",
       "</tbody>\n",
       "</table>\n"
      ],
      "text/latex": [
       "A tibble: 24 × 2\n",
       "\\begin{tabular}{ll}\n",
       " time & average\\_steps\\\\\n",
       " <chr> & <dbl>\\\\\n",
       "\\hline\n",
       "\t 00:00:00 &  42.188437\\\\\n",
       "\t 01:00:00 &  23.102894\\\\\n",
       "\t 02:00:00 &  17.110397\\\\\n",
       "\t 03:00:00 &   6.426581\\\\\n",
       "\t 04:00:00 &  12.699571\\\\\n",
       "\t 05:00:00 &  43.869099\\\\\n",
       "\t 06:00:00 & 178.508056\\\\\n",
       "\t 07:00:00 & 306.049409\\\\\n",
       "\t 08:00:00 & 427.544576\\\\\n",
       "\t 09:00:00 & 433.301826\\\\\n",
       "\t 10:00:00 & 481.665231\\\\\n",
       "\t 11:00:00 & 456.886731\\\\\n",
       "\t 12:00:00 & 548.642082\\\\\n",
       "\t 13:00:00 & 537.698154\\\\\n",
       "\t 14:00:00 & 540.513572\\\\\n",
       "\t 15:00:00 & 406.319126\\\\\n",
       "\t 16:00:00 & 496.845645\\\\\n",
       "\t 17:00:00 & 550.232892\\\\\n",
       "\t 18:00:00 & 599.169978\\\\\n",
       "\t 19:00:00 & 583.390728\\\\\n",
       "\t 20:00:00 & 353.905077\\\\\n",
       "\t 21:00:00 & 308.138122\\\\\n",
       "\t 22:00:00 & 237.987832\\\\\n",
       "\t 23:00:00 & 122.132890\\\\\n",
       "\\end{tabular}\n"
      ],
      "text/markdown": [
       "\n",
       "A tibble: 24 × 2\n",
       "\n",
       "| time &lt;chr&gt; | average_steps &lt;dbl&gt; |\n",
       "|---|---|\n",
       "| 00:00:00 |  42.188437 |\n",
       "| 01:00:00 |  23.102894 |\n",
       "| 02:00:00 |  17.110397 |\n",
       "| 03:00:00 |   6.426581 |\n",
       "| 04:00:00 |  12.699571 |\n",
       "| 05:00:00 |  43.869099 |\n",
       "| 06:00:00 | 178.508056 |\n",
       "| 07:00:00 | 306.049409 |\n",
       "| 08:00:00 | 427.544576 |\n",
       "| 09:00:00 | 433.301826 |\n",
       "| 10:00:00 | 481.665231 |\n",
       "| 11:00:00 | 456.886731 |\n",
       "| 12:00:00 | 548.642082 |\n",
       "| 13:00:00 | 537.698154 |\n",
       "| 14:00:00 | 540.513572 |\n",
       "| 15:00:00 | 406.319126 |\n",
       "| 16:00:00 | 496.845645 |\n",
       "| 17:00:00 | 550.232892 |\n",
       "| 18:00:00 | 599.169978 |\n",
       "| 19:00:00 | 583.390728 |\n",
       "| 20:00:00 | 353.905077 |\n",
       "| 21:00:00 | 308.138122 |\n",
       "| 22:00:00 | 237.987832 |\n",
       "| 23:00:00 | 122.132890 |\n",
       "\n"
      ],
      "text/plain": [
       "   time     average_steps\n",
       "1  00:00:00  42.188437   \n",
       "2  01:00:00  23.102894   \n",
       "3  02:00:00  17.110397   \n",
       "4  03:00:00   6.426581   \n",
       "5  04:00:00  12.699571   \n",
       "6  05:00:00  43.869099   \n",
       "7  06:00:00 178.508056   \n",
       "8  07:00:00 306.049409   \n",
       "9  08:00:00 427.544576   \n",
       "10 09:00:00 433.301826   \n",
       "11 10:00:00 481.665231   \n",
       "12 11:00:00 456.886731   \n",
       "13 12:00:00 548.642082   \n",
       "14 13:00:00 537.698154   \n",
       "15 14:00:00 540.513572   \n",
       "16 15:00:00 406.319126   \n",
       "17 16:00:00 496.845645   \n",
       "18 17:00:00 550.232892   \n",
       "19 18:00:00 599.169978   \n",
       "20 19:00:00 583.390728   \n",
       "21 20:00:00 353.905077   \n",
       "22 21:00:00 308.138122   \n",
       "23 22:00:00 237.987832   \n",
       "24 23:00:00 122.132890   "
      ]
     },
     "metadata": {},
     "output_type": "display_data"
    }
   ],
   "source": [
    "hourly_steps %>%\n",
    "  group_by(time) %>%\n",
    "  summarize(average_steps = mean(steptotal))"
   ]
  },
  {
   "cell_type": "code",
   "execution_count": 22,
   "id": "82b59b36",
   "metadata": {
    "execution": {
     "iopub.execute_input": "2023-12-17T06:49:07.675231Z",
     "iopub.status.busy": "2023-12-17T06:49:07.673386Z",
     "iopub.status.idle": "2023-12-17T06:49:08.022269Z",
     "shell.execute_reply": "2023-12-17T06:49:08.019870Z"
    },
    "papermill": {
     "duration": 0.384056,
     "end_time": "2023-12-17T06:49:08.027214",
     "exception": false,
     "start_time": "2023-12-17T06:49:07.643158",
     "status": "completed"
    },
    "tags": []
   },
   "outputs": [
    {
     "data": {
      "image/png": "[encoded data removed]"
     },
     "metadata": {
      "image/png": {
       "height": 420,
       "width": 420
      }
     },
     "output_type": "display_data"
    }
   ],
   "source": [
    "hourly_steps %>%\n",
    "  group_by(time) %>%\n",
    "  summarize(average_steps = mean(steptotal)) %>%\n",
    "  ggplot() +\n",
    "  geom_col(mapping = aes(x=time, y = average_steps, fill = average_steps)) + \n",
    "  labs(title = \"Hourly steps throughout the day\", x=\"\", y=\"\") + \n",
    "  scale_fill_gradient(low = \"red\", high = \"blue\")+\n",
    "  theme(axis.text.x = element_text(angle = 90))"
   ]
  },
  {
   "cell_type": "markdown",
   "id": "8bc7a731",
   "metadata": {
    "papermill": {
     "duration": 0.029336,
     "end_time": "2023-12-17T06:49:08.101900",
     "exception": false,
     "start_time": "2023-12-17T06:49:08.072564",
     "status": "completed"
    },
    "tags": []
   },
   "source": [
    "Most steps taken by women during 12pm-2pm during their break probably and after work ends during 5pm-7pm"
   ]
  },
  {
   "cell_type": "markdown",
   "id": "bd514981",
   "metadata": {
    "papermill": {
     "duration": 0.033374,
     "end_time": "2023-12-17T06:49:08.164087",
     "exception": false,
     "start_time": "2023-12-17T06:49:08.130713",
     "status": "completed"
    },
    "tags": []
   },
   "source": [
    "Calculating the number of users that use their smart device on a daily basis, classifying our sample into three categories knowing that the duration of the survey is 31 days:\n",
    "\n",
    "High user — users who use their device for 21–31 days\n",
    "Moderate user — users who use their device for 10–20 days\n",
    "Low user — users who use their device for 1–10 days"
   ]
  },
  {
   "cell_type": "code",
   "execution_count": 23,
   "id": "3908c2a6",
   "metadata": {
    "execution": {
     "iopub.execute_input": "2023-12-17T06:49:08.229690Z",
     "iopub.status.busy": "2023-12-17T06:49:08.226948Z",
     "iopub.status.idle": "2023-12-17T06:49:08.273479Z",
     "shell.execute_reply": "2023-12-17T06:49:08.270956Z"
    },
    "papermill": {
     "duration": 0.082414,
     "end_time": "2023-12-17T06:49:08.276514",
     "exception": false,
     "start_time": "2023-12-17T06:49:08.194100",
     "status": "completed"
    },
    "tags": []
   },
   "outputs": [
    {
     "data": {
      "text/html": [
       "<table class=\"dataframe\">\n",
       "<caption>A tibble: 6 × 3</caption>\n",
       "<thead>\n",
       "\t<tr><th scope=col>id</th><th scope=col>days_used</th><th scope=col>user_type</th></tr>\n",
       "\t<tr><th scope=col>&lt;dbl&gt;</th><th scope=col>&lt;int&gt;</th><th scope=col>&lt;chr&gt;</th></tr>\n",
       "</thead>\n",
       "<tbody>\n",
       "\t<tr><td>1503960366</td><td>25</td><td>high user</td></tr>\n",
       "\t<tr><td>1644430081</td><td> 4</td><td>low user </td></tr>\n",
       "\t<tr><td>1844505072</td><td> 3</td><td>low user </td></tr>\n",
       "\t<tr><td>1927972279</td><td> 5</td><td>low user </td></tr>\n",
       "\t<tr><td>2026352035</td><td>28</td><td>high user</td></tr>\n",
       "\t<tr><td>2320127002</td><td> 1</td><td>low user </td></tr>\n",
       "</tbody>\n",
       "</table>\n"
      ],
      "text/latex": [
       "A tibble: 6 × 3\n",
       "\\begin{tabular}{lll}\n",
       " id & days\\_used & user\\_type\\\\\n",
       " <dbl> & <int> & <chr>\\\\\n",
       "\\hline\n",
       "\t 1503960366 & 25 & high user\\\\\n",
       "\t 1644430081 &  4 & low user \\\\\n",
       "\t 1844505072 &  3 & low user \\\\\n",
       "\t 1927972279 &  5 & low user \\\\\n",
       "\t 2026352035 & 28 & high user\\\\\n",
       "\t 2320127002 &  1 & low user \\\\\n",
       "\\end{tabular}\n"
      ],
      "text/markdown": [
       "\n",
       "A tibble: 6 × 3\n",
       "\n",
       "| id &lt;dbl&gt; | days_used &lt;int&gt; | user_type &lt;chr&gt; |\n",
       "|---|---|---|\n",
       "| 1503960366 | 25 | high user |\n",
       "| 1644430081 |  4 | low user  |\n",
       "| 1844505072 |  3 | low user  |\n",
       "| 1927972279 |  5 | low user  |\n",
       "| 2026352035 | 28 | high user |\n",
       "| 2320127002 |  1 | low user  |\n",
       "\n"
      ],
      "text/plain": [
       "  id         days_used user_type\n",
       "1 1503960366 25        high user\n",
       "2 1644430081  4        low user \n",
       "3 1844505072  3        low user \n",
       "4 1927972279  5        low user \n",
       "5 2026352035 28        high user\n",
       "6 2320127002  1        low user "
      ]
     },
     "metadata": {},
     "output_type": "display_data"
    }
   ],
   "source": [
    "daily_use <- daily_activity_sleep %>%\n",
    "  group_by(id) %>%\n",
    "  summarize(days_used=sum(n())) %>%\n",
    "  mutate(user_type= case_when(\n",
    "    days_used >= 1 & days_used <= 10 ~ \"low user\",\n",
    "    days_used >= 11 & days_used <= 20 ~ \"moderate user\", \n",
    "    days_used >= 21 & days_used <= 31 ~ \"high user\", \n",
    "  ))\n",
    "\n",
    "head(daily_use)"
   ]
  },
  {
   "cell_type": "code",
   "execution_count": 24,
   "id": "bf2e6884",
   "metadata": {
    "execution": {
     "iopub.execute_input": "2023-12-17T06:49:08.346214Z",
     "iopub.status.busy": "2023-12-17T06:49:08.343679Z",
     "iopub.status.idle": "2023-12-17T06:49:08.407474Z",
     "shell.execute_reply": "2023-12-17T06:49:08.404877Z"
    },
    "papermill": {
     "duration": 0.100522,
     "end_time": "2023-12-17T06:49:08.411501",
     "exception": false,
     "start_time": "2023-12-17T06:49:08.310979",
     "status": "completed"
    },
    "tags": []
   },
   "outputs": [
    {
     "data": {
      "text/html": [
       "<table class=\"dataframe\">\n",
       "<caption>A tibble: 3 × 3</caption>\n",
       "<thead>\n",
       "\t<tr><th scope=col>user_type</th><th scope=col>total_percent</th><th scope=col>labels</th></tr>\n",
       "\t<tr><th scope=col>&lt;fct&gt;</th><th scope=col>&lt;dbl&gt;</th><th scope=col>&lt;chr&gt;</th></tr>\n",
       "</thead>\n",
       "<tbody>\n",
       "\t<tr><td>high user    </td><td>0.500</td><td>50%</td></tr>\n",
       "\t<tr><td>low user     </td><td>0.375</td><td>38%</td></tr>\n",
       "\t<tr><td>moderate user</td><td>0.125</td><td>12%</td></tr>\n",
       "</tbody>\n",
       "</table>\n"
      ],
      "text/latex": [
       "A tibble: 3 × 3\n",
       "\\begin{tabular}{lll}\n",
       " user\\_type & total\\_percent & labels\\\\\n",
       " <fct> & <dbl> & <chr>\\\\\n",
       "\\hline\n",
       "\t high user     & 0.500 & 50\\%\\\\\n",
       "\t low user      & 0.375 & 38\\%\\\\\n",
       "\t moderate user & 0.125 & 12\\%\\\\\n",
       "\\end{tabular}\n"
      ],
      "text/markdown": [
       "\n",
       "A tibble: 3 × 3\n",
       "\n",
       "| user_type &lt;fct&gt; | total_percent &lt;dbl&gt; | labels &lt;chr&gt; |\n",
       "|---|---|---|\n",
       "| high user     | 0.500 | 50% |\n",
       "| low user      | 0.375 | 38% |\n",
       "| moderate user | 0.125 | 12% |\n",
       "\n"
      ],
      "text/plain": [
       "  user_type     total_percent labels\n",
       "1 high user     0.500         50%   \n",
       "2 low user      0.375         38%   \n",
       "3 moderate user 0.125         12%   "
      ]
     },
     "metadata": {},
     "output_type": "display_data"
    }
   ],
   "source": [
    "daily_use_percent <- daily_use %>%\n",
    "  group_by(user_type) %>%\n",
    "  summarise(total = n()) %>%\n",
    "  mutate(totals = sum(total)) %>%\n",
    "  group_by(user_type) %>%\n",
    "  summarise(total_percent = total / totals) %>%\n",
    "  mutate(labels = scales::percent(total_percent))\n",
    "\n",
    "daily_use_percent$user_type <- factor(daily_use_percent$user_type, levels = c(\"high user\", \"moderate user\", \"low user\"))\n",
    "\n",
    "head(daily_use_percent)"
   ]
  },
  {
   "cell_type": "code",
   "execution_count": 25,
   "id": "a75581a8",
   "metadata": {
    "execution": {
     "iopub.execute_input": "2023-12-17T06:49:08.488870Z",
     "iopub.status.busy": "2023-12-17T06:49:08.486954Z",
     "iopub.status.idle": "2023-12-17T06:49:08.901210Z",
     "shell.execute_reply": "2023-12-17T06:49:08.898132Z"
    },
    "papermill": {
     "duration": 0.453831,
     "end_time": "2023-12-17T06:49:08.904420",
     "exception": false,
     "start_time": "2023-12-17T06:49:08.450589",
     "status": "completed"
    },
    "tags": []
   },
   "outputs": [
    {
     "data": {
      "image/png": "[encoded data removed]"
     },
     "metadata": {
      "image/png": {
       "height": 420,
       "width": 420
      }
     },
     "output_type": "display_data"
    }
   ],
   "source": [
    "daily_use_percent %>%\n",
    "  ggplot(aes(x = \"\",y = total_percent, fill = user_type)) +\n",
    "  geom_bar(stat = \"identity\", width = 1)+\n",
    "  coord_polar(\"y\", start=0)+\n",
    "  theme_minimal()+\n",
    "  theme(axis.title.x= element_blank(),\n",
    "        axis.title.y = element_blank(),\n",
    "        panel.border = element_blank(), \n",
    "        panel.grid = element_blank(), \n",
    "        axis.ticks = element_blank(),\n",
    "        axis.text.x = element_blank(),\n",
    "        plot.title = element_text(hjust = 0.5, size=14, face = \"bold\")) +\n",
    "  geom_text(aes(label = labels),\n",
    "            position = position_stack(vjust = 0.5))+\n",
    "  scale_fill_manual(values = c( \"#d12d97\",\"#db7980\",\"#fc9fb7\"),\n",
    "                    labels = c(\"High user - 21 to 31 days\",\n",
    "                               \"Moderate user - 11 to 20 days\",\n",
    "                               \"Low user - 1 to 10 days\"))+\n",
    "  labs(title=\"Daily use of smart device\")\n"
   ]
  },
  {
   "cell_type": "markdown",
   "id": "1bee58d9",
   "metadata": {
    "papermill": {
     "duration": 0.030287,
     "end_time": "2023-12-17T06:49:08.965410",
     "exception": false,
     "start_time": "2023-12-17T06:49:08.935123",
     "status": "completed"
    },
    "tags": []
   },
   "source": [
    "**Conclusion**"
   ]
  },
  {
   "cell_type": "markdown",
   "id": "45bf62ac",
   "metadata": {
    "papermill": {
     "duration": 0.030352,
     "end_time": "2023-12-17T06:49:09.025899",
     "exception": false,
     "start_time": "2023-12-17T06:49:08.995547",
     "status": "completed"
    },
    "tags": []
   },
   "source": [
    "* So after analysing we can select our target audience as the working women professionals who try to balance their health and work schedule. \n",
    "* Then a notification on steps taken and daily sleep is recommended cause many sleep below the requirement.\n",
    "* Rewards on particular milestone achieved."
   ]
  }
 ],
 "metadata": {
  "kaggle": {
   "accelerator": "none",
   "dataSources": [
    {
     "datasetId": 1041311,
     "sourceId": 1752235,
     "sourceType": "datasetVersion"
    }
   ],
   "dockerImageVersionId": 30618,
   "isGpuEnabled": false,
   "isInternetEnabled": false,
   "language": "r",
   "sourceType": "notebook"
  },
  "kernelspec": {
   "display_name": "R",
   "language": "R",
   "name": "ir"
  },
  "language_info": {
   "codemirror_mode": "r",
   "file_extension": ".r",
   "mimetype": "text/x-r-source",
   "name": "R",
   "pygments_lexer": "r",
   "version": "4.0.5"
  },
  "papermill": {
   "default_parameters": {},
   "duration": 13.812464,
   "end_time": "2023-12-17T06:49:09.178989",
   "environment_variables": {},
   "exception": null,
   "input_path": "__notebook__.ipynb",
   "output_path": "__notebook__.ipynb",
   "parameters": {},
   "start_time": "2023-12-17T06:48:55.366525",
   "version": "2.5.0"
  }
 },
 "nbformat": 4,
 "nbformat_minor": 5
}
